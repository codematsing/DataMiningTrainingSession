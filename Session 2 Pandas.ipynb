{
 "cells": [
  {
   "cell_type": "code",
   "execution_count": 1,
   "id": "99570c11",
   "metadata": {},
   "outputs": [
    {
     "name": "stdout",
     "output_type": "stream",
     "text": [
      "Collecting pandas\n",
      "  Downloading pandas-1.4.2-cp39-cp39-manylinux_2_17_x86_64.manylinux2014_x86_64.whl (11.7 MB)\n",
      "     |████████████████████████████████| 11.7 MB 1.4 MB/s            \n",
      "\u001b[?25hRequirement already satisfied: python-dateutil>=2.8.1 in /home/sam/.local/plugins/miniconda3/lib/python3.9/site-packages (from pandas) (2.8.2)\n",
      "Collecting pytz>=2020.1\n",
      "  Downloading pytz-2022.1-py2.py3-none-any.whl (503 kB)\n",
      "     |████████████████████████████████| 503 kB 11.4 MB/s            \n",
      "\u001b[?25hCollecting numpy>=1.18.5\n",
      "  Downloading numpy-1.22.3-cp39-cp39-manylinux_2_17_x86_64.manylinux2014_x86_64.whl (16.8 MB)\n",
      "     |████████████████████████████████| 16.8 MB 11.8 MB/s            \n",
      "\u001b[?25hRequirement already satisfied: six>=1.5 in /home/sam/.local/plugins/miniconda3/lib/python3.9/site-packages (from python-dateutil>=2.8.1->pandas) (1.16.0)\n",
      "Installing collected packages: pytz, numpy, pandas\n",
      "Successfully installed numpy-1.22.3 pandas-1.4.2 pytz-2022.1\n",
      "\u001b[33mWARNING: You are using pip version 21.3.1; however, version 22.0.4 is available.\n",
      "You should consider upgrading via the '/home/sam/.local/plugins/miniconda3/bin/python -m pip install --upgrade pip' command.\u001b[0m\n",
      "Note: you may need to restart the kernel to use updated packages.\n"
     ]
    }
   ],
   "source": [
    "pip install pandas"
   ]
  },
  {
   "cell_type": "code",
   "execution_count": null,
   "id": "19a10ed5",
   "metadata": {},
   "outputs": [],
   "source": [
    "pip install matplotlib"
   ]
  },
  {
   "cell_type": "code",
   "execution_count": 3,
   "id": "fe99e2e9",
   "metadata": {},
   "outputs": [],
   "source": [
    "# Test if pandas was installed\n",
    "import pandas as pd"
   ]
  },
  {
   "cell_type": "code",
   "execution_count": 6,
   "id": "99487ca3",
   "metadata": {},
   "outputs": [],
   "source": [
    "# Importing Sales Data\n",
    "df = pd.read_csv('sales.csv')\n",
    "\n",
    "# if an error occurs, double check if sales.csv is inside your project folder where .ipynb is located"
   ]
  },
  {
   "cell_type": "code",
   "execution_count": 7,
   "id": "f753684a",
   "metadata": {},
   "outputs": [
    {
     "name": "stdout",
     "output_type": "stream",
     "text": [
      "0        Sam\n",
      "1    Charlie\n",
      "2        Amy\n",
      "3    Vanessa\n",
      "4       Carl\n",
      "5      Sarah\n",
      "Name: Person, dtype: object\n",
      "    Person  Sales\n",
      "0      Sam    200\n",
      "1  Charlie    120\n",
      "2      Amy    340\n",
      "3  Vanessa    124\n",
      "4     Carl    243\n",
      "5    Sarah    350\n"
     ]
    }
   ],
   "source": [
    "# viewing/selecting one column\n",
    "print(df['Person'])\n",
    "# viewing/selecting multiple columns\n",
    "columns_to_read = ['Person','Sales']\n",
    "print(df[columns_to_read])"
   ]
  },
  {
   "cell_type": "code",
   "execution_count": 8,
   "id": "d30c8e87",
   "metadata": {},
   "outputs": [
    {
     "name": "stdout",
     "output_type": "stream",
     "text": [
      "  Company   Person  Sales   Tax  SalesTax\n",
      "0    GOOG      Sam    200  0.12     24.00\n",
      "1    GOOG  Charlie    120  0.12     14.40\n",
      "2    MSFT      Amy    340  0.08     27.20\n",
      "3    MSFT  Vanessa    124  0.07      8.68\n",
      "4      FB     Carl    243  0.06     14.58\n",
      "5      FB    Sarah    350  0.12     42.00\n"
     ]
    }
   ],
   "source": [
    "# creating new columns\n",
    "df['SalesTax'] = df['Sales'] * df['Tax']\n",
    "print(df)"
   ]
  },
  {
   "cell_type": "code",
   "execution_count": 9,
   "id": "c05d7cda",
   "metadata": {},
   "outputs": [
    {
     "name": "stdout",
     "output_type": "stream",
     "text": [
      "  Company   Person  Sales   Tax  SalesTax\n",
      "0    GOOG      Sam    200  0.12     24.00\n",
      "1    GOOG  Charlie    120  0.12     14.40\n",
      "2    MSFT      Amy    340  0.08     27.20\n",
      "3    MSFT  Vanessa    124  0.07      8.68\n",
      "4      FB     Carl    243  0.06     14.58\n",
      "5      FB    Sarah    350  0.12     42.00\n"
     ]
    }
   ],
   "source": [
    "# creating new columns\n",
    "df['SalesTax'] = df['Sales'] * df['Tax']\n",
    "print(df)"
   ]
  },
  {
   "cell_type": "code",
   "execution_count": 10,
   "id": "e49a7251",
   "metadata": {},
   "outputs": [
    {
     "name": "stdout",
     "output_type": "stream",
     "text": [
      "  Company   Person  Sales   Tax\n",
      "0    GOOG      Sam    200  0.12\n",
      "1    GOOG  Charlie    120  0.12\n",
      "2    MSFT      Amy    340  0.08\n",
      "3    MSFT  Vanessa    124  0.07\n",
      "4      FB     Carl    243  0.06\n",
      "5      FB    Sarah    350  0.12\n"
     ]
    }
   ],
   "source": [
    "# permanently delete column\n",
    "df.drop('SalesTax',axis=1, inplace = True)\n",
    "print(df)"
   ]
  },
  {
   "cell_type": "code",
   "execution_count": 12,
   "id": "39417274",
   "metadata": {},
   "outputs": [
    {
     "name": "stdout",
     "output_type": "stream",
     "text": [
      "Company       GOOG\n",
      "Person     Charlie\n",
      "Sales          120\n",
      "Tax           0.12\n",
      "Name: 1, dtype: object\n"
     ]
    }
   ],
   "source": [
    "# Df Row Ops\n",
    "# reset df\n",
    "df = pd.read_csv(\"sales.csv\")\n",
    "\n",
    "# select second row\n",
    "print(df.iloc[1])"
   ]
  },
  {
   "cell_type": "code",
   "execution_count": 13,
   "id": "ae383608",
   "metadata": {},
   "outputs": [
    {
     "name": "stdout",
     "output_type": "stream",
     "text": [
      "  Company   Person  Sales   Tax\n",
      "2    MSFT      Amy    340  0.08\n",
      "3    MSFT  Vanessa    124  0.07\n"
     ]
    }
   ],
   "source": [
    "# select third to fourth row\n",
    "print(df.iloc[2:4])"
   ]
  },
  {
   "cell_type": "code",
   "execution_count": 14,
   "id": "9585ce12",
   "metadata": {},
   "outputs": [
    {
     "name": "stdout",
     "output_type": "stream",
     "text": [
      "  Company   Person  Sales   Tax\n",
      "0    GOOG      Sam    200  0.12\n",
      "1    GOOG  Charlie    120  0.12\n",
      "2    MSFT      Amy    340  0.08\n",
      "3    MSFT  Vanessa    124  0.07\n",
      "4      FB     Carl    243  0.06\n",
      "5      FB    Sarah    350  0.12\n"
     ]
    }
   ],
   "source": [
    "# create a new copy of df\n",
    "df2 = df.copy()\n",
    "print(df2)"
   ]
  },
  {
   "cell_type": "code",
   "execution_count": 15,
   "id": "39f1bf86",
   "metadata": {},
   "outputs": [
    {
     "name": "stdout",
     "output_type": "stream",
     "text": [
      "        Company  Sales   Tax\n",
      "Person                      \n",
      "Sam        GOOG    200  0.12\n",
      "Charlie    GOOG    120  0.12\n",
      "Amy        MSFT    340  0.08\n",
      "Vanessa    MSFT    124  0.07\n",
      "Carl         FB    243  0.06\n",
      "Sarah        FB    350  0.12\n"
     ]
    }
   ],
   "source": [
    "# make Person the Labels of Each Row\n",
    "df2.set_index(\"Person\", inplace = True)\n",
    "print(df2)"
   ]
  },
  {
   "cell_type": "code",
   "execution_count": 16,
   "id": "62c69659",
   "metadata": {},
   "outputs": [
    {
     "name": "stdout",
     "output_type": "stream",
     "text": [
      "Company    GOOG\n",
      "Person      Sam\n",
      "Sales       200\n",
      "Tax        0.12\n",
      "Name: 0, dtype: object\n",
      "Company    GOOG\n",
      "Sales       200\n",
      "Tax        0.12\n",
      "Name: Sam, dtype: object\n"
     ]
    }
   ],
   "source": [
    "# Select the row for Sam\n",
    "print(df.iloc[0])\n",
    "print(df2.loc['Sam'])"
   ]
  },
  {
   "cell_type": "code",
   "execution_count": 17,
   "id": "bf161bcf",
   "metadata": {},
   "outputs": [
    {
     "name": "stdout",
     "output_type": "stream",
     "text": [
      "       Company  Sales   Tax\n",
      "Person                     \n",
      "Sam       GOOG    200  0.12\n",
      "Amy       MSFT    340  0.08\n"
     ]
    }
   ],
   "source": [
    "# Select Rows for Sam and Amy\n",
    "print(df2.loc[['Sam','Amy']])"
   ]
  },
  {
   "cell_type": "code",
   "execution_count": 18,
   "id": "8e198a7b",
   "metadata": {},
   "outputs": [
    {
     "name": "stdout",
     "output_type": "stream",
     "text": [
      "       Company   Tax\n",
      "Person              \n",
      "Sam       GOOG  0.12\n",
      "Amy       MSFT  0.08\n"
     ]
    }
   ],
   "source": [
    "# Select Rows for Sam and Amy and\n",
    "# show only Company and Tax\n",
    "print(df2.loc[['Sam','Amy'],['Company','Tax']])"
   ]
  },
  {
   "cell_type": "code",
   "execution_count": 19,
   "id": "7e409d3b",
   "metadata": {},
   "outputs": [
    {
     "name": "stdout",
     "output_type": "stream",
     "text": [
      "0    200\n",
      "1    120\n",
      "2    340\n",
      "3    124\n",
      "4    243\n",
      "5    350\n",
      "Name: Sales, dtype: int64\n",
      "0     True\n",
      "1    False\n",
      "2     True\n",
      "3    False\n",
      "4     True\n",
      "5     True\n",
      "Name: Sales, dtype: bool\n"
     ]
    }
   ],
   "source": [
    "# identify rows of where sales > 150\n",
    "print(df['Sales'])\n",
    "print(df['Sales'] >150)"
   ]
  },
  {
   "cell_type": "code",
   "execution_count": 20,
   "id": "3ec80ddc",
   "metadata": {},
   "outputs": [
    {
     "name": "stdout",
     "output_type": "stream",
     "text": [
      "  Company Person  Sales   Tax\n",
      "0    GOOG    Sam    200  0.12\n",
      "2    MSFT    Amy    340  0.08\n",
      "4      FB   Carl    243  0.06\n",
      "5      FB  Sarah    350  0.12\n"
     ]
    }
   ],
   "source": [
    "# select rows of df where sales >150\n",
    "print(df[df['Sales'] >150])"
   ]
  },
  {
   "cell_type": "code",
   "execution_count": 22,
   "id": "57ad161e",
   "metadata": {},
   "outputs": [
    {
     "name": "stdout",
     "output_type": "stream",
     "text": [
      "  Person   Tax\n",
      "0    Sam  0.12\n",
      "2    Amy  0.08\n",
      "4   Carl  0.06\n",
      "5  Sarah  0.12\n"
     ]
    }
   ],
   "source": [
    "# select rows of df where Sales >150 and select only columns \n",
    "#Person and Tax\n",
    "print(df[df['Sales']>150][['Person', 'Tax']])"
   ]
  },
  {
   "cell_type": "code",
   "execution_count": 23,
   "id": "6749dc53",
   "metadata": {},
   "outputs": [
    {
     "name": "stdout",
     "output_type": "stream",
     "text": [
      "  Person   Tax\n",
      "4   Carl  0.06\n",
      "5  Sarah  0.12\n"
     ]
    }
   ],
   "source": [
    "# select rows of df where Sales >150 and select only rows \n",
    "#Company #= FB and select only columns Person and Tax\n",
    "print(df[(df['Sales'] >150) & (df['Company']=='FB')][['Person','Tax']])"
   ]
  },
  {
   "cell_type": "code",
   "execution_count": 24,
   "id": "c0b95098",
   "metadata": {},
   "outputs": [
    {
     "name": "stdout",
     "output_type": "stream",
     "text": [
      "Sales    229.500\n",
      "Tax        0.095\n",
      "dtype: float64\n",
      "\n",
      "\n",
      "Sales    100.899455\n",
      "Tax        0.028107\n",
      "dtype: float64\n",
      "\n",
      "\n",
      "Company      FB\n",
      "Person      Amy\n",
      "Sales       120\n",
      "Tax        0.06\n",
      "dtype: object\n",
      "\n",
      "\n",
      "Company       MSFT\n",
      "Person     Vanessa\n",
      "Sales          350\n",
      "Tax           0.12\n",
      "dtype: object\n",
      "\n",
      "\n",
      "Company    6\n",
      "Person     6\n",
      "Sales      6\n",
      "Tax        6\n",
      "dtype: int64\n",
      "\n",
      "\n",
      "            Sales       Tax\n",
      "count    6.000000  6.000000\n",
      "mean   229.500000  0.095000\n",
      "std    100.899455  0.028107\n",
      "min    120.000000  0.060000\n",
      "25%    143.000000  0.072500\n",
      "50%    221.500000  0.100000\n",
      "75%    315.750000  0.120000\n",
      "max    350.000000  0.120000\n"
     ]
    },
    {
     "name": "stderr",
     "output_type": "stream",
     "text": [
      "/tmp/ipykernel_15860/1344212576.py:2: FutureWarning: Dropping of nuisance columns in DataFrame reductions (with 'numeric_only=None') is deprecated; in a future version this will raise TypeError.  Select only valid columns before calling the reduction.\n",
      "  print(df.mean())\n",
      "/tmp/ipykernel_15860/1344212576.py:4: FutureWarning: Dropping of nuisance columns in DataFrame reductions (with 'numeric_only=None') is deprecated; in a future version this will raise TypeError.  Select only valid columns before calling the reduction.\n",
      "  print(df.std())\n"
     ]
    }
   ],
   "source": [
    "#Summarizing Data\n",
    "print(df.mean())\n",
    "print(\"\\n\")\n",
    "print(df.std())\n",
    "print(\"\\n\")\n",
    "print(df.min())\n",
    "print(\"\\n\")\n",
    "print(df.max())\n",
    "print(\"\\n\")\n",
    "print(df.count())\n",
    "print(\"\\n\")\n",
    "print(df.describe())"
   ]
  },
  {
   "cell_type": "code",
   "execution_count": 25,
   "id": "7b9297ed",
   "metadata": {},
   "outputs": [
    {
     "name": "stdout",
     "output_type": "stream",
     "text": [
      "         Sales    Tax\n",
      "Company              \n",
      "FB       296.5  0.090\n",
      "GOOG     160.0  0.120\n",
      "MSFT     232.0  0.075\n",
      "\n",
      "\n",
      "              Sales       Tax\n",
      "Company                      \n",
      "FB        75.660426  0.042426\n",
      "GOOG      56.568542  0.000000\n",
      "MSFT     152.735065  0.007071\n",
      "\n",
      "\n",
      "          Person  Sales   Tax\n",
      "Company                      \n",
      "FB          Carl    243  0.06\n",
      "GOOG     Charlie    120  0.12\n",
      "MSFT         Amy    124  0.07\n",
      "\n",
      "\n",
      "          Person  Sales   Tax\n",
      "Company                      \n",
      "FB         Sarah    350  0.12\n",
      "GOOG         Sam    200  0.12\n",
      "MSFT     Vanessa    340  0.08\n",
      "\n",
      "\n",
      "         Person  Sales  Tax\n",
      "Company                    \n",
      "FB            2      2    2\n",
      "GOOG          2      2    2\n",
      "MSFT          2      2    2\n",
      "\n",
      "\n",
      "        Sales                                                           Tax  \\\n",
      "        count   mean         std    min     25%    50%     75%    max count   \n",
      "Company                                                                       \n",
      "FB        2.0  296.5   75.660426  243.0  269.75  296.5  323.25  350.0   2.0   \n",
      "GOOG      2.0  160.0   56.568542  120.0  140.00  160.0  180.00  200.0   2.0   \n",
      "MSFT      2.0  232.0  152.735065  124.0  178.00  232.0  286.00  340.0   2.0   \n",
      "\n",
      "                                                             \n",
      "          mean       std   min     25%    50%     75%   max  \n",
      "Company                                                      \n",
      "FB       0.090  0.042426  0.06  0.0750  0.090  0.1050  0.12  \n",
      "GOOG     0.120  0.000000  0.12  0.1200  0.120  0.1200  0.12  \n",
      "MSFT     0.075  0.007071  0.07  0.0725  0.075  0.0775  0.08  \n"
     ]
    }
   ],
   "source": [
    "# groupby aggregation\n",
    "by_comp = df.groupby(\"Company\")\n",
    "print(by_comp.mean())\n",
    "print(\"\\n\")\n",
    "print(by_comp.std())\n",
    "print(\"\\n\")\n",
    "print(by_comp.min())\n",
    "print(\"\\n\")\n",
    "print(by_comp.max())\n",
    "print(\"\\n\")\n",
    "print(by_comp.count())\n",
    "print(\"\\n\")\n",
    "print(by_comp.describe())"
   ]
  },
  {
   "cell_type": "code",
   "execution_count": 26,
   "id": "ec16735d",
   "metadata": {},
   "outputs": [
    {
     "name": "stdout",
     "output_type": "stream",
     "text": [
      "  Company   Person  Sales   Tax\n",
      "0    GOOG      Sam    200  0.12\n",
      "1    GOOG  Charlie    120  0.12\n",
      "2    MSFT      Amy    340  0.08\n",
      "3    MSFT  Vanessa    124  0.07\n",
      "4      FB     Carl    243  0.06\n",
      "5      FB    Sarah    350  0.12\n",
      "   Company variable    value\n",
      "0     GOOG    Sales      200\n",
      "1     GOOG    Sales      120\n",
      "2     MSFT    Sales      340\n",
      "3     MSFT    Sales      124\n",
      "4       FB    Sales      243\n",
      "5       FB    Sales      350\n",
      "6     GOOG   Person      Sam\n",
      "7     GOOG   Person  Charlie\n",
      "8     MSFT   Person      Amy\n",
      "9     MSFT   Person  Vanessa\n",
      "10      FB   Person     Carl\n",
      "11      FB   Person    Sarah\n",
      "12    GOOG      Tax     0.12\n",
      "13    GOOG      Tax     0.12\n",
      "14    MSFT      Tax     0.08\n",
      "15    MSFT      Tax     0.07\n",
      "16      FB      Tax     0.06\n",
      "17      FB      Tax     0.12\n"
     ]
    }
   ],
   "source": [
    "print(df)\n",
    "dfmelted = df.copy()\n",
    "dfmelted = pd.melt(dfmelted, id_vars=['Company'], value_vars=['Sales', 'Person', 'Tax'])\n",
    "print(dfmelted)"
   ]
  },
  {
   "cell_type": "code",
   "execution_count": 27,
   "id": "59491395",
   "metadata": {},
   "outputs": [
    {
     "name": "stdout",
     "output_type": "stream",
     "text": [
      "  Company   Person  Sales   Tax\n",
      "0    GOOG      Sam    200  0.12\n",
      "1    GOOG  Charlie    120  0.12\n",
      "2    MSFT      Amy    340  0.08\n",
      "3    MSFT  Vanessa    124  0.07\n",
      "4      FB     Carl    243  0.06\n",
      "5      FB    Sarah    350  0.12\n",
      "Company     FB   GOOG   MSFT\n",
      "Person                      \n",
      "Amy        NaN    NaN  340.0\n",
      "Carl     243.0    NaN    NaN\n",
      "Charlie    NaN  120.0    NaN\n",
      "Sam        NaN  200.0    NaN\n",
      "Sarah    350.0    NaN    NaN\n",
      "Vanessa    NaN    NaN  124.0\n"
     ]
    }
   ],
   "source": [
    "print(df)\n",
    "dfpivot = df.copy()\n",
    "dfpivot = dfpivot.pivot(index='Person', columns='Company', values='Sales')\n",
    "print(dfpivot)"
   ]
  },
  {
   "cell_type": "code",
   "execution_count": 28,
   "id": "a595c76b",
   "metadata": {},
   "outputs": [
    {
     "name": "stdout",
     "output_type": "stream",
     "text": [
      "  lkey  value\n",
      "0  foo      1\n",
      "1  bar      2\n",
      "2  baz      3\n",
      "3  foo      5\n",
      "  rkey  value\n",
      "0  foo      5\n",
      "1  bar      6\n",
      "2  baz      7\n",
      "3  foo      8\n"
     ]
    }
   ],
   "source": [
    "# setup dataframes for joining\n",
    "df1 = pd.DataFrame({'lkey': ['foo', 'bar', 'baz', 'foo'],\n",
    "                    'value': [1, 2, 3, 5]})\n",
    "df2 = pd.DataFrame({'rkey': ['foo', 'bar', 'baz', 'foo'],\n",
    "                    'value': [5, 6, 7, 8]})\n",
    "print(df1)\n",
    "print(df2)"
   ]
  },
  {
   "cell_type": "code",
   "execution_count": 29,
   "id": "2ece43de",
   "metadata": {},
   "outputs": [
    {
     "data": {
      "text/html": [
       "<div>\n",
       "<style scoped>\n",
       "    .dataframe tbody tr th:only-of-type {\n",
       "        vertical-align: middle;\n",
       "    }\n",
       "\n",
       "    .dataframe tbody tr th {\n",
       "        vertical-align: top;\n",
       "    }\n",
       "\n",
       "    .dataframe thead th {\n",
       "        text-align: right;\n",
       "    }\n",
       "</style>\n",
       "<table border=\"1\" class=\"dataframe\">\n",
       "  <thead>\n",
       "    <tr style=\"text-align: right;\">\n",
       "      <th></th>\n",
       "      <th>lkey</th>\n",
       "      <th>value_x</th>\n",
       "      <th>rkey</th>\n",
       "      <th>value_y</th>\n",
       "    </tr>\n",
       "  </thead>\n",
       "  <tbody>\n",
       "    <tr>\n",
       "      <th>0</th>\n",
       "      <td>foo</td>\n",
       "      <td>1</td>\n",
       "      <td>foo</td>\n",
       "      <td>5</td>\n",
       "    </tr>\n",
       "    <tr>\n",
       "      <th>1</th>\n",
       "      <td>foo</td>\n",
       "      <td>1</td>\n",
       "      <td>foo</td>\n",
       "      <td>8</td>\n",
       "    </tr>\n",
       "    <tr>\n",
       "      <th>2</th>\n",
       "      <td>foo</td>\n",
       "      <td>5</td>\n",
       "      <td>foo</td>\n",
       "      <td>5</td>\n",
       "    </tr>\n",
       "    <tr>\n",
       "      <th>3</th>\n",
       "      <td>foo</td>\n",
       "      <td>5</td>\n",
       "      <td>foo</td>\n",
       "      <td>8</td>\n",
       "    </tr>\n",
       "    <tr>\n",
       "      <th>4</th>\n",
       "      <td>bar</td>\n",
       "      <td>2</td>\n",
       "      <td>bar</td>\n",
       "      <td>6</td>\n",
       "    </tr>\n",
       "    <tr>\n",
       "      <th>5</th>\n",
       "      <td>baz</td>\n",
       "      <td>3</td>\n",
       "      <td>baz</td>\n",
       "      <td>7</td>\n",
       "    </tr>\n",
       "  </tbody>\n",
       "</table>\n",
       "</div>"
      ],
      "text/plain": [
       "  lkey  value_x rkey  value_y\n",
       "0  foo        1  foo        5\n",
       "1  foo        1  foo        8\n",
       "2  foo        5  foo        5\n",
       "3  foo        5  foo        8\n",
       "4  bar        2  bar        6\n",
       "5  baz        3  baz        7"
      ]
     },
     "execution_count": 29,
     "metadata": {},
     "output_type": "execute_result"
    }
   ],
   "source": [
    "# merging df1 and df2 where id is df1.lkey and df2.lkey\n",
    "df1.merge(df2, left_on='lkey', right_on='rkey')"
   ]
  },
  {
   "cell_type": "code",
   "execution_count": 30,
   "id": "77bb0f63",
   "metadata": {},
   "outputs": [
    {
     "name": "stdout",
     "output_type": "stream",
     "text": [
      "  letter  number\n",
      "0      a       1\n",
      "1      b       2\n",
      "  letter  number\n",
      "0      c       3\n",
      "1      d       4\n"
     ]
    }
   ],
   "source": [
    "# setup dataframes for concatenating\n",
    "df1 = pd.DataFrame([['a', 1], ['b', 2]],\n",
    "                   columns=['letter', 'number'])\n",
    "df2 = pd.DataFrame([['c', 3], ['d', 4]],\n",
    "                   columns=['letter', 'number'])\n",
    "print(df1)\n",
    "print(df2)"
   ]
  },
  {
   "cell_type": "code",
   "execution_count": 31,
   "id": "3b19fc57",
   "metadata": {},
   "outputs": [
    {
     "data": {
      "text/html": [
       "<div>\n",
       "<style scoped>\n",
       "    .dataframe tbody tr th:only-of-type {\n",
       "        vertical-align: middle;\n",
       "    }\n",
       "\n",
       "    .dataframe tbody tr th {\n",
       "        vertical-align: top;\n",
       "    }\n",
       "\n",
       "    .dataframe thead th {\n",
       "        text-align: right;\n",
       "    }\n",
       "</style>\n",
       "<table border=\"1\" class=\"dataframe\">\n",
       "  <thead>\n",
       "    <tr style=\"text-align: right;\">\n",
       "      <th></th>\n",
       "      <th>letter</th>\n",
       "      <th>number</th>\n",
       "    </tr>\n",
       "  </thead>\n",
       "  <tbody>\n",
       "    <tr>\n",
       "      <th>0</th>\n",
       "      <td>a</td>\n",
       "      <td>1</td>\n",
       "    </tr>\n",
       "    <tr>\n",
       "      <th>1</th>\n",
       "      <td>b</td>\n",
       "      <td>2</td>\n",
       "    </tr>\n",
       "    <tr>\n",
       "      <th>0</th>\n",
       "      <td>c</td>\n",
       "      <td>3</td>\n",
       "    </tr>\n",
       "    <tr>\n",
       "      <th>1</th>\n",
       "      <td>d</td>\n",
       "      <td>4</td>\n",
       "    </tr>\n",
       "  </tbody>\n",
       "</table>\n",
       "</div>"
      ],
      "text/plain": [
       "  letter  number\n",
       "0      a       1\n",
       "1      b       2\n",
       "0      c       3\n",
       "1      d       4"
      ]
     },
     "execution_count": 31,
     "metadata": {},
     "output_type": "execute_result"
    }
   ],
   "source": [
    "# concatenating dataframes in row axis\n",
    "pd.concat([df1, df2])"
   ]
  },
  {
   "cell_type": "code",
   "execution_count": 32,
   "id": "6116b0ed",
   "metadata": {},
   "outputs": [
    {
     "name": "stdout",
     "output_type": "stream",
     "text": [
      "   animal    name\n",
      "0    bird   polly\n",
      "1  monkey  george\n"
     ]
    }
   ],
   "source": [
    "# setup for concatenating\n",
    "df4 = pd.DataFrame([['bird', 'polly'], ['monkey', 'george']],\n",
    "                   columns=['animal', 'name'])\n",
    "print(df4)"
   ]
  },
  {
   "cell_type": "code",
   "execution_count": 33,
   "id": "9029259d",
   "metadata": {},
   "outputs": [
    {
     "data": {
      "text/html": [
       "<div>\n",
       "<style scoped>\n",
       "    .dataframe tbody tr th:only-of-type {\n",
       "        vertical-align: middle;\n",
       "    }\n",
       "\n",
       "    .dataframe tbody tr th {\n",
       "        vertical-align: top;\n",
       "    }\n",
       "\n",
       "    .dataframe thead th {\n",
       "        text-align: right;\n",
       "    }\n",
       "</style>\n",
       "<table border=\"1\" class=\"dataframe\">\n",
       "  <thead>\n",
       "    <tr style=\"text-align: right;\">\n",
       "      <th></th>\n",
       "      <th>letter</th>\n",
       "      <th>number</th>\n",
       "      <th>animal</th>\n",
       "      <th>name</th>\n",
       "    </tr>\n",
       "  </thead>\n",
       "  <tbody>\n",
       "    <tr>\n",
       "      <th>0</th>\n",
       "      <td>a</td>\n",
       "      <td>1</td>\n",
       "      <td>bird</td>\n",
       "      <td>polly</td>\n",
       "    </tr>\n",
       "    <tr>\n",
       "      <th>1</th>\n",
       "      <td>b</td>\n",
       "      <td>2</td>\n",
       "      <td>monkey</td>\n",
       "      <td>george</td>\n",
       "    </tr>\n",
       "  </tbody>\n",
       "</table>\n",
       "</div>"
      ],
      "text/plain": [
       "  letter  number  animal    name\n",
       "0      a       1    bird   polly\n",
       "1      b       2  monkey  george"
      ]
     },
     "execution_count": 33,
     "metadata": {},
     "output_type": "execute_result"
    }
   ],
   "source": [
    "# concatenating dataframes in column axis\n",
    "pd.concat([df1, df4], axis=1)"
   ]
  },
  {
   "cell_type": "code",
   "execution_count": 34,
   "id": "bc119161",
   "metadata": {},
   "outputs": [
    {
     "name": "stdout",
     "output_type": "stream",
     "text": [
      "[0.06 0.08 0.1  0.12]\n",
      "  Company   Person  Sales   Tax TaxDiscrete\n",
      "0    GOOG      Sam    200  0.12        High\n",
      "1    GOOG  Charlie    120  0.12        High\n",
      "2    MSFT      Amy    340  0.08      Medium\n",
      "3    MSFT  Vanessa    124  0.07         Low\n",
      "4      FB     Carl    243  0.06         Low\n",
      "5      FB    Sarah    350  0.12        High\n"
     ]
    }
   ],
   "source": [
    "# Equal Width Binning\n",
    "import numpy as np\n",
    "df = pd.read_csv(\"sales.csv\") #reset df\n",
    "dfbinned = df.copy()\n",
    "bin_labels_3 = ['Low', 'Medium', 'High']\n",
    "cutbins = np.arange(0,4,1)/3*(df['Tax'].max() - df['Tax'].min())+df['Tax'].min()\n",
    "print(cutbins)\n",
    "dfbinned['TaxDiscrete'] = pd.cut(df['Tax'], bins=cutbins, labels=bin_labels_3)\n",
    "dfbinned=dfbinned.fillna(value=\"Low\")\n",
    "print(dfbinned)"
   ]
  },
  {
   "cell_type": "code",
   "execution_count": 35,
   "id": "6005c6e4",
   "metadata": {},
   "outputs": [
    {
     "name": "stdout",
     "output_type": "stream",
     "text": [
      "  Company   Person  Sales   Tax SalesDiscrete\n",
      "0    GOOG      Sam    200  0.12        Medium\n",
      "1    GOOG  Charlie    120  0.12           Low\n",
      "2    MSFT      Amy    340  0.08          High\n",
      "3    MSFT  Vanessa    124  0.07           Low\n",
      "4      FB     Carl    243  0.06        Medium\n",
      "5      FB    Sarah    350  0.12          High\n"
     ]
    }
   ],
   "source": [
    "# Equal Depth Binning\n",
    "dfbinned = df.copy()\n",
    "bin_labels_3 = ['Low', 'Medium', 'High']\n",
    "dfbinned['SalesDiscrete'] = pd.qcut(df['Sales'], q=3, labels=bin_labels_3)\n",
    "print(dfbinned)"
   ]
  },
  {
   "cell_type": "code",
   "execution_count": 36,
   "id": "e45b2cf3",
   "metadata": {},
   "outputs": [
    {
     "name": "stdout",
     "output_type": "stream",
     "text": [
      "  Company   Person  Sales   Tax  Company_FB  Company_GOOG  Company_MSFT\n",
      "0    GOOG      Sam    200  0.12           0             1             0\n",
      "1    GOOG  Charlie    120  0.12           0             1             0\n",
      "2    MSFT      Amy    340  0.08           0             0             1\n",
      "3    MSFT  Vanessa    124  0.07           0             0             1\n",
      "4      FB     Carl    243  0.06           1             0             0\n",
      "5      FB    Sarah    350  0.12           1             0             0\n"
     ]
    }
   ],
   "source": [
    "df = pd.read_csv(\"sales.csv\") #reset df\n",
    "dfencoding = df.copy()\n",
    "df['Company'].unique()\n",
    "dummies = pd.get_dummies(dfencoding['Company'], prefix='Company')\n",
    "dfencoding = pd.concat([dfencoding,dummies], axis=1)\n",
    "print(dfencoding)"
   ]
  },
  {
   "cell_type": "code",
   "execution_count": 37,
   "id": "d000dd6d",
   "metadata": {},
   "outputs": [
    {
     "name": "stdout",
     "output_type": "stream",
     "text": [
      "     A    B   C    D\n",
      "0  NaN  2.0 NaN  0.0\n",
      "1  3.0  4.0 NaN  1.0\n",
      "2  NaN  NaN NaN  NaN\n",
      "3  NaN  3.0 NaN  4.0\n"
     ]
    }
   ],
   "source": [
    "# Setting up dataframe for missing data handling\n",
    "import numpy as np #dependent library\n",
    "df = pd.DataFrame([[np.nan, 2, np.nan, 0],\n",
    "                   [3, 4, np.nan, 1],\n",
    "                   [np.nan, np.nan, np.nan, np.nan],\n",
    "                   [np.nan, 3, np.nan, 4]],\n",
    "                  columns=list(\"ABCD\"))\n",
    "print(df)"
   ]
  },
  {
   "cell_type": "code",
   "execution_count": 38,
   "id": "fa1f0f02",
   "metadata": {},
   "outputs": [
    {
     "data": {
      "text/html": [
       "<div>\n",
       "<style scoped>\n",
       "    .dataframe tbody tr th:only-of-type {\n",
       "        vertical-align: middle;\n",
       "    }\n",
       "\n",
       "    .dataframe tbody tr th {\n",
       "        vertical-align: top;\n",
       "    }\n",
       "\n",
       "    .dataframe thead th {\n",
       "        text-align: right;\n",
       "    }\n",
       "</style>\n",
       "<table border=\"1\" class=\"dataframe\">\n",
       "  <thead>\n",
       "    <tr style=\"text-align: right;\">\n",
       "      <th></th>\n",
       "      <th>A</th>\n",
       "      <th>B</th>\n",
       "      <th>C</th>\n",
       "      <th>D</th>\n",
       "    </tr>\n",
       "  </thead>\n",
       "  <tbody>\n",
       "    <tr>\n",
       "      <th>0</th>\n",
       "      <td>0.0</td>\n",
       "      <td>2.0</td>\n",
       "      <td>0.0</td>\n",
       "      <td>0.0</td>\n",
       "    </tr>\n",
       "    <tr>\n",
       "      <th>1</th>\n",
       "      <td>3.0</td>\n",
       "      <td>4.0</td>\n",
       "      <td>0.0</td>\n",
       "      <td>1.0</td>\n",
       "    </tr>\n",
       "    <tr>\n",
       "      <th>2</th>\n",
       "      <td>0.0</td>\n",
       "      <td>0.0</td>\n",
       "      <td>0.0</td>\n",
       "      <td>0.0</td>\n",
       "    </tr>\n",
       "    <tr>\n",
       "      <th>3</th>\n",
       "      <td>0.0</td>\n",
       "      <td>3.0</td>\n",
       "      <td>0.0</td>\n",
       "      <td>4.0</td>\n",
       "    </tr>\n",
       "  </tbody>\n",
       "</table>\n",
       "</div>"
      ],
      "text/plain": [
       "     A    B    C    D\n",
       "0  0.0  2.0  0.0  0.0\n",
       "1  3.0  4.0  0.0  1.0\n",
       "2  0.0  0.0  0.0  0.0\n",
       "3  0.0  3.0  0.0  4.0"
      ]
     },
     "execution_count": 38,
     "metadata": {},
     "output_type": "execute_result"
    }
   ],
   "source": [
    "# Filling missing data\n",
    "df.fillna(0)"
   ]
  },
  {
   "cell_type": "code",
   "execution_count": 39,
   "id": "0d78ed79",
   "metadata": {},
   "outputs": [
    {
     "name": "stdout",
     "output_type": "stream",
     "text": [
      "     A    B   C    D\n",
      "1  3.0  4.0 NaN  1.0\n",
      "3  NaN  3.0 NaN  4.0\n",
      "0  NaN  2.0 NaN  0.0\n"
     ]
    }
   ],
   "source": [
    "# simple random sampling\n",
    "dfsample = df.copy()\n",
    "dfsamplesubset = dfsample.sample(n=3,replace=True, \n",
    "random_state=1)\n",
    "print(dfsamplesubset)"
   ]
  },
  {
   "cell_type": "code",
   "execution_count": null,
   "id": "ace1409f",
   "metadata": {},
   "outputs": [],
   "source": []
  }
 ],
 "metadata": {
  "kernelspec": {
   "display_name": "Python 3 (ipykernel)",
   "language": "python",
   "name": "python3"
  },
  "language_info": {
   "codemirror_mode": {
    "name": "ipython",
    "version": 3
   },
   "file_extension": ".py",
   "mimetype": "text/x-python",
   "name": "python",
   "nbconvert_exporter": "python",
   "pygments_lexer": "ipython3",
   "version": "3.9.5"
  }
 },
 "nbformat": 4,
 "nbformat_minor": 5
}
