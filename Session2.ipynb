{
 "cells": [
  {
   "cell_type": "markdown",
   "id": "18972085",
   "metadata": {},
   "source": [
    "# Setup"
   ]
  },
  {
   "cell_type": "code",
   "execution_count": 9,
   "id": "47850eb4",
   "metadata": {},
   "outputs": [],
   "source": [
    "# should be able to import all\n",
    "import pandas as pd\n",
    "# import geopandas as gpd\n",
    "import sqlite3"
   ]
  },
  {
   "cell_type": "code",
   "execution_count": 7,
   "id": "7c8442be",
   "metadata": {
    "scrolled": true
   },
   "outputs": [
    {
     "name": "stdout",
     "output_type": "stream",
     "text": [
      " Volume in drive C is Blade 14\n",
      " Volume Serial Number is 4CAC-55FD\n",
      "\n",
      " Directory of C:\\Users\\Sam\\Desktop\\DataMiningTrainingSession\n",
      "\n",
      "17/09/2021  01:18 pm    <DIR>          .\n",
      "17/09/2021  01:18 pm    <DIR>          ..\n",
      "17/09/2021  12:24 am    <DIR>          .ipynb_checkpoints\n",
      "17/09/2021  11:35 am    <DIR>          __pycache__\n",
      "16/09/2021  12:39 am               410 arithmetic.py\n",
      "17/09/2021  03:48 am             3,208 Automobile_data.csv\n",
      "16/09/2021  01:03 am               521 consonants.py\n",
      "17/09/2021  12:26 am                71 costs.csv\n",
      "17/09/2021  04:52 am            65,031 datasets.zip\n",
      "17/09/2021  03:10 am            86,016 db.db\n",
      "17/09/2021  12:26 am                61 df1.csv\n",
      "17/09/2021  12:26 am                61 df2.csv\n",
      "17/09/2021  12:26 am                69 df3.csv\n",
      "16/09/2021  12:48 am               229 grades.py\n",
      "17/09/2021  11:35 am               133 imported_module.py\n",
      "16/09/2021  12:17 am               259 input_method.py\n",
      "14/09/2021  06:07 pm             8,283 Installation Guide.ipynb\n",
      "14/09/2021  04:53 pm             3,174 Installation Guide.md\n",
      "17/09/2021  12:44 am             1,026 json_import.json\n",
      "17/09/2021  11:35 am               132 main.py\n",
      "17/09/2021  03:49 am    <DIR>          media\n",
      "16/09/2021  12:24 am               259 mirror.txt\n",
      "16/09/2021  11:35 pm            84,361 municipalities.csv\n",
      "17/09/2021  12:26 am                60 ops.csv\n",
      "16/09/2021  11:36 pm             4,060 provinces.csv\n",
      "17/09/2021  12:26 am               277 queueingdata.csv\n",
      "17/09/2021  12:26 am               147 sales.csv\n",
      "16/09/2021  02:01 am            27,494 Session1.md\n",
      "16/09/2021  09:29 pm               764 session1.py\n",
      "17/09/2021  01:18 pm            27,705 Session2.ipynb\n",
      "17/09/2021  04:38 am            14,881 Session2.md\n",
      "17/09/2021  04:39 am           274,395 Session2.pdf\n",
      "16/09/2021  12:58 am                43 test.txt\n",
      "16/09/2021  12:24 am               384 writing_files.py\n",
      "              29 File(s)        603,514 bytes\n",
      "               5 Dir(s)  777,758,621,696 bytes free\n"
     ]
    }
   ],
   "source": [
    "ls"
   ]
  },
  {
   "cell_type": "markdown",
   "id": "76dd98ed",
   "metadata": {},
   "source": [
    "# Pandas and SQL"
   ]
  },
  {
   "cell_type": "code",
   "execution_count": 11,
   "id": "d6bc6d52",
   "metadata": {
    "scrolled": true
   },
   "outputs": [
    {
     "name": "stdout",
     "output_type": "stream",
     "text": [
      "==show tables==\n",
      "             name\n",
      "0     sql_country\n",
      "1       provinces\n",
      "2  municipalities\n",
      "3      sql_people\n",
      "\n",
      "==storing sql table in dataframe==\n",
      "   id      country\n",
      "0   1  Philippines\n",
      "1   2   Tajikistan\n",
      "2   3       Brazil\n",
      "3   4       Brazil\n",
      "4   5     Colombia\n",
      "5   6    Indonesia\n",
      "<class 'pandas.core.frame.DataFrame'>\n"
     ]
    }
   ],
   "source": [
    "# sql query\n",
    "conn = sqlite3.connect('db.db')\n",
    "\n",
    "print(\"==show tables==\")\n",
    "query = \"SELECT name FROM sqlite_master WHERE type='table';\"\n",
    "print(pd.read_sql_query(query, conn))\n",
    "\n",
    "print(\"\\n==storing sql table in dataframe==\")\n",
    "query = \"SELECT * FROM sql_country\"\n",
    "country_df = pd.read_sql_query(query, conn)\n",
    "print(country_df)\n",
    "print(type(country_df))"
   ]
  },
  {
   "cell_type": "code",
   "execution_count": 15,
   "id": "73b7c064",
   "metadata": {},
   "outputs": [
    {
     "name": "stdout",
     "output_type": "stream",
     "text": [
      "   id first_name   last_name                  email       gender\n",
      "0   1      Smith    Comiskey    scomiskey0@uiuc.edu       Female\n",
      "1   2     Denice     Poulsom    dpoulsom1@bbc.co.uk      Agender\n",
      "2   3      Felic     Carlett      fcarlett2@ted.com      Agender\n",
      "3   4   Mattheus       Laste      mlaste3@hexun.com         Male\n",
      "4   5       Clay  Chancelier     cchancelier4@is.gd       Female\n",
      "5   6      Arlie    Hemphall      ahemphall5@gov.uk  Genderqueer\n",
      "6   7   Hilarius     McCorry     hmccorry6@java.com  Genderfluid\n",
      "7   8      Valma    Tumielli  vtumielli7@flavors.me         Male\n",
      "8   9    Felecia     Edgeson     fedgeson8@ebay.com         Male\n",
      "9  10      Maury     Duignan  mduignan9@archive.org     Bigender\n"
     ]
    }
   ],
   "source": [
    "# json file\n",
    "json_df = pd.read_json(\"json_import.json\", orient=\"records\")\n",
    "print(json_df)"
   ]
  },
  {
   "cell_type": "code",
   "execution_count": 16,
   "id": "3f4dc002",
   "metadata": {},
   "outputs": [
    {
     "data": {
      "text/html": [
       "<div>\n",
       "<style scoped>\n",
       "    .dataframe tbody tr th:only-of-type {\n",
       "        vertical-align: middle;\n",
       "    }\n",
       "\n",
       "    .dataframe tbody tr th {\n",
       "        vertical-align: top;\n",
       "    }\n",
       "\n",
       "    .dataframe thead th {\n",
       "        text-align: right;\n",
       "    }\n",
       "</style>\n",
       "<table border=\"1\" class=\"dataframe\">\n",
       "  <thead>\n",
       "    <tr style=\"text-align: right;\">\n",
       "      <th></th>\n",
       "      <th>Company</th>\n",
       "      <th>Person</th>\n",
       "      <th>Sales</th>\n",
       "      <th>Tax</th>\n",
       "    </tr>\n",
       "  </thead>\n",
       "  <tbody>\n",
       "    <tr>\n",
       "      <th>0</th>\n",
       "      <td>GOOG</td>\n",
       "      <td>Sam</td>\n",
       "      <td>200</td>\n",
       "      <td>0.12</td>\n",
       "    </tr>\n",
       "    <tr>\n",
       "      <th>1</th>\n",
       "      <td>GOOG</td>\n",
       "      <td>Charlie</td>\n",
       "      <td>120</td>\n",
       "      <td>0.12</td>\n",
       "    </tr>\n",
       "    <tr>\n",
       "      <th>2</th>\n",
       "      <td>MSFT</td>\n",
       "      <td>Amy</td>\n",
       "      <td>340</td>\n",
       "      <td>0.08</td>\n",
       "    </tr>\n",
       "    <tr>\n",
       "      <th>3</th>\n",
       "      <td>MSFT</td>\n",
       "      <td>Vanessa</td>\n",
       "      <td>124</td>\n",
       "      <td>0.07</td>\n",
       "    </tr>\n",
       "    <tr>\n",
       "      <th>4</th>\n",
       "      <td>FB</td>\n",
       "      <td>Carl</td>\n",
       "      <td>243</td>\n",
       "      <td>0.06</td>\n",
       "    </tr>\n",
       "    <tr>\n",
       "      <th>5</th>\n",
       "      <td>FB</td>\n",
       "      <td>Sarah</td>\n",
       "      <td>350</td>\n",
       "      <td>0.12</td>\n",
       "    </tr>\n",
       "  </tbody>\n",
       "</table>\n",
       "</div>"
      ],
      "text/plain": [
       "  Company   Person  Sales   Tax\n",
       "0    GOOG      Sam    200  0.12\n",
       "1    GOOG  Charlie    120  0.12\n",
       "2    MSFT      Amy    340  0.08\n",
       "3    MSFT  Vanessa    124  0.07\n",
       "4      FB     Carl    243  0.06\n",
       "5      FB    Sarah    350  0.12"
      ]
     },
     "execution_count": 16,
     "metadata": {},
     "output_type": "execute_result"
    }
   ],
   "source": [
    "# csv file\n",
    "df = pd.read_csv(\"sales.csv\")\n",
    "df\n",
    "\n",
    "# read_excel\n",
    "# read_dict"
   ]
  },
  {
   "cell_type": "markdown",
   "id": "957bfd33",
   "metadata": {},
   "source": [
    "# DataFrames\n",
    "\n",
    "DataFrame is a collection of variables put together to share the same index\n",
    "* DataFrames are the workhorse of Pandas algorithms\n",
    "* Directly inspired from the R programming language\n",
    "* All series objects must have the same number of elements/rows\n",
    "* Must have unique column names"
   ]
  },
  {
   "cell_type": "markdown",
   "id": "2a974ec3",
   "metadata": {},
   "source": [
    "#  Column and Row Operation\n",
    "## Column Operations\n",
    "* Indexing is done using the square bracket notation ([ ]). \n",
    "* Need to specify the column names.\n",
    "    ```python\n",
    "    df['name_of_column']\n",
    "    ```\n",
    "* New columns can also be created as a function of other columns using the square bracket notation ([ ]). \n",
    "    ```python\n",
    "    df['new_column'] = df['old_column']\n",
    "    ```\n",
    "* To delete a specic column, use the drop() command and specify axis=1. Use inplace = True to make it permanent.\n",
    "    ``` python\n",
    "    df.drop('column_to_delete', axis =1)\n",
    "    df.drop('column_to_delete’, axis =1, inplace=True)\n",
    "    ```"
   ]
  },
  {
   "cell_type": "code",
   "execution_count": 21,
   "id": "8c237104",
   "metadata": {},
   "outputs": [
    {
     "name": "stdout",
     "output_type": "stream",
     "text": [
      "0        Sam\n",
      "1    Charlie\n",
      "2        Amy\n",
      "3    Vanessa\n",
      "4       Carl\n",
      "5      Sarah\n",
      "Name: Person, dtype: object\n",
      "    Person  Sales\n",
      "0      Sam    200\n",
      "1  Charlie    120\n",
      "2      Amy    340\n",
      "3  Vanessa    124\n",
      "4     Carl    243\n",
      "5    Sarah    350\n"
     ]
    }
   ],
   "source": [
    "print(df['Person'])\n",
    "# selecting multiple columns\n",
    "columns_to_read = ['Person','Sales']\n",
    "print(df[columns_to_read])"
   ]
  },
  {
   "cell_type": "code",
   "execution_count": 22,
   "id": "70df3ecb",
   "metadata": {},
   "outputs": [
    {
     "name": "stdout",
     "output_type": "stream",
     "text": [
      "  Company   Person  Sales   Tax  SalesTax\n",
      "0    GOOG      Sam    200  0.12     24.00\n",
      "1    GOOG  Charlie    120  0.12     14.40\n",
      "2    MSFT      Amy    340  0.08     27.20\n",
      "3    MSFT  Vanessa    124  0.07      8.68\n",
      "4      FB     Carl    243  0.06     14.58\n",
      "5      FB    Sarah    350  0.12     42.00\n"
     ]
    }
   ],
   "source": [
    "# creating new columns\n",
    "df['SalesTax'] = df['Sales'] * df['Tax']\n",
    "print(df)"
   ]
  },
  {
   "cell_type": "code",
   "execution_count": 24,
   "id": "814983cc",
   "metadata": {},
   "outputs": [
    {
     "name": "stdout",
     "output_type": "stream",
     "text": [
      "  Company   Person   Tax\n",
      "0    GOOG      Sam  0.12\n",
      "1    GOOG  Charlie  0.12\n",
      "2    MSFT      Amy  0.08\n",
      "3    MSFT  Vanessa  0.07\n",
      "4      FB     Carl  0.06\n",
      "5      FB    Sarah  0.12\n",
      "  Company   Person  Sales   Tax  SalesTax\n",
      "0    GOOG      Sam    200  0.12     24.00\n",
      "1    GOOG  Charlie    120  0.12     14.40\n",
      "2    MSFT      Amy    340  0.08     27.20\n",
      "3    MSFT  Vanessa    124  0.07      8.68\n",
      "4      FB     Carl    243  0.06     14.58\n",
      "5      FB    Sarah    350  0.12     42.00\n"
     ]
    }
   ],
   "source": [
    "# temporary Delete\n",
    "print(df.drop(['Sales', 'SalesTax'],axis=1))\n",
    "print(df)"
   ]
  },
  {
   "cell_type": "code",
   "execution_count": 25,
   "id": "221c98e5",
   "metadata": {},
   "outputs": [
    {
     "name": "stdout",
     "output_type": "stream",
     "text": [
      "  Company   Person  Sales   Tax\n",
      "0    GOOG      Sam    200  0.12\n",
      "1    GOOG  Charlie    120  0.12\n",
      "2    MSFT      Amy    340  0.08\n",
      "3    MSFT  Vanessa    124  0.07\n",
      "4      FB     Carl    243  0.06\n",
      "5      FB    Sarah    350  0.12\n"
     ]
    }
   ],
   "source": [
    "# permanently delete column\n",
    "df.drop('SalesTax',axis=1, inplace = True)\n",
    "print(df)"
   ]
  },
  {
   "cell_type": "markdown",
   "id": "6cccc561",
   "metadata": {},
   "source": [
    "## Row Operations\n",
    "\n",
    "* Indexing is done using the iloc function and square bracket notation ([ ]). Need to specify the row indices.\n",
    "    ```python\n",
    "    df.iloc['row_numbers']\n",
    "    df.iloc[['row_numbers'],['column_numbers']]\n",
    "    ```\n",
    "• Using labels, indexing can be done using the loc function and square brackets([ ])\n",
    "    ``` python\n",
    "    df.loc['row_names']\n",
    "    df.loc[['row_names'],['column_names']]\n",
    "    ```\n",
    "• Logical indexing can be done using square brackets to select specific rows based on a logical array.\n",
    "    ``` python\n",
    "    df.loc['logical_column_vector']\n",
    "    df.loc[condition1 & condition2 & ...]\n",
    "    ```"
   ]
  },
  {
   "cell_type": "code",
   "execution_count": 49,
   "id": "53c98ea9",
   "metadata": {},
   "outputs": [
    {
     "name": "stdout",
     "output_type": "stream",
     "text": [
      "Company       GOOG\n",
      "Person     Charlie\n",
      "Sales          120\n",
      "Tax           0.12\n",
      "Name: 1, dtype: object\n"
     ]
    }
   ],
   "source": [
    "# Df Row Ops\n",
    "# reset df\n",
    "df = pd.read_csv(\"sales.csv\")\n",
    "\n",
    "# select second row\n",
    "print(df.iloc[1])"
   ]
  },
  {
   "cell_type": "code",
   "execution_count": 50,
   "id": "ce13b578",
   "metadata": {
    "scrolled": true
   },
   "outputs": [
    {
     "name": "stdout",
     "output_type": "stream",
     "text": [
      "  Company   Person  Sales   Tax\n",
      "2    MSFT      Amy    340  0.08\n",
      "3    MSFT  Vanessa    124  0.07\n"
     ]
    }
   ],
   "source": [
    "# select third to fourth row\n",
    "print(df.iloc[2:4])"
   ]
  },
  {
   "cell_type": "code",
   "execution_count": 51,
   "id": "a63315a6",
   "metadata": {},
   "outputs": [
    {
     "name": "stdout",
     "output_type": "stream",
     "text": [
      "  Company   Person  Sales   Tax\n",
      "0    GOOG      Sam    200  0.12\n",
      "1    GOOG  Charlie    120  0.12\n",
      "2    MSFT      Amy    340  0.08\n",
      "3    MSFT  Vanessa    124  0.07\n",
      "4      FB     Carl    243  0.06\n",
      "5      FB    Sarah    350  0.12\n"
     ]
    }
   ],
   "source": [
    "# create a new copy of df\n",
    "df2 = df.copy()\n",
    "print(df2)"
   ]
  },
  {
   "cell_type": "code",
   "execution_count": 52,
   "id": "749f2d3f",
   "metadata": {
    "scrolled": true
   },
   "outputs": [
    {
     "name": "stdout",
     "output_type": "stream",
     "text": [
      "        Company  Sales   Tax\n",
      "Person                      \n",
      "Sam        GOOG    200  0.12\n",
      "Charlie    GOOG    120  0.12\n",
      "Amy        MSFT    340  0.08\n",
      "Vanessa    MSFT    124  0.07\n",
      "Carl         FB    243  0.06\n",
      "Sarah        FB    350  0.12\n"
     ]
    }
   ],
   "source": [
    "# make Person the Labels of Each Row\n",
    "df2.set_index(\"Person\", inplace = True)\n",
    "print(df2)"
   ]
  },
  {
   "cell_type": "code",
   "execution_count": 58,
   "id": "2490d907",
   "metadata": {},
   "outputs": [
    {
     "name": "stdout",
     "output_type": "stream",
     "text": [
      "        Company  Sales   Tax\n",
      "Person                      \n",
      "Sam        GOOG    200  0.12\n",
      "Charlie    GOOG    120  0.12\n",
      "Amy        MSFT    340  0.08\n",
      "Vanessa    MSFT    124  0.07\n",
      "Carl         FB    243  0.06\n",
      "Sarah        FB    350  0.12\n"
     ]
    }
   ],
   "source": [
    "print(df2)"
   ]
  },
  {
   "cell_type": "code",
   "execution_count": 59,
   "id": "afdffd7a",
   "metadata": {},
   "outputs": [
    {
     "name": "stdout",
     "output_type": "stream",
     "text": [
      "Company    GOOG\n",
      "Person      Sam\n",
      "Sales       200\n",
      "Tax        0.12\n",
      "Name: 0, dtype: object\n",
      "Company    GOOG\n",
      "Sales       200\n",
      "Tax        0.12\n",
      "Name: Sam, dtype: object\n"
     ]
    }
   ],
   "source": [
    "# Select the row for Sam\n",
    "print(df.iloc[0])\n",
    "print(df2.loc['Sam'])"
   ]
  },
  {
   "cell_type": "code",
   "execution_count": 61,
   "id": "74b88195",
   "metadata": {},
   "outputs": [
    {
     "name": "stdout",
     "output_type": "stream",
     "text": [
      "       Company  Sales   Tax\n",
      "Person                     \n",
      "Sam       GOOG    200  0.12\n",
      "Amy       MSFT    340  0.08\n"
     ]
    }
   ],
   "source": [
    "# Select Rows for Sam and Amy\n",
    "print(df2.loc[['Sam','Amy']])"
   ]
  },
  {
   "cell_type": "code",
   "execution_count": 64,
   "id": "a73fb9ce",
   "metadata": {},
   "outputs": [
    {
     "name": "stdout",
     "output_type": "stream",
     "text": [
      "       Company   Tax\n",
      "Person              \n",
      "Sam       GOOG  0.12\n",
      "Amy       MSFT  0.08\n"
     ]
    }
   ],
   "source": [
    "# Select Rows for Sam and Amy and\n",
    "# show only Company and Tax\n",
    "print(df2.loc[['Sam','Amy'],['Company','Tax']])"
   ]
  },
  {
   "cell_type": "code",
   "execution_count": 67,
   "id": "9b8bc12b",
   "metadata": {},
   "outputs": [
    {
     "name": "stdout",
     "output_type": "stream",
     "text": [
      "0    200\n",
      "1    120\n",
      "2    340\n",
      "3    124\n",
      "4    243\n",
      "5    350\n",
      "Name: Sales, dtype: int64\n",
      "0     True\n",
      "1    False\n",
      "2     True\n",
      "3    False\n",
      "4     True\n",
      "5     True\n",
      "Name: Sales, dtype: bool\n"
     ]
    }
   ],
   "source": [
    "# identify rows of where sales > 150\n",
    "print(df['Sales'])\n",
    "print(df['Sales'] >150)"
   ]
  },
  {
   "cell_type": "code",
   "execution_count": 69,
   "id": "299bac07",
   "metadata": {},
   "outputs": [
    {
     "name": "stdout",
     "output_type": "stream",
     "text": [
      "  Company Person  Sales   Tax\n",
      "0    GOOG    Sam    200  0.12\n",
      "2    MSFT    Amy    340  0.08\n",
      "4      FB   Carl    243  0.06\n",
      "5      FB  Sarah    350  0.12\n"
     ]
    }
   ],
   "source": [
    "# select rows of df where sales >150\n",
    "print(df[df['Sales'] >150])"
   ]
  },
  {
   "cell_type": "code",
   "execution_count": 71,
   "id": "36c21470",
   "metadata": {},
   "outputs": [
    {
     "name": "stdout",
     "output_type": "stream",
     "text": [
      "  Company Person  Sales   Tax\n",
      "0    GOOG    Sam    200  0.12\n",
      "2    MSFT    Amy    340  0.08\n",
      "4      FB   Carl    243  0.06\n",
      "5      FB  Sarah    350  0.12\n"
     ]
    }
   ],
   "source": [
    "# select rows of df where Sales >150 and select only columns \n",
    "#Person and Tax\n",
    "print(df[df['Sales']>150])"
   ]
  },
  {
   "cell_type": "code",
   "execution_count": 75,
   "id": "59867d63",
   "metadata": {},
   "outputs": [
    {
     "name": "stdout",
     "output_type": "stream",
     "text": [
      "  Person   Tax\n",
      "4   Carl  0.06\n",
      "5  Sarah  0.12\n"
     ]
    }
   ],
   "source": [
    "# select rows of df where Sales >150 and select only rows \n",
    "#Company #= FB and select only columns Person and Tax\n",
    "print(df[(df['Sales'] >150) & (df['Company']=='FB')][['Person','Tax']])"
   ]
  },
  {
   "cell_type": "code",
   "execution_count": 77,
   "id": "4c859803",
   "metadata": {},
   "outputs": [
    {
     "data": {
      "text/html": [
       "<div>\n",
       "<style scoped>\n",
       "    .dataframe tbody tr th:only-of-type {\n",
       "        vertical-align: middle;\n",
       "    }\n",
       "\n",
       "    .dataframe tbody tr th {\n",
       "        vertical-align: top;\n",
       "    }\n",
       "\n",
       "    .dataframe thead th {\n",
       "        text-align: right;\n",
       "    }\n",
       "</style>\n",
       "<table border=\"1\" class=\"dataframe\">\n",
       "  <thead>\n",
       "    <tr style=\"text-align: right;\">\n",
       "      <th></th>\n",
       "      <th>Person</th>\n",
       "      <th>Tax</th>\n",
       "    </tr>\n",
       "  </thead>\n",
       "  <tbody>\n",
       "    <tr>\n",
       "      <th>4</th>\n",
       "      <td>Carl</td>\n",
       "      <td>0.06</td>\n",
       "    </tr>\n",
       "    <tr>\n",
       "      <th>5</th>\n",
       "      <td>Sarah</td>\n",
       "      <td>0.12</td>\n",
       "    </tr>\n",
       "  </tbody>\n",
       "</table>\n",
       "</div>"
      ],
      "text/plain": [
       "  Person   Tax\n",
       "4   Carl  0.06\n",
       "5  Sarah  0.12"
      ]
     },
     "execution_count": 77,
     "metadata": {},
     "output_type": "execute_result"
    }
   ],
   "source": [
    "df.loc[(df['Sales'] >150) & (df['Company']=='FB'), ['Person','Tax']]"
   ]
  },
  {
   "cell_type": "markdown",
   "id": "147cfe81",
   "metadata": {},
   "source": [
    "# Checkpoint\n",
    "\n",
    "In this exercise, we are using Automobile Dataset for data analysis. This Dataset has different characteristics of an auto such as body-style, wheel-base, engine-type, price, mileage, horsepower, etc.\n",
    "\n",
    "* Exercise 1: From the given dataset print the first and last five rows\n",
    "* Exercise 2: Print All Toyota Cars details\n",
    "* Exercise 3: Sort all cars by Price column. [See reference](https://pandas.pydata.org/pandas-docs/stable/reference/api/pandas.DataFrame.sort_values.html)\n",
    "* Exercise 4: Count total cars per company. [See reference](https://pandas.pydata.org/pandas-docs/stable/reference/api/pandas.core.groupby.SeriesGroupBy.value_counts.html?highlight=value_counts#pandas.core.groupby.SeriesGroupBy.value_counts)\n",
    "* Exercise 5: See all toyota cars with hatchback body style\n",
    "* Exercise 6: **Set** all toyota cars with hatchback body style with mileage=90"
   ]
  },
  {
   "cell_type": "code",
   "execution_count": 138,
   "id": "52cc902b",
   "metadata": {},
   "outputs": [
    {
     "data": {
      "text/html": [
       "<div>\n",
       "<style scoped>\n",
       "    .dataframe tbody tr th:only-of-type {\n",
       "        vertical-align: middle;\n",
       "    }\n",
       "\n",
       "    .dataframe tbody tr th {\n",
       "        vertical-align: top;\n",
       "    }\n",
       "\n",
       "    .dataframe thead th {\n",
       "        text-align: right;\n",
       "    }\n",
       "</style>\n",
       "<table border=\"1\" class=\"dataframe\">\n",
       "  <thead>\n",
       "    <tr style=\"text-align: right;\">\n",
       "      <th></th>\n",
       "      <th>index</th>\n",
       "      <th>company</th>\n",
       "      <th>body-style</th>\n",
       "      <th>wheel-base</th>\n",
       "      <th>length</th>\n",
       "      <th>engine-type</th>\n",
       "      <th>num-of-cylinders</th>\n",
       "      <th>horsepower</th>\n",
       "      <th>average-mileage</th>\n",
       "      <th>price</th>\n",
       "    </tr>\n",
       "  </thead>\n",
       "  <tbody>\n",
       "    <tr>\n",
       "      <th>0</th>\n",
       "      <td>0</td>\n",
       "      <td>alfa-romero</td>\n",
       "      <td>convertible</td>\n",
       "      <td>88.6</td>\n",
       "      <td>168.8</td>\n",
       "      <td>dohc</td>\n",
       "      <td>four</td>\n",
       "      <td>111</td>\n",
       "      <td>21</td>\n",
       "      <td>13495.0</td>\n",
       "    </tr>\n",
       "    <tr>\n",
       "      <th>1</th>\n",
       "      <td>1</td>\n",
       "      <td>alfa-romero</td>\n",
       "      <td>convertible</td>\n",
       "      <td>88.6</td>\n",
       "      <td>168.8</td>\n",
       "      <td>dohc</td>\n",
       "      <td>four</td>\n",
       "      <td>111</td>\n",
       "      <td>21</td>\n",
       "      <td>16500.0</td>\n",
       "    </tr>\n",
       "    <tr>\n",
       "      <th>2</th>\n",
       "      <td>2</td>\n",
       "      <td>alfa-romero</td>\n",
       "      <td>hatchback</td>\n",
       "      <td>94.5</td>\n",
       "      <td>171.2</td>\n",
       "      <td>ohcv</td>\n",
       "      <td>six</td>\n",
       "      <td>154</td>\n",
       "      <td>19</td>\n",
       "      <td>16500.0</td>\n",
       "    </tr>\n",
       "    <tr>\n",
       "      <th>3</th>\n",
       "      <td>3</td>\n",
       "      <td>audi</td>\n",
       "      <td>sedan</td>\n",
       "      <td>99.8</td>\n",
       "      <td>176.6</td>\n",
       "      <td>ohc</td>\n",
       "      <td>four</td>\n",
       "      <td>102</td>\n",
       "      <td>24</td>\n",
       "      <td>13950.0</td>\n",
       "    </tr>\n",
       "    <tr>\n",
       "      <th>4</th>\n",
       "      <td>4</td>\n",
       "      <td>audi</td>\n",
       "      <td>sedan</td>\n",
       "      <td>99.4</td>\n",
       "      <td>176.6</td>\n",
       "      <td>ohc</td>\n",
       "      <td>five</td>\n",
       "      <td>115</td>\n",
       "      <td>18</td>\n",
       "      <td>17450.0</td>\n",
       "    </tr>\n",
       "    <tr>\n",
       "      <th>56</th>\n",
       "      <td>81</td>\n",
       "      <td>volkswagen</td>\n",
       "      <td>sedan</td>\n",
       "      <td>97.3</td>\n",
       "      <td>171.7</td>\n",
       "      <td>ohc</td>\n",
       "      <td>four</td>\n",
       "      <td>85</td>\n",
       "      <td>27</td>\n",
       "      <td>7975.0</td>\n",
       "    </tr>\n",
       "    <tr>\n",
       "      <th>57</th>\n",
       "      <td>82</td>\n",
       "      <td>volkswagen</td>\n",
       "      <td>sedan</td>\n",
       "      <td>97.3</td>\n",
       "      <td>171.7</td>\n",
       "      <td>ohc</td>\n",
       "      <td>four</td>\n",
       "      <td>52</td>\n",
       "      <td>37</td>\n",
       "      <td>7995.0</td>\n",
       "    </tr>\n",
       "    <tr>\n",
       "      <th>58</th>\n",
       "      <td>86</td>\n",
       "      <td>volkswagen</td>\n",
       "      <td>sedan</td>\n",
       "      <td>97.3</td>\n",
       "      <td>171.7</td>\n",
       "      <td>ohc</td>\n",
       "      <td>four</td>\n",
       "      <td>100</td>\n",
       "      <td>26</td>\n",
       "      <td>9995.0</td>\n",
       "    </tr>\n",
       "    <tr>\n",
       "      <th>59</th>\n",
       "      <td>87</td>\n",
       "      <td>volvo</td>\n",
       "      <td>sedan</td>\n",
       "      <td>104.3</td>\n",
       "      <td>188.8</td>\n",
       "      <td>ohc</td>\n",
       "      <td>four</td>\n",
       "      <td>114</td>\n",
       "      <td>23</td>\n",
       "      <td>12940.0</td>\n",
       "    </tr>\n",
       "    <tr>\n",
       "      <th>60</th>\n",
       "      <td>88</td>\n",
       "      <td>volvo</td>\n",
       "      <td>wagon</td>\n",
       "      <td>104.3</td>\n",
       "      <td>188.8</td>\n",
       "      <td>ohc</td>\n",
       "      <td>four</td>\n",
       "      <td>114</td>\n",
       "      <td>23</td>\n",
       "      <td>13415.0</td>\n",
       "    </tr>\n",
       "  </tbody>\n",
       "</table>\n",
       "</div>"
      ],
      "text/plain": [
       "    index      company   body-style  wheel-base  length engine-type  \\\n",
       "0       0  alfa-romero  convertible        88.6   168.8        dohc   \n",
       "1       1  alfa-romero  convertible        88.6   168.8        dohc   \n",
       "2       2  alfa-romero    hatchback        94.5   171.2        ohcv   \n",
       "3       3         audi        sedan        99.8   176.6         ohc   \n",
       "4       4         audi        sedan        99.4   176.6         ohc   \n",
       "56     81   volkswagen        sedan        97.3   171.7         ohc   \n",
       "57     82   volkswagen        sedan        97.3   171.7         ohc   \n",
       "58     86   volkswagen        sedan        97.3   171.7         ohc   \n",
       "59     87        volvo        sedan       104.3   188.8         ohc   \n",
       "60     88        volvo        wagon       104.3   188.8         ohc   \n",
       "\n",
       "   num-of-cylinders  horsepower  average-mileage    price  \n",
       "0              four         111               21  13495.0  \n",
       "1              four         111               21  16500.0  \n",
       "2               six         154               19  16500.0  \n",
       "3              four         102               24  13950.0  \n",
       "4              five         115               18  17450.0  \n",
       "56             four          85               27   7975.0  \n",
       "57             four          52               37   7995.0  \n",
       "58             four         100               26   9995.0  \n",
       "59             four         114               23  12940.0  \n",
       "60             four         114               23  13415.0  "
      ]
     },
     "execution_count": 138,
     "metadata": {},
     "output_type": "execute_result"
    }
   ],
   "source": [
    "# exercise1\n",
    "car_df = pd.read_csv('Automobile_data.csv')\n",
    "# first and last five rows (separate)\n",
    "#print(car_df[:5])\n",
    "#print(car_df[-5:])\n",
    "\n",
    "#print(car_df.head(5))\n",
    "#print(car_df.tail(5))\n",
    "\n",
    "# both\n",
    "car_first_5 = car_df.head(5)\n",
    "car_last_5 = car_df.tail(5)\n",
    "car_df1 = pd.concat([car_first_5, car_last_5])\n",
    "car_df1"
   ]
  },
  {
   "cell_type": "code",
   "execution_count": 119,
   "id": "2365bf99",
   "metadata": {
    "scrolled": true
   },
   "outputs": [
    {
     "data": {
      "text/html": [
       "<div>\n",
       "<style scoped>\n",
       "    .dataframe tbody tr th:only-of-type {\n",
       "        vertical-align: middle;\n",
       "    }\n",
       "\n",
       "    .dataframe tbody tr th {\n",
       "        vertical-align: top;\n",
       "    }\n",
       "\n",
       "    .dataframe thead th {\n",
       "        text-align: right;\n",
       "    }\n",
       "</style>\n",
       "<table border=\"1\" class=\"dataframe\">\n",
       "  <thead>\n",
       "    <tr style=\"text-align: right;\">\n",
       "      <th></th>\n",
       "      <th>index</th>\n",
       "      <th>company</th>\n",
       "      <th>body-style</th>\n",
       "      <th>wheel-base</th>\n",
       "      <th>length</th>\n",
       "      <th>engine-type</th>\n",
       "      <th>num-of-cylinders</th>\n",
       "      <th>horsepower</th>\n",
       "      <th>average-mileage</th>\n",
       "      <th>price</th>\n",
       "    </tr>\n",
       "  </thead>\n",
       "  <tbody>\n",
       "    <tr>\n",
       "      <th>48</th>\n",
       "      <td>66</td>\n",
       "      <td>toyota</td>\n",
       "      <td>hatchback</td>\n",
       "      <td>95.7</td>\n",
       "      <td>158.7</td>\n",
       "      <td>ohc</td>\n",
       "      <td>four</td>\n",
       "      <td>62</td>\n",
       "      <td>35</td>\n",
       "      <td>5348.0</td>\n",
       "    </tr>\n",
       "    <tr>\n",
       "      <th>49</th>\n",
       "      <td>67</td>\n",
       "      <td>toyota</td>\n",
       "      <td>hatchback</td>\n",
       "      <td>95.7</td>\n",
       "      <td>158.7</td>\n",
       "      <td>ohc</td>\n",
       "      <td>four</td>\n",
       "      <td>62</td>\n",
       "      <td>31</td>\n",
       "      <td>6338.0</td>\n",
       "    </tr>\n",
       "    <tr>\n",
       "      <th>50</th>\n",
       "      <td>68</td>\n",
       "      <td>toyota</td>\n",
       "      <td>hatchback</td>\n",
       "      <td>95.7</td>\n",
       "      <td>158.7</td>\n",
       "      <td>ohc</td>\n",
       "      <td>four</td>\n",
       "      <td>62</td>\n",
       "      <td>31</td>\n",
       "      <td>6488.0</td>\n",
       "    </tr>\n",
       "    <tr>\n",
       "      <th>51</th>\n",
       "      <td>69</td>\n",
       "      <td>toyota</td>\n",
       "      <td>wagon</td>\n",
       "      <td>95.7</td>\n",
       "      <td>169.7</td>\n",
       "      <td>ohc</td>\n",
       "      <td>four</td>\n",
       "      <td>62</td>\n",
       "      <td>31</td>\n",
       "      <td>6918.0</td>\n",
       "    </tr>\n",
       "    <tr>\n",
       "      <th>52</th>\n",
       "      <td>70</td>\n",
       "      <td>toyota</td>\n",
       "      <td>wagon</td>\n",
       "      <td>95.7</td>\n",
       "      <td>169.7</td>\n",
       "      <td>ohc</td>\n",
       "      <td>four</td>\n",
       "      <td>62</td>\n",
       "      <td>27</td>\n",
       "      <td>7898.0</td>\n",
       "    </tr>\n",
       "    <tr>\n",
       "      <th>53</th>\n",
       "      <td>71</td>\n",
       "      <td>toyota</td>\n",
       "      <td>wagon</td>\n",
       "      <td>95.7</td>\n",
       "      <td>169.7</td>\n",
       "      <td>ohc</td>\n",
       "      <td>four</td>\n",
       "      <td>62</td>\n",
       "      <td>27</td>\n",
       "      <td>8778.0</td>\n",
       "    </tr>\n",
       "    <tr>\n",
       "      <th>54</th>\n",
       "      <td>79</td>\n",
       "      <td>toyota</td>\n",
       "      <td>wagon</td>\n",
       "      <td>104.5</td>\n",
       "      <td>187.8</td>\n",
       "      <td>dohc</td>\n",
       "      <td>six</td>\n",
       "      <td>156</td>\n",
       "      <td>19</td>\n",
       "      <td>15750.0</td>\n",
       "    </tr>\n",
       "  </tbody>\n",
       "</table>\n",
       "</div>"
      ],
      "text/plain": [
       "    index company body-style  wheel-base  length engine-type num-of-cylinders  \\\n",
       "48     66  toyota  hatchback        95.7   158.7         ohc             four   \n",
       "49     67  toyota  hatchback        95.7   158.7         ohc             four   \n",
       "50     68  toyota  hatchback        95.7   158.7         ohc             four   \n",
       "51     69  toyota      wagon        95.7   169.7         ohc             four   \n",
       "52     70  toyota      wagon        95.7   169.7         ohc             four   \n",
       "53     71  toyota      wagon        95.7   169.7         ohc             four   \n",
       "54     79  toyota      wagon       104.5   187.8        dohc              six   \n",
       "\n",
       "    horsepower  average-mileage    price  \n",
       "48          62               35   5348.0  \n",
       "49          62               31   6338.0  \n",
       "50          62               31   6488.0  \n",
       "51          62               31   6918.0  \n",
       "52          62               27   7898.0  \n",
       "53          62               27   8778.0  \n",
       "54         156               19  15750.0  "
      ]
     },
     "execution_count": 119,
     "metadata": {},
     "output_type": "execute_result"
    }
   ],
   "source": [
    "# exercise 2\n",
    "car_df[car_df['company']=='toyota']"
   ]
  },
  {
   "cell_type": "code",
   "execution_count": 122,
   "id": "ccfcb4f1",
   "metadata": {},
   "outputs": [
    {
     "data": {
      "text/html": [
       "<div>\n",
       "<style scoped>\n",
       "    .dataframe tbody tr th:only-of-type {\n",
       "        vertical-align: middle;\n",
       "    }\n",
       "\n",
       "    .dataframe tbody tr th {\n",
       "        vertical-align: top;\n",
       "    }\n",
       "\n",
       "    .dataframe thead th {\n",
       "        text-align: right;\n",
       "    }\n",
       "</style>\n",
       "<table border=\"1\" class=\"dataframe\">\n",
       "  <thead>\n",
       "    <tr style=\"text-align: right;\">\n",
       "      <th></th>\n",
       "      <th>index</th>\n",
       "      <th>company</th>\n",
       "      <th>body-style</th>\n",
       "      <th>wheel-base</th>\n",
       "      <th>length</th>\n",
       "      <th>engine-type</th>\n",
       "      <th>num-of-cylinders</th>\n",
       "      <th>horsepower</th>\n",
       "      <th>average-mileage</th>\n",
       "      <th>price</th>\n",
       "    </tr>\n",
       "  </thead>\n",
       "  <tbody>\n",
       "    <tr>\n",
       "      <th>13</th>\n",
       "      <td>16</td>\n",
       "      <td>chevrolet</td>\n",
       "      <td>hatchback</td>\n",
       "      <td>88.4</td>\n",
       "      <td>141.1</td>\n",
       "      <td>l</td>\n",
       "      <td>three</td>\n",
       "      <td>48</td>\n",
       "      <td>47</td>\n",
       "      <td>5151.0</td>\n",
       "    </tr>\n",
       "    <tr>\n",
       "      <th>27</th>\n",
       "      <td>36</td>\n",
       "      <td>mazda</td>\n",
       "      <td>hatchback</td>\n",
       "      <td>93.1</td>\n",
       "      <td>159.1</td>\n",
       "      <td>ohc</td>\n",
       "      <td>four</td>\n",
       "      <td>68</td>\n",
       "      <td>30</td>\n",
       "      <td>5195.0</td>\n",
       "    </tr>\n",
       "    <tr>\n",
       "      <th>48</th>\n",
       "      <td>66</td>\n",
       "      <td>toyota</td>\n",
       "      <td>hatchback</td>\n",
       "      <td>95.7</td>\n",
       "      <td>158.7</td>\n",
       "      <td>ohc</td>\n",
       "      <td>four</td>\n",
       "      <td>62</td>\n",
       "      <td>35</td>\n",
       "      <td>5348.0</td>\n",
       "    </tr>\n",
       "    <tr>\n",
       "      <th>36</th>\n",
       "      <td>49</td>\n",
       "      <td>mitsubishi</td>\n",
       "      <td>hatchback</td>\n",
       "      <td>93.7</td>\n",
       "      <td>157.3</td>\n",
       "      <td>ohc</td>\n",
       "      <td>four</td>\n",
       "      <td>68</td>\n",
       "      <td>37</td>\n",
       "      <td>5389.0</td>\n",
       "    </tr>\n",
       "    <tr>\n",
       "      <th>28</th>\n",
       "      <td>37</td>\n",
       "      <td>mazda</td>\n",
       "      <td>hatchback</td>\n",
       "      <td>93.1</td>\n",
       "      <td>159.1</td>\n",
       "      <td>ohc</td>\n",
       "      <td>four</td>\n",
       "      <td>68</td>\n",
       "      <td>31</td>\n",
       "      <td>6095.0</td>\n",
       "    </tr>\n",
       "    <tr>\n",
       "      <th>...</th>\n",
       "      <td>...</td>\n",
       "      <td>...</td>\n",
       "      <td>...</td>\n",
       "      <td>...</td>\n",
       "      <td>...</td>\n",
       "      <td>...</td>\n",
       "      <td>...</td>\n",
       "      <td>...</td>\n",
       "      <td>...</td>\n",
       "      <td>...</td>\n",
       "    </tr>\n",
       "    <tr>\n",
       "      <th>11</th>\n",
       "      <td>14</td>\n",
       "      <td>bmw</td>\n",
       "      <td>sedan</td>\n",
       "      <td>103.5</td>\n",
       "      <td>193.8</td>\n",
       "      <td>ohc</td>\n",
       "      <td>six</td>\n",
       "      <td>182</td>\n",
       "      <td>16</td>\n",
       "      <td>41315.0</td>\n",
       "    </tr>\n",
       "    <tr>\n",
       "      <th>35</th>\n",
       "      <td>47</td>\n",
       "      <td>mercedes-benz</td>\n",
       "      <td>hardtop</td>\n",
       "      <td>112.0</td>\n",
       "      <td>199.2</td>\n",
       "      <td>ohcv</td>\n",
       "      <td>eight</td>\n",
       "      <td>184</td>\n",
       "      <td>14</td>\n",
       "      <td>45400.0</td>\n",
       "    </tr>\n",
       "    <tr>\n",
       "      <th>47</th>\n",
       "      <td>63</td>\n",
       "      <td>porsche</td>\n",
       "      <td>hatchback</td>\n",
       "      <td>98.4</td>\n",
       "      <td>175.7</td>\n",
       "      <td>dohcv</td>\n",
       "      <td>eight</td>\n",
       "      <td>288</td>\n",
       "      <td>17</td>\n",
       "      <td>NaN</td>\n",
       "    </tr>\n",
       "    <tr>\n",
       "      <th>22</th>\n",
       "      <td>31</td>\n",
       "      <td>isuzu</td>\n",
       "      <td>sedan</td>\n",
       "      <td>94.5</td>\n",
       "      <td>155.9</td>\n",
       "      <td>ohc</td>\n",
       "      <td>four</td>\n",
       "      <td>70</td>\n",
       "      <td>38</td>\n",
       "      <td>NaN</td>\n",
       "    </tr>\n",
       "    <tr>\n",
       "      <th>23</th>\n",
       "      <td>32</td>\n",
       "      <td>isuzu</td>\n",
       "      <td>sedan</td>\n",
       "      <td>94.5</td>\n",
       "      <td>155.9</td>\n",
       "      <td>ohc</td>\n",
       "      <td>four</td>\n",
       "      <td>70</td>\n",
       "      <td>38</td>\n",
       "      <td>NaN</td>\n",
       "    </tr>\n",
       "  </tbody>\n",
       "</table>\n",
       "<p>61 rows × 10 columns</p>\n",
       "</div>"
      ],
      "text/plain": [
       "    index        company body-style  wheel-base  length engine-type  \\\n",
       "13     16      chevrolet  hatchback        88.4   141.1           l   \n",
       "27     36          mazda  hatchback        93.1   159.1         ohc   \n",
       "48     66         toyota  hatchback        95.7   158.7         ohc   \n",
       "36     49     mitsubishi  hatchback        93.7   157.3         ohc   \n",
       "28     37          mazda  hatchback        93.1   159.1         ohc   \n",
       "..    ...            ...        ...         ...     ...         ...   \n",
       "11     14            bmw      sedan       103.5   193.8         ohc   \n",
       "35     47  mercedes-benz    hardtop       112.0   199.2        ohcv   \n",
       "47     63        porsche  hatchback        98.4   175.7       dohcv   \n",
       "22     31          isuzu      sedan        94.5   155.9         ohc   \n",
       "23     32          isuzu      sedan        94.5   155.9         ohc   \n",
       "\n",
       "   num-of-cylinders  horsepower  average-mileage    price  \n",
       "13            three          48               47   5151.0  \n",
       "27             four          68               30   5195.0  \n",
       "48             four          62               35   5348.0  \n",
       "36             four          68               37   5389.0  \n",
       "28             four          68               31   6095.0  \n",
       "..              ...         ...              ...      ...  \n",
       "11              six         182               16  41315.0  \n",
       "35            eight         184               14  45400.0  \n",
       "47            eight         288               17      NaN  \n",
       "22             four          70               38      NaN  \n",
       "23             four          70               38      NaN  \n",
       "\n",
       "[61 rows x 10 columns]"
      ]
     },
     "execution_count": 122,
     "metadata": {},
     "output_type": "execute_result"
    }
   ],
   "source": [
    "# exercise 3\n",
    "#Sort all cars by Price column. See reference\n",
    "car_df.sort_values(by=['price', 'engine-type'])"
   ]
  },
  {
   "cell_type": "code",
   "execution_count": 100,
   "id": "7bbedf7b",
   "metadata": {},
   "outputs": [
    {
     "data": {
      "text/plain": [
       "toyota           7\n",
       "bmw              6\n",
       "mazda            5\n",
       "nissan           5\n",
       "audi             4\n",
       "mercedes-benz    4\n",
       "mitsubishi       4\n",
       "volkswagen       4\n",
       "alfa-romero      3\n",
       "chevrolet        3\n",
       "honda            3\n",
       "isuzu            3\n",
       "jaguar           3\n",
       "porsche          3\n",
       "dodge            2\n",
       "volvo            2\n",
       "Name: company, dtype: int64"
      ]
     },
     "execution_count": 100,
     "metadata": {},
     "output_type": "execute_result"
    }
   ],
   "source": [
    "# exercise 4\n",
    "car_df['company'].value_counts()"
   ]
  },
  {
   "cell_type": "code",
   "execution_count": 114,
   "id": "4ea7251a",
   "metadata": {},
   "outputs": [
    {
     "data": {
      "text/html": [
       "<div>\n",
       "<style scoped>\n",
       "    .dataframe tbody tr th:only-of-type {\n",
       "        vertical-align: middle;\n",
       "    }\n",
       "\n",
       "    .dataframe tbody tr th {\n",
       "        vertical-align: top;\n",
       "    }\n",
       "\n",
       "    .dataframe thead th {\n",
       "        text-align: right;\n",
       "    }\n",
       "</style>\n",
       "<table border=\"1\" class=\"dataframe\">\n",
       "  <thead>\n",
       "    <tr style=\"text-align: right;\">\n",
       "      <th></th>\n",
       "      <th>index</th>\n",
       "      <th>company</th>\n",
       "      <th>body-style</th>\n",
       "      <th>wheel-base</th>\n",
       "      <th>length</th>\n",
       "      <th>engine-type</th>\n",
       "      <th>num-of-cylinders</th>\n",
       "      <th>horsepower</th>\n",
       "      <th>average-mileage</th>\n",
       "      <th>price</th>\n",
       "    </tr>\n",
       "  </thead>\n",
       "  <tbody>\n",
       "    <tr>\n",
       "      <th>48</th>\n",
       "      <td>66</td>\n",
       "      <td>toyota</td>\n",
       "      <td>hatchback</td>\n",
       "      <td>95.7</td>\n",
       "      <td>158.7</td>\n",
       "      <td>ohc</td>\n",
       "      <td>four</td>\n",
       "      <td>62</td>\n",
       "      <td>35</td>\n",
       "      <td>5348.0</td>\n",
       "    </tr>\n",
       "    <tr>\n",
       "      <th>49</th>\n",
       "      <td>67</td>\n",
       "      <td>toyota</td>\n",
       "      <td>hatchback</td>\n",
       "      <td>95.7</td>\n",
       "      <td>158.7</td>\n",
       "      <td>ohc</td>\n",
       "      <td>four</td>\n",
       "      <td>62</td>\n",
       "      <td>31</td>\n",
       "      <td>6338.0</td>\n",
       "    </tr>\n",
       "    <tr>\n",
       "      <th>50</th>\n",
       "      <td>68</td>\n",
       "      <td>toyota</td>\n",
       "      <td>hatchback</td>\n",
       "      <td>95.7</td>\n",
       "      <td>158.7</td>\n",
       "      <td>ohc</td>\n",
       "      <td>four</td>\n",
       "      <td>62</td>\n",
       "      <td>31</td>\n",
       "      <td>6488.0</td>\n",
       "    </tr>\n",
       "  </tbody>\n",
       "</table>\n",
       "</div>"
      ],
      "text/plain": [
       "    index company body-style  wheel-base  length engine-type num-of-cylinders  \\\n",
       "48     66  toyota  hatchback        95.7   158.7         ohc             four   \n",
       "49     67  toyota  hatchback        95.7   158.7         ohc             four   \n",
       "50     68  toyota  hatchback        95.7   158.7         ohc             four   \n",
       "\n",
       "    horsepower  average-mileage   price  \n",
       "48          62               35  5348.0  \n",
       "49          62               31  6338.0  \n",
       "50          62               31  6488.0  "
      ]
     },
     "execution_count": 114,
     "metadata": {},
     "output_type": "execute_result"
    }
   ],
   "source": [
    "# exercise 5\n",
    "car_df[(car_df['body-style']=='hatchback') & (car_df['company']=='toyota')]\n",
    "car_df.loc[(car_df['body-style']=='hatchback') & (car_df['company']=='toyota')]"
   ]
  },
  {
   "cell_type": "code",
   "execution_count": 153,
   "id": "08f10dcc",
   "metadata": {},
   "outputs": [
    {
     "name": "stdout",
     "output_type": "stream",
     "text": [
      "before\n",
      "48    35\n",
      "49    31\n",
      "50    31\n",
      "Name: average-mileage, dtype: int64\n",
      "after\n",
      "48    90\n",
      "49    90\n",
      "50    90\n",
      "Name: average-mileage, dtype: int64\n"
     ]
    }
   ],
   "source": [
    "# exercise 6\n",
    "#Set all toyota cars with hatchback body style with mileage=90\n",
    "car_df = pd.read_csv('Automobile_data.csv')\n",
    "print(\"before\")\n",
    "print(car_df.loc[(car_df['body-style']=='hatchback') & (car_df['company']=='toyota'), 'average-mileage'])\n",
    "car_df.loc[(car_df['body-style']=='hatchback') & (car_df['company']=='toyota'), 'average-mileage'] = 90\n",
    "print(\"after\")\n",
    "print(car_df.loc[(car_df['body-style']=='hatchback') & (car_df['company']=='toyota'), 'average-mileage'])"
   ]
  },
  {
   "cell_type": "markdown",
   "id": "9fb5eac7",
   "metadata": {},
   "source": [
    "# Data Processing\n",
    "* Data is usually not in its final form needed for most of the analytics methodologies. \n",
    "* Data in the real world is dirty\n",
    "    – incomplete: lacking attribute values, lacking certain attributes of interest, or containing only aggregate data (e.g., occupation=\" \")\n",
    "    – noisy: containing errors or outliers (e.g., Salary=\"-10\")\n",
    "    – inconsistent: containing discrepancies in codes or names (e.g., Age=“42” Birthday=“03/07/1997”)\n",
    "* Hence the need for Data Processing"
   ]
  },
  {
   "cell_type": "markdown",
   "id": "63a94ac1",
   "metadata": {},
   "source": [
    "## Data Transformation\n",
    "* Aggregation: summarization, data cube construction\n",
    "* Melting: Conversion of short to long datasets\n",
    "* Pivoting: Conversion of long datasets to short\n",
    "* Generalization: concept hierarchy climbing (numeric values for age or youth, adult senior)\n",
    "* Normalization: scaled to fall within a small, specified range\n",
    "    - min-max normalization\n",
    "    – z-score standardization\n",
    "* Attribute/feature construction\n",
    "    - New attributes constructed from the given ones"
   ]
  },
  {
   "cell_type": "markdown",
   "id": "e97622d8",
   "metadata": {},
   "source": [
    "## Why Is Data Processing Important?\n",
    "* No quality data, no quality mining results!\n",
    "    - Quality decisions must be based on quality data (e.g., duplicate or missing data may cause incorrect or even misleading statistcs.)\n",
    "    - Data warehouse needs consistent integration of quality data\n",
    "    - Data extraction, cleaning, and transformation comprises the majority of the work of building a data warehouse\n"
   ]
  },
  {
   "cell_type": "markdown",
   "id": "c1d4d67a",
   "metadata": {},
   "source": [
    "## DataFrame Aggregation Operations\n",
    "* Aggregation functions can be applied to groups of data based on values of specific columns.\n",
    "* Utilized the groupby() command\n",
    "* Output is a dataframe where the following sample operations can be done by group\n",
    "    * df.mean() #get mean\n",
    "    * df.std() #get standard dev\n",
    "    * df.min() #get min\n",
    "    * df.max() #get max\n",
    "    * df.count() # count the number of elements\n",
    "    * df.describe() # compute for various desc. stat"
   ]
  },
  {
   "cell_type": "code",
   "execution_count": 157,
   "id": "792dc8b9",
   "metadata": {
    "scrolled": true
   },
   "outputs": [
    {
     "name": "stdout",
     "output_type": "stream",
     "text": [
      "Sales    229.500\n",
      "Tax        0.095\n",
      "dtype: float64\n",
      "\n",
      "\n",
      "Sales    100.899455\n",
      "Tax        0.028107\n",
      "dtype: float64\n",
      "\n",
      "\n",
      "Company      FB\n",
      "Person      Amy\n",
      "Sales       120\n",
      "Tax        0.06\n",
      "dtype: object\n",
      "\n",
      "\n",
      "Company       MSFT\n",
      "Person     Vanessa\n",
      "Sales          350\n",
      "Tax           0.12\n",
      "dtype: object\n",
      "\n",
      "\n",
      "Company    6\n",
      "Person     6\n",
      "Sales      6\n",
      "Tax        6\n",
      "dtype: int64\n",
      "\n",
      "\n",
      "            Sales       Tax\n",
      "count    6.000000  6.000000\n",
      "mean   229.500000  0.095000\n",
      "std    100.899455  0.028107\n",
      "min    120.000000  0.060000\n",
      "25%    143.000000  0.072500\n",
      "50%    221.500000  0.100000\n",
      "75%    315.750000  0.120000\n",
      "max    350.000000  0.120000\n"
     ]
    },
    {
     "name": "stderr",
     "output_type": "stream",
     "text": [
      "C:\\Users\\Sam\\AppData\\Local\\Temp/ipykernel_2464/1344212576.py:2: FutureWarning: Dropping of nuisance columns in DataFrame reductions (with 'numeric_only=None') is deprecated; in a future version this will raise TypeError.  Select only valid columns before calling the reduction.\n",
      "  print(df.mean())\n",
      "C:\\Users\\Sam\\AppData\\Local\\Temp/ipykernel_2464/1344212576.py:4: FutureWarning: Dropping of nuisance columns in DataFrame reductions (with 'numeric_only=None') is deprecated; in a future version this will raise TypeError.  Select only valid columns before calling the reduction.\n",
      "  print(df.std())\n"
     ]
    }
   ],
   "source": [
    "#Summarizing Data\n",
    "print(df.mean())\n",
    "print(\"\\n\")\n",
    "print(df.std())\n",
    "print(\"\\n\")\n",
    "print(df.min())\n",
    "print(\"\\n\")\n",
    "print(df.max())\n",
    "print(\"\\n\")\n",
    "print(df.count())\n",
    "print(\"\\n\")\n",
    "print(df.describe())"
   ]
  },
  {
   "cell_type": "code",
   "execution_count": 167,
   "id": "3eb3ddd3",
   "metadata": {},
   "outputs": [
    {
     "name": "stdout",
     "output_type": "stream",
     "text": [
      "         Sales    Tax\n",
      "Company              \n",
      "FB       296.5  0.090\n",
      "GOOG     160.0  0.120\n",
      "MSFT     232.0  0.075\n",
      "\n",
      "\n",
      "              Sales       Tax\n",
      "Company                      \n",
      "FB        75.660426  0.042426\n",
      "GOOG      56.568542  0.000000\n",
      "MSFT     152.735065  0.007071\n",
      "\n",
      "\n",
      "          Person  Sales   Tax\n",
      "Company                      \n",
      "FB          Carl    243  0.06\n",
      "GOOG     Charlie    120  0.12\n",
      "MSFT         Amy    124  0.07\n",
      "\n",
      "\n",
      "          Person  Sales   Tax\n",
      "Company                      \n",
      "FB         Sarah    350  0.12\n",
      "GOOG         Sam    200  0.12\n",
      "MSFT     Vanessa    340  0.08\n",
      "\n",
      "\n",
      "         Person  Sales  Tax\n",
      "Company                    \n",
      "FB            2      2    2\n",
      "GOOG          2      2    2\n",
      "MSFT          2      2    2\n",
      "\n",
      "\n",
      "        Sales                                                           Tax  \\\n",
      "        count   mean         std    min     25%    50%     75%    max count   \n",
      "Company                                                                       \n",
      "FB        2.0  296.5   75.660426  243.0  269.75  296.5  323.25  350.0   2.0   \n",
      "GOOG      2.0  160.0   56.568542  120.0  140.00  160.0  180.00  200.0   2.0   \n",
      "MSFT      2.0  232.0  152.735065  124.0  178.00  232.0  286.00  340.0   2.0   \n",
      "\n",
      "                                                             \n",
      "          mean       std   min     25%    50%     75%   max  \n",
      "Company                                                      \n",
      "FB       0.090  0.042426  0.06  0.0750  0.090  0.1050  0.12  \n",
      "GOOG     0.120  0.000000  0.12  0.1200  0.120  0.1200  0.12  \n",
      "MSFT     0.075  0.007071  0.07  0.0725  0.075  0.0775  0.08  \n"
     ]
    }
   ],
   "source": [
    "# groupby aggregation\n",
    "by_comp = df.groupby(\"Company\")\n",
    "print(by_comp.mean())\n",
    "print(\"\\n\")\n",
    "print(by_comp.std())\n",
    "print(\"\\n\")\n",
    "print(by_comp.min())\n",
    "print(\"\\n\")\n",
    "print(by_comp.max())\n",
    "print(\"\\n\")\n",
    "print(by_comp.count())\n",
    "print(\"\\n\")\n",
    "print(by_comp.describe())"
   ]
  },
  {
   "cell_type": "markdown",
   "id": "a79e88ab",
   "metadata": {},
   "source": [
    "# Melting\n",
    "* Melting is the process of transforming measures/facts into a single column/variable \n",
    "* Melt by Mass and Velocity Example"
   ]
  },
  {
   "cell_type": "code",
   "execution_count": 173,
   "id": "d6e10d91",
   "metadata": {},
   "outputs": [
    {
     "name": "stdout",
     "output_type": "stream",
     "text": [
      "  Company   Person  Sales   Tax\n",
      "0    GOOG      Sam    200  0.12\n",
      "1    GOOG  Charlie    120  0.12\n",
      "2    MSFT      Amy    340  0.08\n",
      "3    MSFT  Vanessa    124  0.07\n",
      "4      FB     Carl    243  0.06\n",
      "5      FB    Sarah    350  0.12\n",
      "   Company variable    value\n",
      "0     GOOG    Sales      200\n",
      "1     GOOG    Sales      120\n",
      "2     MSFT    Sales      340\n",
      "3     MSFT    Sales      124\n",
      "4       FB    Sales      243\n",
      "5       FB    Sales      350\n",
      "6     GOOG   Person      Sam\n",
      "7     GOOG   Person  Charlie\n",
      "8     MSFT   Person      Amy\n",
      "9     MSFT   Person  Vanessa\n",
      "10      FB   Person     Carl\n",
      "11      FB   Person    Sarah\n",
      "12    GOOG      Tax     0.12\n",
      "13    GOOG      Tax     0.12\n",
      "14    MSFT      Tax     0.08\n",
      "15    MSFT      Tax     0.07\n",
      "16      FB      Tax     0.06\n",
      "17      FB      Tax     0.12\n"
     ]
    }
   ],
   "source": [
    "print(df)\n",
    "dfmelted = df.copy()\n",
    "dfmelted = pd.melt(dfmelted, id_vars=['Company'], value_vars=['Sales', 'Person', 'Tax'])\n",
    "print(dfmelted)"
   ]
  },
  {
   "cell_type": "markdown",
   "id": "671c467d",
   "metadata": {},
   "source": [
    "## Pivoting\n",
    "* Reshaped DataFrame organized by given index / column values."
   ]
  },
  {
   "cell_type": "code",
   "execution_count": 175,
   "id": "366e2ad4",
   "metadata": {},
   "outputs": [
    {
     "name": "stdout",
     "output_type": "stream",
     "text": [
      "  Company   Person  Sales   Tax\n",
      "0    GOOG      Sam    200  0.12\n",
      "1    GOOG  Charlie    120  0.12\n",
      "2    MSFT      Amy    340  0.08\n",
      "3    MSFT  Vanessa    124  0.07\n",
      "4      FB     Carl    243  0.06\n",
      "5      FB    Sarah    350  0.12\n",
      "Company     FB   GOOG   MSFT\n",
      "Person                      \n",
      "Amy        NaN    NaN  340.0\n",
      "Carl     243.0    NaN    NaN\n",
      "Charlie    NaN  120.0    NaN\n",
      "Sam        NaN  200.0    NaN\n",
      "Sarah    350.0    NaN    NaN\n",
      "Vanessa    NaN    NaN  124.0\n"
     ]
    }
   ],
   "source": [
    "print(df)\n",
    "dfpivot = df.copy()\n",
    "dfpivot = dfpivot.pivot(index='Person', columns='Company', values='Sales')\n",
    "print(dfpivot)"
   ]
  },
  {
   "cell_type": "markdown",
   "id": "1b15d4ad",
   "metadata": {},
   "source": [
    "# Data Integration (ETL)\n",
    "\n",
    "* Data integration: \n",
    "    - Combines data from multiple sources into a coherent store\n",
    "* Schema integration: e.g., A.cust-id  B.cust-#\n",
    "    - Integrate metadata from different sources\n",
    "* Entity identification problem: \n",
    "    - Identify real world entities from multiple data sources, e.g., Bill Clinton = William Clinton\n",
    "* Detecting and resolving data value conflicts\n",
    "    - For the same real world entity, attribute values from different sources are different\n",
    "* Possible reasons: different representations, different scales, e.g., metric vs. British units"
   ]
  },
  {
   "cell_type": "markdown",
   "id": "96423a90",
   "metadata": {},
   "source": [
    "## Merging"
   ]
  },
  {
   "cell_type": "code",
   "execution_count": 177,
   "id": "48dd0f2f",
   "metadata": {},
   "outputs": [
    {
     "name": "stdout",
     "output_type": "stream",
     "text": [
      "   id      country\n",
      "0   1  Philippines\n",
      "1   2   Tajikistan\n",
      "2   3       Brazil\n",
      "3   4       Brazil\n",
      "4   5     Colombia\n",
      "5   6    Indonesia\n",
      "\n",
      "\n",
      "   id  country_id       name\n",
      "0   1         NaN      Colas\n",
      "1   2         5.0  Fleurette\n",
      "2   3         NaN       Lara\n",
      "3   4         NaN      Parke\n",
      "4   5         2.0    Enrique\n"
     ]
    }
   ],
   "source": [
    "query = \"SELECT * FROM sql_country\"\n",
    "country_df = pd.read_sql_query(query, conn)\n",
    "print(country_df)\n",
    "\n",
    "print(\"\\n\")\n",
    "\n",
    "query = \"SELECT * FROM sql_people\"\n",
    "people_df = pd.read_sql_query(query, conn)\n",
    "print(people_df)"
   ]
  },
  {
   "cell_type": "code",
   "execution_count": 178,
   "id": "b1f99d1b",
   "metadata": {},
   "outputs": [
    {
     "data": {
      "text/html": [
       "<div>\n",
       "<style scoped>\n",
       "    .dataframe tbody tr th:only-of-type {\n",
       "        vertical-align: middle;\n",
       "    }\n",
       "\n",
       "    .dataframe tbody tr th {\n",
       "        vertical-align: top;\n",
       "    }\n",
       "\n",
       "    .dataframe thead th {\n",
       "        text-align: right;\n",
       "    }\n",
       "</style>\n",
       "<table border=\"1\" class=\"dataframe\">\n",
       "  <thead>\n",
       "    <tr style=\"text-align: right;\">\n",
       "      <th></th>\n",
       "      <th>id_x</th>\n",
       "      <th>country</th>\n",
       "      <th>id_y</th>\n",
       "      <th>country_id</th>\n",
       "      <th>name</th>\n",
       "    </tr>\n",
       "  </thead>\n",
       "  <tbody>\n",
       "    <tr>\n",
       "      <th>0</th>\n",
       "      <td>2</td>\n",
       "      <td>Tajikistan</td>\n",
       "      <td>5</td>\n",
       "      <td>2.0</td>\n",
       "      <td>Enrique</td>\n",
       "    </tr>\n",
       "    <tr>\n",
       "      <th>1</th>\n",
       "      <td>5</td>\n",
       "      <td>Colombia</td>\n",
       "      <td>2</td>\n",
       "      <td>5.0</td>\n",
       "      <td>Fleurette</td>\n",
       "    </tr>\n",
       "  </tbody>\n",
       "</table>\n",
       "</div>"
      ],
      "text/plain": [
       "   id_x     country  id_y  country_id       name\n",
       "0     2  Tajikistan     5         2.0    Enrique\n",
       "1     5    Colombia     2         5.0  Fleurette"
      ]
     },
     "execution_count": 178,
     "metadata": {},
     "output_type": "execute_result"
    }
   ],
   "source": [
    "pd.merge(country_df, people_df, left_on='id', right_on='country_id', how='inner')"
   ]
  },
  {
   "cell_type": "code",
   "execution_count": 179,
   "id": "5d3dfafa",
   "metadata": {},
   "outputs": [
    {
     "data": {
      "text/html": [
       "<div>\n",
       "<style scoped>\n",
       "    .dataframe tbody tr th:only-of-type {\n",
       "        vertical-align: middle;\n",
       "    }\n",
       "\n",
       "    .dataframe tbody tr th {\n",
       "        vertical-align: top;\n",
       "    }\n",
       "\n",
       "    .dataframe thead th {\n",
       "        text-align: right;\n",
       "    }\n",
       "</style>\n",
       "<table border=\"1\" class=\"dataframe\">\n",
       "  <thead>\n",
       "    <tr style=\"text-align: right;\">\n",
       "      <th></th>\n",
       "      <th>id_x</th>\n",
       "      <th>country</th>\n",
       "      <th>id_y</th>\n",
       "      <th>country_id</th>\n",
       "      <th>name</th>\n",
       "    </tr>\n",
       "  </thead>\n",
       "  <tbody>\n",
       "    <tr>\n",
       "      <th>0</th>\n",
       "      <td>1.0</td>\n",
       "      <td>Philippines</td>\n",
       "      <td>NaN</td>\n",
       "      <td>NaN</td>\n",
       "      <td>NaN</td>\n",
       "    </tr>\n",
       "    <tr>\n",
       "      <th>1</th>\n",
       "      <td>2.0</td>\n",
       "      <td>Tajikistan</td>\n",
       "      <td>5.0</td>\n",
       "      <td>2.0</td>\n",
       "      <td>Enrique</td>\n",
       "    </tr>\n",
       "    <tr>\n",
       "      <th>2</th>\n",
       "      <td>3.0</td>\n",
       "      <td>Brazil</td>\n",
       "      <td>NaN</td>\n",
       "      <td>NaN</td>\n",
       "      <td>NaN</td>\n",
       "    </tr>\n",
       "    <tr>\n",
       "      <th>3</th>\n",
       "      <td>4.0</td>\n",
       "      <td>Brazil</td>\n",
       "      <td>NaN</td>\n",
       "      <td>NaN</td>\n",
       "      <td>NaN</td>\n",
       "    </tr>\n",
       "    <tr>\n",
       "      <th>4</th>\n",
       "      <td>5.0</td>\n",
       "      <td>Colombia</td>\n",
       "      <td>2.0</td>\n",
       "      <td>5.0</td>\n",
       "      <td>Fleurette</td>\n",
       "    </tr>\n",
       "    <tr>\n",
       "      <th>5</th>\n",
       "      <td>6.0</td>\n",
       "      <td>Indonesia</td>\n",
       "      <td>NaN</td>\n",
       "      <td>NaN</td>\n",
       "      <td>NaN</td>\n",
       "    </tr>\n",
       "    <tr>\n",
       "      <th>6</th>\n",
       "      <td>NaN</td>\n",
       "      <td>NaN</td>\n",
       "      <td>1.0</td>\n",
       "      <td>NaN</td>\n",
       "      <td>Colas</td>\n",
       "    </tr>\n",
       "    <tr>\n",
       "      <th>7</th>\n",
       "      <td>NaN</td>\n",
       "      <td>NaN</td>\n",
       "      <td>3.0</td>\n",
       "      <td>NaN</td>\n",
       "      <td>Lara</td>\n",
       "    </tr>\n",
       "    <tr>\n",
       "      <th>8</th>\n",
       "      <td>NaN</td>\n",
       "      <td>NaN</td>\n",
       "      <td>4.0</td>\n",
       "      <td>NaN</td>\n",
       "      <td>Parke</td>\n",
       "    </tr>\n",
       "  </tbody>\n",
       "</table>\n",
       "</div>"
      ],
      "text/plain": [
       "   id_x      country  id_y  country_id       name\n",
       "0   1.0  Philippines   NaN         NaN        NaN\n",
       "1   2.0   Tajikistan   5.0         2.0    Enrique\n",
       "2   3.0       Brazil   NaN         NaN        NaN\n",
       "3   4.0       Brazil   NaN         NaN        NaN\n",
       "4   5.0     Colombia   2.0         5.0  Fleurette\n",
       "5   6.0    Indonesia   NaN         NaN        NaN\n",
       "6   NaN          NaN   1.0         NaN      Colas\n",
       "7   NaN          NaN   3.0         NaN       Lara\n",
       "8   NaN          NaN   4.0         NaN      Parke"
      ]
     },
     "execution_count": 179,
     "metadata": {},
     "output_type": "execute_result"
    }
   ],
   "source": [
    "pd.merge(country_df, people_df, left_on='id', right_on='country_id', how='outer')"
   ]
  },
  {
   "cell_type": "code",
   "execution_count": 180,
   "id": "97b04a6c",
   "metadata": {},
   "outputs": [
    {
     "data": {
      "text/html": [
       "<div>\n",
       "<style scoped>\n",
       "    .dataframe tbody tr th:only-of-type {\n",
       "        vertical-align: middle;\n",
       "    }\n",
       "\n",
       "    .dataframe tbody tr th {\n",
       "        vertical-align: top;\n",
       "    }\n",
       "\n",
       "    .dataframe thead th {\n",
       "        text-align: right;\n",
       "    }\n",
       "</style>\n",
       "<table border=\"1\" class=\"dataframe\">\n",
       "  <thead>\n",
       "    <tr style=\"text-align: right;\">\n",
       "      <th></th>\n",
       "      <th>id_x</th>\n",
       "      <th>country</th>\n",
       "      <th>id_y</th>\n",
       "      <th>country_id</th>\n",
       "      <th>name</th>\n",
       "    </tr>\n",
       "  </thead>\n",
       "  <tbody>\n",
       "    <tr>\n",
       "      <th>0</th>\n",
       "      <td>1</td>\n",
       "      <td>Philippines</td>\n",
       "      <td>NaN</td>\n",
       "      <td>NaN</td>\n",
       "      <td>NaN</td>\n",
       "    </tr>\n",
       "    <tr>\n",
       "      <th>1</th>\n",
       "      <td>2</td>\n",
       "      <td>Tajikistan</td>\n",
       "      <td>5.0</td>\n",
       "      <td>2.0</td>\n",
       "      <td>Enrique</td>\n",
       "    </tr>\n",
       "    <tr>\n",
       "      <th>2</th>\n",
       "      <td>3</td>\n",
       "      <td>Brazil</td>\n",
       "      <td>NaN</td>\n",
       "      <td>NaN</td>\n",
       "      <td>NaN</td>\n",
       "    </tr>\n",
       "    <tr>\n",
       "      <th>3</th>\n",
       "      <td>4</td>\n",
       "      <td>Brazil</td>\n",
       "      <td>NaN</td>\n",
       "      <td>NaN</td>\n",
       "      <td>NaN</td>\n",
       "    </tr>\n",
       "    <tr>\n",
       "      <th>4</th>\n",
       "      <td>5</td>\n",
       "      <td>Colombia</td>\n",
       "      <td>2.0</td>\n",
       "      <td>5.0</td>\n",
       "      <td>Fleurette</td>\n",
       "    </tr>\n",
       "    <tr>\n",
       "      <th>5</th>\n",
       "      <td>6</td>\n",
       "      <td>Indonesia</td>\n",
       "      <td>NaN</td>\n",
       "      <td>NaN</td>\n",
       "      <td>NaN</td>\n",
       "    </tr>\n",
       "  </tbody>\n",
       "</table>\n",
       "</div>"
      ],
      "text/plain": [
       "   id_x      country  id_y  country_id       name\n",
       "0     1  Philippines   NaN         NaN        NaN\n",
       "1     2   Tajikistan   5.0         2.0    Enrique\n",
       "2     3       Brazil   NaN         NaN        NaN\n",
       "3     4       Brazil   NaN         NaN        NaN\n",
       "4     5     Colombia   2.0         5.0  Fleurette\n",
       "5     6    Indonesia   NaN         NaN        NaN"
      ]
     },
     "execution_count": 180,
     "metadata": {},
     "output_type": "execute_result"
    }
   ],
   "source": [
    "pd.merge(country_df, people_df, left_on='id', right_on='country_id', how='left')"
   ]
  },
  {
   "cell_type": "code",
   "execution_count": 181,
   "id": "564e4045",
   "metadata": {},
   "outputs": [
    {
     "data": {
      "text/html": [
       "<div>\n",
       "<style scoped>\n",
       "    .dataframe tbody tr th:only-of-type {\n",
       "        vertical-align: middle;\n",
       "    }\n",
       "\n",
       "    .dataframe tbody tr th {\n",
       "        vertical-align: top;\n",
       "    }\n",
       "\n",
       "    .dataframe thead th {\n",
       "        text-align: right;\n",
       "    }\n",
       "</style>\n",
       "<table border=\"1\" class=\"dataframe\">\n",
       "  <thead>\n",
       "    <tr style=\"text-align: right;\">\n",
       "      <th></th>\n",
       "      <th>id_x</th>\n",
       "      <th>country</th>\n",
       "      <th>id_y</th>\n",
       "      <th>country_id</th>\n",
       "      <th>name</th>\n",
       "    </tr>\n",
       "  </thead>\n",
       "  <tbody>\n",
       "    <tr>\n",
       "      <th>0</th>\n",
       "      <td>NaN</td>\n",
       "      <td>NaN</td>\n",
       "      <td>1</td>\n",
       "      <td>NaN</td>\n",
       "      <td>Colas</td>\n",
       "    </tr>\n",
       "    <tr>\n",
       "      <th>1</th>\n",
       "      <td>5.0</td>\n",
       "      <td>Colombia</td>\n",
       "      <td>2</td>\n",
       "      <td>5.0</td>\n",
       "      <td>Fleurette</td>\n",
       "    </tr>\n",
       "    <tr>\n",
       "      <th>2</th>\n",
       "      <td>NaN</td>\n",
       "      <td>NaN</td>\n",
       "      <td>3</td>\n",
       "      <td>NaN</td>\n",
       "      <td>Lara</td>\n",
       "    </tr>\n",
       "    <tr>\n",
       "      <th>3</th>\n",
       "      <td>NaN</td>\n",
       "      <td>NaN</td>\n",
       "      <td>4</td>\n",
       "      <td>NaN</td>\n",
       "      <td>Parke</td>\n",
       "    </tr>\n",
       "    <tr>\n",
       "      <th>4</th>\n",
       "      <td>2.0</td>\n",
       "      <td>Tajikistan</td>\n",
       "      <td>5</td>\n",
       "      <td>2.0</td>\n",
       "      <td>Enrique</td>\n",
       "    </tr>\n",
       "  </tbody>\n",
       "</table>\n",
       "</div>"
      ],
      "text/plain": [
       "   id_x     country  id_y  country_id       name\n",
       "0   NaN         NaN     1         NaN      Colas\n",
       "1   5.0    Colombia     2         5.0  Fleurette\n",
       "2   NaN         NaN     3         NaN       Lara\n",
       "3   NaN         NaN     4         NaN      Parke\n",
       "4   2.0  Tajikistan     5         2.0    Enrique"
      ]
     },
     "execution_count": 181,
     "metadata": {},
     "output_type": "execute_result"
    }
   ],
   "source": [
    "pd.merge(country_df, people_df, left_on='id', right_on='country_id', how='right')"
   ]
  },
  {
   "cell_type": "code",
   "execution_count": 182,
   "id": "ee3a40f0",
   "metadata": {},
   "outputs": [
    {
     "data": {
      "text/html": [
       "<div>\n",
       "<style scoped>\n",
       "    .dataframe tbody tr th:only-of-type {\n",
       "        vertical-align: middle;\n",
       "    }\n",
       "\n",
       "    .dataframe tbody tr th {\n",
       "        vertical-align: top;\n",
       "    }\n",
       "\n",
       "    .dataframe thead th {\n",
       "        text-align: right;\n",
       "    }\n",
       "</style>\n",
       "<table border=\"1\" class=\"dataframe\">\n",
       "  <thead>\n",
       "    <tr style=\"text-align: right;\">\n",
       "      <th></th>\n",
       "      <th>id_x</th>\n",
       "      <th>country</th>\n",
       "      <th>id_y</th>\n",
       "      <th>country_id</th>\n",
       "      <th>name</th>\n",
       "    </tr>\n",
       "  </thead>\n",
       "  <tbody>\n",
       "    <tr>\n",
       "      <th>0</th>\n",
       "      <td>2</td>\n",
       "      <td>Tajikistan</td>\n",
       "      <td>5</td>\n",
       "      <td>2.0</td>\n",
       "      <td>Enrique</td>\n",
       "    </tr>\n",
       "    <tr>\n",
       "      <th>1</th>\n",
       "      <td>5</td>\n",
       "      <td>Colombia</td>\n",
       "      <td>2</td>\n",
       "      <td>5.0</td>\n",
       "      <td>Fleurette</td>\n",
       "    </tr>\n",
       "  </tbody>\n",
       "</table>\n",
       "</div>"
      ],
      "text/plain": [
       "   id_x     country  id_y  country_id       name\n",
       "0     2  Tajikistan     5         2.0    Enrique\n",
       "1     5    Colombia     2         5.0  Fleurette"
      ]
     },
     "execution_count": 182,
     "metadata": {},
     "output_type": "execute_result"
    }
   ],
   "source": [
    "country_df.merge(people_df, left_on='id', right_on='country_id', how='inner')"
   ]
  },
  {
   "cell_type": "markdown",
   "id": "e9fc7d72",
   "metadata": {},
   "source": [
    "## Concatenating"
   ]
  },
  {
   "cell_type": "code",
   "execution_count": 187,
   "id": "51a7e8da",
   "metadata": {},
   "outputs": [
    {
     "name": "stdout",
     "output_type": "stream",
     "text": [
      "    A   B   C   D\n",
      "0  A0  B0  C0  D0\n",
      "1  A1  B1  C1  D1\n",
      "2  A2  B2  C2  D2\n",
      "3  A3  B3  C3  D3\n",
      "    A   B   C   D\n",
      "0  A4  B4  C4  D4\n",
      "1  A5  B5  C5  D5\n",
      "2  A6  B6  C6  D6\n",
      "3  A7  B7  C7  D7\n",
      "     A    B    C    D\n",
      "0   A8   B8   C8   D8\n",
      "1   A9   B9   C9   D9\n",
      "2  A10  B10  C10  D10\n",
      "3  A11  B11  C11  D11\n"
     ]
    },
    {
     "data": {
      "text/html": [
       "<div>\n",
       "<style scoped>\n",
       "    .dataframe tbody tr th:only-of-type {\n",
       "        vertical-align: middle;\n",
       "    }\n",
       "\n",
       "    .dataframe tbody tr th {\n",
       "        vertical-align: top;\n",
       "    }\n",
       "\n",
       "    .dataframe thead th {\n",
       "        text-align: right;\n",
       "    }\n",
       "</style>\n",
       "<table border=\"1\" class=\"dataframe\">\n",
       "  <thead>\n",
       "    <tr style=\"text-align: right;\">\n",
       "      <th></th>\n",
       "      <th>A</th>\n",
       "      <th>B</th>\n",
       "      <th>C</th>\n",
       "    </tr>\n",
       "  </thead>\n",
       "  <tbody>\n",
       "    <tr>\n",
       "      <th>0</th>\n",
       "      <td>A8</td>\n",
       "      <td>B8</td>\n",
       "      <td>C8</td>\n",
       "    </tr>\n",
       "    <tr>\n",
       "      <th>1</th>\n",
       "      <td>A9</td>\n",
       "      <td>B9</td>\n",
       "      <td>C9</td>\n",
       "    </tr>\n",
       "    <tr>\n",
       "      <th>2</th>\n",
       "      <td>A10</td>\n",
       "      <td>B10</td>\n",
       "      <td>C10</td>\n",
       "    </tr>\n",
       "    <tr>\n",
       "      <th>3</th>\n",
       "      <td>A11</td>\n",
       "      <td>B11</td>\n",
       "      <td>C11</td>\n",
       "    </tr>\n",
       "  </tbody>\n",
       "</table>\n",
       "</div>"
      ],
      "text/plain": [
       "     A    B    C\n",
       "0   A8   B8   C8\n",
       "1   A9   B9   C9\n",
       "2  A10  B10  C10\n",
       "3  A11  B11  C11"
      ]
     },
     "execution_count": 187,
     "metadata": {},
     "output_type": "execute_result"
    }
   ],
   "source": [
    "df1 = pd.read_csv(\"df1.csv\")\n",
    "df2 = pd.read_csv(\"df2.csv\")\n",
    "df3 = pd.read_csv(\"df3.csv\")\n",
    "print(df1)\n",
    "print(df2)\n",
    "print(df3)"
   ]
  },
  {
   "cell_type": "code",
   "execution_count": 189,
   "id": "ee287449",
   "metadata": {},
   "outputs": [
    {
     "data": {
      "text/html": [
       "<div>\n",
       "<style scoped>\n",
       "    .dataframe tbody tr th:only-of-type {\n",
       "        vertical-align: middle;\n",
       "    }\n",
       "\n",
       "    .dataframe tbody tr th {\n",
       "        vertical-align: top;\n",
       "    }\n",
       "\n",
       "    .dataframe thead th {\n",
       "        text-align: right;\n",
       "    }\n",
       "</style>\n",
       "<table border=\"1\" class=\"dataframe\">\n",
       "  <thead>\n",
       "    <tr style=\"text-align: right;\">\n",
       "      <th></th>\n",
       "      <th>A</th>\n",
       "      <th>B</th>\n",
       "      <th>C</th>\n",
       "      <th>D</th>\n",
       "    </tr>\n",
       "  </thead>\n",
       "  <tbody>\n",
       "    <tr>\n",
       "      <th>0</th>\n",
       "      <td>A0</td>\n",
       "      <td>B0</td>\n",
       "      <td>C0</td>\n",
       "      <td>D0</td>\n",
       "    </tr>\n",
       "    <tr>\n",
       "      <th>1</th>\n",
       "      <td>A1</td>\n",
       "      <td>B1</td>\n",
       "      <td>C1</td>\n",
       "      <td>D1</td>\n",
       "    </tr>\n",
       "    <tr>\n",
       "      <th>2</th>\n",
       "      <td>A2</td>\n",
       "      <td>B2</td>\n",
       "      <td>C2</td>\n",
       "      <td>D2</td>\n",
       "    </tr>\n",
       "    <tr>\n",
       "      <th>3</th>\n",
       "      <td>A3</td>\n",
       "      <td>B3</td>\n",
       "      <td>C3</td>\n",
       "      <td>D3</td>\n",
       "    </tr>\n",
       "    <tr>\n",
       "      <th>0</th>\n",
       "      <td>A4</td>\n",
       "      <td>B4</td>\n",
       "      <td>C4</td>\n",
       "      <td>D4</td>\n",
       "    </tr>\n",
       "    <tr>\n",
       "      <th>1</th>\n",
       "      <td>A5</td>\n",
       "      <td>B5</td>\n",
       "      <td>C5</td>\n",
       "      <td>D5</td>\n",
       "    </tr>\n",
       "    <tr>\n",
       "      <th>2</th>\n",
       "      <td>A6</td>\n",
       "      <td>B6</td>\n",
       "      <td>C6</td>\n",
       "      <td>D6</td>\n",
       "    </tr>\n",
       "    <tr>\n",
       "      <th>3</th>\n",
       "      <td>A7</td>\n",
       "      <td>B7</td>\n",
       "      <td>C7</td>\n",
       "      <td>D7</td>\n",
       "    </tr>\n",
       "    <tr>\n",
       "      <th>0</th>\n",
       "      <td>A8</td>\n",
       "      <td>B8</td>\n",
       "      <td>C8</td>\n",
       "      <td>D8</td>\n",
       "    </tr>\n",
       "    <tr>\n",
       "      <th>1</th>\n",
       "      <td>A9</td>\n",
       "      <td>B9</td>\n",
       "      <td>C9</td>\n",
       "      <td>D9</td>\n",
       "    </tr>\n",
       "    <tr>\n",
       "      <th>2</th>\n",
       "      <td>A10</td>\n",
       "      <td>B10</td>\n",
       "      <td>C10</td>\n",
       "      <td>D10</td>\n",
       "    </tr>\n",
       "    <tr>\n",
       "      <th>3</th>\n",
       "      <td>A11</td>\n",
       "      <td>B11</td>\n",
       "      <td>C11</td>\n",
       "      <td>D11</td>\n",
       "    </tr>\n",
       "  </tbody>\n",
       "</table>\n",
       "</div>"
      ],
      "text/plain": [
       "     A    B    C    D\n",
       "0   A0   B0   C0   D0\n",
       "1   A1   B1   C1   D1\n",
       "2   A2   B2   C2   D2\n",
       "3   A3   B3   C3   D3\n",
       "0   A4   B4   C4   D4\n",
       "1   A5   B5   C5   D5\n",
       "2   A6   B6   C6   D6\n",
       "3   A7   B7   C7   D7\n",
       "0   A8   B8   C8   D8\n",
       "1   A9   B9   C9   D9\n",
       "2  A10  B10  C10  D10\n",
       "3  A11  B11  C11  D11"
      ]
     },
     "execution_count": 189,
     "metadata": {},
     "output_type": "execute_result"
    }
   ],
   "source": [
    "pd.concat([df1,df2,df3])"
   ]
  },
  {
   "cell_type": "code",
   "execution_count": 192,
   "id": "6b587faf",
   "metadata": {},
   "outputs": [
    {
     "data": {
      "text/html": [
       "<div>\n",
       "<style scoped>\n",
       "    .dataframe tbody tr th:only-of-type {\n",
       "        vertical-align: middle;\n",
       "    }\n",
       "\n",
       "    .dataframe tbody tr th {\n",
       "        vertical-align: top;\n",
       "    }\n",
       "\n",
       "    .dataframe thead th {\n",
       "        text-align: right;\n",
       "    }\n",
       "</style>\n",
       "<table border=\"1\" class=\"dataframe\">\n",
       "  <thead>\n",
       "    <tr style=\"text-align: right;\">\n",
       "      <th></th>\n",
       "      <th>A</th>\n",
       "      <th>B</th>\n",
       "      <th>C</th>\n",
       "      <th>D</th>\n",
       "      <th>A</th>\n",
       "      <th>B</th>\n",
       "      <th>C</th>\n",
       "      <th>D</th>\n",
       "      <th>A</th>\n",
       "      <th>B</th>\n",
       "      <th>C</th>\n",
       "      <th>D</th>\n",
       "    </tr>\n",
       "  </thead>\n",
       "  <tbody>\n",
       "    <tr>\n",
       "      <th>0</th>\n",
       "      <td>A0</td>\n",
       "      <td>B0</td>\n",
       "      <td>C0</td>\n",
       "      <td>D0</td>\n",
       "      <td>A4</td>\n",
       "      <td>B4</td>\n",
       "      <td>C4</td>\n",
       "      <td>D4</td>\n",
       "      <td>A8</td>\n",
       "      <td>B8</td>\n",
       "      <td>C8</td>\n",
       "      <td>D8</td>\n",
       "    </tr>\n",
       "    <tr>\n",
       "      <th>1</th>\n",
       "      <td>A1</td>\n",
       "      <td>B1</td>\n",
       "      <td>C1</td>\n",
       "      <td>D1</td>\n",
       "      <td>A5</td>\n",
       "      <td>B5</td>\n",
       "      <td>C5</td>\n",
       "      <td>D5</td>\n",
       "      <td>A9</td>\n",
       "      <td>B9</td>\n",
       "      <td>C9</td>\n",
       "      <td>D9</td>\n",
       "    </tr>\n",
       "    <tr>\n",
       "      <th>2</th>\n",
       "      <td>A2</td>\n",
       "      <td>B2</td>\n",
       "      <td>C2</td>\n",
       "      <td>D2</td>\n",
       "      <td>A6</td>\n",
       "      <td>B6</td>\n",
       "      <td>C6</td>\n",
       "      <td>D6</td>\n",
       "      <td>A10</td>\n",
       "      <td>B10</td>\n",
       "      <td>C10</td>\n",
       "      <td>D10</td>\n",
       "    </tr>\n",
       "    <tr>\n",
       "      <th>3</th>\n",
       "      <td>A3</td>\n",
       "      <td>B3</td>\n",
       "      <td>C3</td>\n",
       "      <td>D3</td>\n",
       "      <td>A7</td>\n",
       "      <td>B7</td>\n",
       "      <td>C7</td>\n",
       "      <td>D7</td>\n",
       "      <td>A11</td>\n",
       "      <td>B11</td>\n",
       "      <td>C11</td>\n",
       "      <td>D11</td>\n",
       "    </tr>\n",
       "  </tbody>\n",
       "</table>\n",
       "</div>"
      ],
      "text/plain": [
       "    A   B   C   D   A   B   C   D    A    B    C    D\n",
       "0  A0  B0  C0  D0  A4  B4  C4  D4   A8   B8   C8   D8\n",
       "1  A1  B1  C1  D1  A5  B5  C5  D5   A9   B9   C9   D9\n",
       "2  A2  B2  C2  D2  A6  B6  C6  D6  A10  B10  C10  D10\n",
       "3  A3  B3  C3  D3  A7  B7  C7  D7  A11  B11  C11  D11"
      ]
     },
     "execution_count": 192,
     "metadata": {},
     "output_type": "execute_result"
    }
   ],
   "source": [
    "pd.concat([df1,df2,df3], axis =1)"
   ]
  },
  {
   "cell_type": "markdown",
   "id": "26d35e31",
   "metadata": {},
   "source": [
    "# Data Transformation"
   ]
  },
  {
   "cell_type": "markdown",
   "id": "deca5a18",
   "metadata": {},
   "source": [
    "![normalization](./media/normalization.png)"
   ]
  },
  {
   "cell_type": "markdown",
   "id": "d8234084",
   "metadata": {},
   "source": [
    "![](./media/zscore.png)`"
   ]
  },
  {
   "cell_type": "markdown",
   "id": "cc39b7cd",
   "metadata": {},
   "source": [
    "![](./media/instruction.png)"
   ]
  },
  {
   "cell_type": "code",
   "execution_count": null,
   "id": "641f75a5",
   "metadata": {},
   "outputs": [],
   "source": [
    "dfscaled = df.copy()\n",
    "dfscaled['SalesScaled'] = (df['Sales']-df['Sales'].min())/(df['Sales'].max()-df['Sales'].min())*(5-1)+1\n",
    "print(dfscaled)\n",
    "\n",
    "print(\"\\n\")\n",
    "\n",
    "dfscaled['TaxScaled'] = (df['Tax']-df['Tax'].mean())/df['Tax'].std()\n",
    "print(dfscaled)"
   ]
  },
  {
   "cell_type": "markdown",
   "id": "f1ad7c73",
   "metadata": {},
   "source": [
    "## Binning\n",
    "* Binning: Process of transforming numerical variables into categorical counterparts. \n",
    "    - An example is to bin values for Age into categories such as 1 to 18, 18 to 49, and 49 onwards. \n",
    "* Rationale: Some Data Mining Algorithms run better on Categorical Data: e.g. Decision Trees\n",
    "* Allows easy identification of outliers\n",
    "\n",
    "**Two Types of Binning**\n",
    "* Equal-width (distance) partitioning\n",
    "    * Divides the range into 𝑁 intervals of equal size: uniform grid\n",
    "    * if A and B are the lowest and highest values of the attribute, the width of intervals will be: 𝑊 = (𝐵 – 𝐴)/𝑁.\n",
    "    * The most straightforward, but outliers may dominate presentation\n",
    "    * Skewed data is not handled well\n",
    "* Equal-depth (frequency) partitioning\n",
    "    * Divides the range into N intervals, each containing approximately same number of samples\n",
    "    * Good data scaling and outliers"
   ]
  },
  {
   "cell_type": "code",
   "execution_count": 193,
   "id": "00bf4ec9",
   "metadata": {},
   "outputs": [
    {
     "name": "stdout",
     "output_type": "stream",
     "text": [
      "[0.06 0.08 0.1  0.12]\n",
      "  Company   Person  Sales   Tax TaxDiscrete\n",
      "0    GOOG      Sam    200  0.12        High\n",
      "1    GOOG  Charlie    120  0.12        High\n",
      "2    MSFT      Amy    340  0.08      Medium\n",
      "3    MSFT  Vanessa    124  0.07         Low\n",
      "4      FB     Carl    243  0.06         Low\n",
      "5      FB    Sarah    350  0.12        High\n"
     ]
    }
   ],
   "source": [
    "# Equal Width Binning\n",
    "import numpy as np\n",
    "dfbinned = df.copy()\n",
    "bin_labels_3 = ['Low', 'Medium', 'High']\n",
    "cutbins = np.arange(0,4,1)/3*(df['Tax'].max() - df['Tax'].min())+df['Tax'].min()\n",
    "print(cutbins)\n",
    "dfbinned['TaxDiscrete'] = pd.cut(df['Tax'], bins=cutbins, labels=bin_labels_3)\n",
    "dfbinned=dfbinned.fillna(value=\"Low\")\n",
    "print(dfbinned)\n",
    "\n",
    "[0.06, 0.08) low\n",
    "[0.08, 0.10) medium\n",
    "[0.10: 0.12] high"
   ]
  },
  {
   "cell_type": "code",
   "execution_count": 194,
   "id": "f886a4f0",
   "metadata": {},
   "outputs": [
    {
     "name": "stdout",
     "output_type": "stream",
     "text": [
      "  Company   Person  Sales   Tax SalesDiscrete\n",
      "0    GOOG      Sam    200  0.12        Medium\n",
      "1    GOOG  Charlie    120  0.12           Low\n",
      "2    MSFT      Amy    340  0.08          High\n",
      "3    MSFT  Vanessa    124  0.07           Low\n",
      "4      FB     Carl    243  0.06        Medium\n",
      "5      FB    Sarah    350  0.12          High\n"
     ]
    }
   ],
   "source": [
    "# Equal Depth Binning\n",
    "dfbinned = df.copy()\n",
    "bin_labels_3 = ['Low', 'Medium', 'High']\n",
    "dfbinned['SalesDiscrete'] = pd.qcut(df['Sales'], q=3, labels=bin_labels_3)\n",
    "print(dfbinned)"
   ]
  },
  {
   "cell_type": "markdown",
   "id": "b3e05ab7",
   "metadata": {},
   "source": [
    "## Data Encoding\n",
    "* Encoding or continuation is the transformation of categorical variables to binary or numerical counterparts. \n",
    "    * An example is to treat male or female for gender as 1 or 0. \n",
    "* Some Data Mining Methodologies require all data to be \n",
    "numerical, e.g. Linear Regression\n",
    "* Sometimes called Dummy Variables\n",
    "* Two Types\n",
    "    * Binary Encoding (Unsupervised) \n",
    "    * Class-based Encoding (Supervised)"
   ]
  },
  {
   "cell_type": "code",
   "execution_count": 198,
   "id": "8be3cec7",
   "metadata": {},
   "outputs": [
    {
     "name": "stdout",
     "output_type": "stream",
     "text": [
      "  Company   Person  Sales   Tax  Company_FB  Company_GOOG  Company_MSFT\n",
      "0    GOOG      Sam    200  0.12           0             1             0\n",
      "1    GOOG  Charlie    120  0.12           0             1             0\n",
      "2    MSFT      Amy    340  0.08           0             0             1\n",
      "3    MSFT  Vanessa    124  0.07           0             0             1\n",
      "4      FB     Carl    243  0.06           1             0             0\n",
      "5      FB    Sarah    350  0.12           1             0             0\n"
     ]
    }
   ],
   "source": [
    "dfencoding = df.copy()\n",
    "df['Company'].unique()\n",
    "dummies = pd.get_dummies(dfencoding['Company'], prefix='Company')\n",
    "dfencoding = pd.concat([dfencoding,dummies], axis=1)\n",
    "print(dfencoding)"
   ]
  },
  {
   "cell_type": "markdown",
   "id": "93241b2e",
   "metadata": {},
   "source": [
    "## Missing Data\n",
    "* Data is not always available\n",
    "    - E.g., many tuples have no recorded value for several attributes, such as \n",
    "customer income in sales data\n",
    "* Missing data may be due to \n",
    "    - equipment malfunction\n",
    "    - inconsistent with other recorded data and thus deleted\n",
    "    - data not entered due to misunderstanding\n",
    "    - data may not be considered important at the time of entry\n",
    "    - not register history or changes of the data\n",
    "* Missing data may need to be inferred.\n",
    "\n",
    "**Handling Missing Data**\n",
    "* Ignore the tuple: usually done when class label is missing (assuming the tasks in classification—not effective when the percentage of missing values per attribute varies considerably.)\n",
    "* Fill in the missing value manually: tedious + infeasible?\n",
    "* Data Imputation\n",
    "    - Fill in it automatically with\n",
    "* a global constant : e.g., “unknown”, a new class?\n",
    "* the attribute mean\n",
    "* the attribute mean for all samples belonging to the same class: \n",
    "smarter"
   ]
  },
  {
   "cell_type": "markdown",
   "id": "0788d0b5",
   "metadata": {},
   "source": [
    "## Data Reduction/Manipulation\n",
    "\n",
    "* Data may not be balanced. \n",
    "* E.g.: Medical Dataset with 9900 negative cases and only 100 positive cases.\n",
    "* Solved by:\n",
    "    - Upsampling: Randomly select tuples from minority class to \n",
    "increase samples (sometimes called Bootstrapping)\n",
    "    - Downsampling: Randomly select records from majority class to decrease samples\n",
    "    \n",
    "**Types of Sampling**\n",
    "* Simple Random Sampling\n",
    "    - There is an equal probability of selecting any particular item\n",
    "* Sampling without replacement\n",
    "    - As each item is selected, it is removed from the population\n",
    "* Sampling with replacement\n",
    "    - Objects are not removed from the population as they are selected \n",
    "for the sample. \n",
    "* In sampling with replacement, the same object can be picked up more than once\n",
    "* Stratified sampling\n",
    "    - Split the data into several partitions; then draw random samples from each partition"
   ]
  },
  {
   "cell_type": "code",
   "execution_count": 199,
   "id": "0630fbea",
   "metadata": {},
   "outputs": [
    {
     "name": "stdout",
     "output_type": "stream",
     "text": [
      "  Company   Person  Sales   Tax\n",
      "5      FB    Sarah    350  0.12\n",
      "3    MSFT  Vanessa    124  0.07\n",
      "4      FB     Carl    243  0.06\n"
     ]
    }
   ],
   "source": [
    "# simple random sampling\n",
    "dfsample = df.copy()\n",
    "dfsamplesubset = dfsample.sample(n=3,replace=True, \n",
    "random_state=1)\n",
    "print(dfsamplesubset)"
   ]
  },
  {
   "cell_type": "markdown",
   "id": "3cdcef7a",
   "metadata": {},
   "source": [
    "# Checkpoint:\n",
    "\n",
    "In this exercise, we are using Automobile Dataset for data analysis. This Dataset has different characteristics of an auto such as body-style, wheel-base, engine-type, price, mileage, horsepower, etc.\n",
    "\n",
    "* Replace all column values which contain ?, n.a, or NaN. [See Reference1](https://pandas.pydata.org/pandas-docs/stable/reference/api/pandas.DataFrame.replace.html?highlight=replace#pandas.DataFrame.replace) [See Reference2](https://pandas.pydata.org/pandas-docs/stable/reference/api/pandas.Series.fillna.html?highlight=fillna)\n",
    "* Find the most expensive car company name\n",
    "* Find each company’s Higesht price car\n",
    "* Find the average mileage of each car making company"
   ]
  },
  {
   "cell_type": "code",
   "execution_count": null,
   "id": "c5196034",
   "metadata": {},
   "outputs": [],
   "source": []
  }
 ],
 "metadata": {
  "kernelspec": {
   "display_name": "Python 3 (ipykernel)",
   "language": "python",
   "name": "python3"
  },
  "language_info": {
   "codemirror_mode": {
    "name": "ipython",
    "version": 3
   },
   "file_extension": ".py",
   "mimetype": "text/x-python",
   "name": "python",
   "nbconvert_exporter": "python",
   "pygments_lexer": "ipython3",
   "version": "3.8.11"
  }
 },
 "nbformat": 4,
 "nbformat_minor": 5
}
