{
 "cells": [
  {
   "cell_type": "code",
   "execution_count": 5,
   "id": "17aa22dc",
   "metadata": {},
   "outputs": [
    {
     "ename": "SyntaxError",
     "evalue": "invalid syntax (1800008153.py, line 5)",
     "output_type": "error",
     "traceback": [
      "\u001b[0;36m  File \u001b[0;32m\"/tmp/ipykernel_2892/1800008153.py\"\u001b[0;36m, line \u001b[0;32m5\u001b[0m\n\u001b[0;31m    [Reference](https://pandas.pydata.org/pandas-docs/stable/reference/api/pandas.DataFrame.plot.html)\u001b[0m\n\u001b[0m                     ^\u001b[0m\n\u001b[0;31mSyntaxError\u001b[0m\u001b[0;31m:\u001b[0m invalid syntax\n"
     ]
    }
   ],
   "source": [
    "# Objectives\n",
    "## Obj:  Learn and apply essential Data Science libraries used for data exploration, processing and transformation for further analysis\n",
    "\n",
    "### Pandas Visualization\n",
    "[Reference](https://pandas.pydata.org/pandas-docs/stable/reference/api/pandas.DataFrame.plot.html)"
   ]
  },
  {
   "cell_type": "code",
   "execution_count": 6,
   "id": "a0d07e1d",
   "metadata": {},
   "outputs": [
    {
     "data": {
      "text/html": [
       "<div>\n",
       "<style scoped>\n",
       "    .dataframe tbody tr th:only-of-type {\n",
       "        vertical-align: middle;\n",
       "    }\n",
       "\n",
       "    .dataframe tbody tr th {\n",
       "        vertical-align: top;\n",
       "    }\n",
       "\n",
       "    .dataframe thead th {\n",
       "        text-align: right;\n",
       "    }\n",
       "</style>\n",
       "<table border=\"1\" class=\"dataframe\">\n",
       "  <thead>\n",
       "    <tr style=\"text-align: right;\">\n",
       "      <th></th>\n",
       "      <th>Age</th>\n",
       "      <th>SexID</th>\n",
       "      <th>CivilStatusID</th>\n",
       "      <th>Nationality</th>\n",
       "      <th>SpecialPopulationID</th>\n",
       "      <th>HealthCareWorkerYN</th>\n",
       "      <th>AdmittingFacilityID</th>\n",
       "      <th>CurrentHealthStatus</th>\n",
       "      <th>OutcomeID</th>\n",
       "      <th>CauseOfDeath</th>\n",
       "      <th>...</th>\n",
       "      <th>ID_2</th>\n",
       "      <th>NAME_2</th>\n",
       "      <th>ID_3</th>\n",
       "      <th>NAME_3</th>\n",
       "      <th>PROVINCE</th>\n",
       "      <th>REGION</th>\n",
       "      <th>month</th>\n",
       "      <th>year</th>\n",
       "      <th>year_month</th>\n",
       "      <th>year_week</th>\n",
       "    </tr>\n",
       "  </thead>\n",
       "  <tbody>\n",
       "    <tr>\n",
       "      <th>0</th>\n",
       "      <td>30</td>\n",
       "      <td>Male</td>\n",
       "      <td>NaN</td>\n",
       "      <td>Filipino</td>\n",
       "      <td>LOCAL</td>\n",
       "      <td>No</td>\n",
       "      <td>REGION II TRAUMA AND MEDICAL CENTER</td>\n",
       "      <td>Asymptomatic</td>\n",
       "      <td>Recovered</td>\n",
       "      <td>None</td>\n",
       "      <td>...</td>\n",
       "      <td>1164</td>\n",
       "      <td>Solano</td>\n",
       "      <td>30400</td>\n",
       "      <td>Roxas</td>\n",
       "      <td>Nueva Vizcaya</td>\n",
       "      <td>Cagayan Valley (Region II)</td>\n",
       "      <td>3</td>\n",
       "      <td>2020</td>\n",
       "      <td>2020-M03</td>\n",
       "      <td>2020-W12</td>\n",
       "    </tr>\n",
       "    <tr>\n",
       "      <th>1</th>\n",
       "      <td>29</td>\n",
       "      <td>Female</td>\n",
       "      <td>Single</td>\n",
       "      <td>Filipino</td>\n",
       "      <td>LOCAL</td>\n",
       "      <td>Yes</td>\n",
       "      <td>CAGAYAN VALLEY MEDICAL CENTER</td>\n",
       "      <td>Mild</td>\n",
       "      <td>Recovered</td>\n",
       "      <td>None</td>\n",
       "      <td>...</td>\n",
       "      <td>696</td>\n",
       "      <td>Cabagan</td>\n",
       "      <td>17489</td>\n",
       "      <td>Casibarag Sur</td>\n",
       "      <td>Isabela</td>\n",
       "      <td>Cagayan Valley (Region II)</td>\n",
       "      <td>3</td>\n",
       "      <td>2020</td>\n",
       "      <td>2020-M03</td>\n",
       "      <td>2020-W12</td>\n",
       "    </tr>\n",
       "    <tr>\n",
       "      <th>2</th>\n",
       "      <td>26</td>\n",
       "      <td>Female</td>\n",
       "      <td>Single</td>\n",
       "      <td>Filipino</td>\n",
       "      <td>Locally Stranded Individual (LSI)</td>\n",
       "      <td>No</td>\n",
       "      <td>CAGAYAN VALLEY MEDICAL CENTER</td>\n",
       "      <td>Asymptomatic</td>\n",
       "      <td>Recovered</td>\n",
       "      <td>None</td>\n",
       "      <td>...</td>\n",
       "      <td>315</td>\n",
       "      <td>Enrile</td>\n",
       "      <td>7269</td>\n",
       "      <td>Barangay III</td>\n",
       "      <td>Cagayan</td>\n",
       "      <td>Cagayan Valley (Region II)</td>\n",
       "      <td>6</td>\n",
       "      <td>2020</td>\n",
       "      <td>2020-M06</td>\n",
       "      <td>2020-W25</td>\n",
       "    </tr>\n",
       "    <tr>\n",
       "      <th>3</th>\n",
       "      <td>24</td>\n",
       "      <td>Female</td>\n",
       "      <td>Single</td>\n",
       "      <td>Filipino</td>\n",
       "      <td>Returning Overseas Filipino (ROF)</td>\n",
       "      <td>No</td>\n",
       "      <td>SOUTHERN ISABELA MEDICAL CENTER</td>\n",
       "      <td>Asymptomatic</td>\n",
       "      <td>Recovered</td>\n",
       "      <td>None</td>\n",
       "      <td>...</td>\n",
       "      <td>698</td>\n",
       "      <td>Cauayan City</td>\n",
       "      <td>17557</td>\n",
       "      <td>District III</td>\n",
       "      <td>Isabela</td>\n",
       "      <td>Cagayan Valley (Region II)</td>\n",
       "      <td>6</td>\n",
       "      <td>2020</td>\n",
       "      <td>2020-M06</td>\n",
       "      <td>2020-W26</td>\n",
       "    </tr>\n",
       "    <tr>\n",
       "      <th>4</th>\n",
       "      <td>22</td>\n",
       "      <td>Male</td>\n",
       "      <td>NaN</td>\n",
       "      <td>Filipino</td>\n",
       "      <td>Locally Stranded Individual (LSI)</td>\n",
       "      <td>No</td>\n",
       "      <td>CAGAYAN VALLEY MEDICAL CENTER</td>\n",
       "      <td>Asymptomatic</td>\n",
       "      <td>Recovered</td>\n",
       "      <td>None</td>\n",
       "      <td>...</td>\n",
       "      <td>696</td>\n",
       "      <td>Cabagan</td>\n",
       "      <td>17489</td>\n",
       "      <td>Casibarag Sur</td>\n",
       "      <td>Isabela</td>\n",
       "      <td>Cagayan Valley (Region II)</td>\n",
       "      <td>6</td>\n",
       "      <td>2020</td>\n",
       "      <td>2020-M06</td>\n",
       "      <td>2020-W26</td>\n",
       "    </tr>\n",
       "  </tbody>\n",
       "</table>\n",
       "<p>5 rows × 28 columns</p>\n",
       "</div>"
      ],
      "text/plain": [
       "  Age   SexID CivilStatusID Nationality                SpecialPopulationID  \\\n",
       "0  30    Male           NaN    Filipino                              LOCAL   \n",
       "1  29  Female        Single    Filipino                              LOCAL   \n",
       "2  26  Female        Single    Filipino  Locally Stranded Individual (LSI)   \n",
       "3  24  Female        Single    Filipino  Returning Overseas Filipino (ROF)   \n",
       "4  22    Male           NaN    Filipino  Locally Stranded Individual (LSI)   \n",
       "\n",
       "  HealthCareWorkerYN                  AdmittingFacilityID CurrentHealthStatus  \\\n",
       "0                 No  REGION II TRAUMA AND MEDICAL CENTER        Asymptomatic   \n",
       "1                Yes        CAGAYAN VALLEY MEDICAL CENTER                Mild   \n",
       "2                 No        CAGAYAN VALLEY MEDICAL CENTER        Asymptomatic   \n",
       "3                 No      SOUTHERN ISABELA MEDICAL CENTER        Asymptomatic   \n",
       "4                 No        CAGAYAN VALLEY MEDICAL CENTER        Asymptomatic   \n",
       "\n",
       "   OutcomeID CauseOfDeath  ...  ID_2        NAME_2   ID_3         NAME_3  \\\n",
       "0  Recovered         None  ...  1164        Solano  30400          Roxas   \n",
       "1  Recovered         None  ...   696       Cabagan  17489  Casibarag Sur   \n",
       "2  Recovered         None  ...   315        Enrile   7269   Barangay III   \n",
       "3  Recovered         None  ...   698  Cauayan City  17557   District III   \n",
       "4  Recovered         None  ...   696       Cabagan  17489  Casibarag Sur   \n",
       "\n",
       "        PROVINCE                      REGION  month  year  year_month  \\\n",
       "0  Nueva Vizcaya  Cagayan Valley (Region II)      3  2020    2020-M03   \n",
       "1        Isabela  Cagayan Valley (Region II)      3  2020    2020-M03   \n",
       "2        Cagayan  Cagayan Valley (Region II)      6  2020    2020-M06   \n",
       "3        Isabela  Cagayan Valley (Region II)      6  2020    2020-M06   \n",
       "4        Isabela  Cagayan Valley (Region II)      6  2020    2020-M06   \n",
       "\n",
       "  year_week  \n",
       "0  2020-W12  \n",
       "1  2020-W12  \n",
       "2  2020-W25  \n",
       "3  2020-W26  \n",
       "4  2020-W26  \n",
       "\n",
       "[5 rows x 28 columns]"
      ]
     },
     "execution_count": 6,
     "metadata": {},
     "output_type": "execute_result"
    }
   ],
   "source": [
    "# loading dataframe\n",
    "import pandas as pd\n",
    "df = pd.read_csv('cv_cases.csv', encoding='unicode_escape')\n",
    "df.head()"
   ]
  },
  {
   "cell_type": "code",
   "execution_count": 7,
   "id": "f9f876e8",
   "metadata": {},
   "outputs": [
    {
     "data": {
      "text/plain": [
       "<AxesSubplot:xlabel='SexID'>"
      ]
     },
     "execution_count": 7,
     "metadata": {},
     "output_type": "execute_result"
    },
    {
     "data": {
      "image/png": "[encoded data removed]",
      "text/plain": [
       "<Figure size 432x288 with 1 Axes>"
      ]
     },
     "metadata": {
      "needs_background": "light"
     },
     "output_type": "display_data"
    },
    {
     "data": {
      "image/png": "[encoded data removed]",
      "text/plain": [
       "<Figure size 432x288 with 1 Axes>"
      ]
     },
     "metadata": {
      "needs_background": "light"
     },
     "output_type": "display_data"
    }
   ],
   "source": [
    "# line plot\n",
    "line_df = df.groupby('year_week').size().reset_index()\n",
    "line_df.rename(columns={0:'count'}, inplace=True)\n",
    "line_df.plot('year_week', 'count', kind='line')\n",
    "\n",
    "# bar chart\n",
    "# grouping\n",
    "bar_df = df.groupby('SexID').size().reset_index()\n",
    "bar_df.rename(columns={0:'count'}, inplace=True)\n",
    "bar_df.plot('SexID', 'count', kind='bar')"
   ]
  },
  {
   "cell_type": "markdown",
   "id": "2d57c4e2",
   "metadata": {},
   "source": [
    "## Obj: Acquire fundamental knowledge and common operations for Geospatial Analysis\n",
    "\n",
    "\n",
    "### What is geographical / spatial analysis and why should we care?\n",
    "* Placing things in geographic context brings those things into immediate perspective. \n",
    "\n",
    "<img src=\"http://www.esri.com/about/newsroom/wp-content/uploads/files/2014/10/1a-1024x575.jpg\" width=\"250\"/>\n",
    "\n",
    "* “Everything is related to everything else, but near things are more related than distant things.”\n",
    "\n",
    "<img src=\"http://www.esri.com/about/newsroom/wp-content/uploads/files/2014/10/2a-1024x575.jpg\" width=\"250\"/>\n",
    "\n",
    "*  Finding out what’s nearby can help bring context to dynamic situations and deepen your understanding of a location. In many cases, things are connected to other things.\n",
    "\n",
    "<img src=\"http://www.esri.com/about/newsroom/wp-content/uploads/files/2014/10/3a-1024x576.jpg\" width=\"250\"/>\n",
    "\n",
    "* Understanding how and where all those things are connected will help you better manage, monitor and maintain the system.\n",
    "\n",
    "<img src=\"http://www.esri.com/about/newsroom/wp-content/uploads/files/2014/10/4a-1024x576.jpg\" width=\"250\"/>\n",
    "\n",
    "* Different Sources put together provide information\n",
    "\n",
    "<img src=\"./media/gis.png\" width=\"250\"/>\n",
    "\n",
    "<img src=\"./media/gis2.png\" width=\"500\"/>"
   ]
  },
  {
   "cell_type": "markdown",
   "id": "d169870c",
   "metadata": {},
   "source": [
    "### Data Types\n",
    "* Vector Data\n",
    "    * Point: a pair of x and y coordinates\n",
    "    * Line: a series of points connected together\n",
    "    * Polygon: a line enclosed from end to end\n",
    "    \n",
    "    <img src=\"./media/vector_data.png\" width=500>\n",
    "    <img src=\"./media/vector_coordinates.png\" width=500>\n",
    "    \n",
    "* Raster Data\n",
    "    * pixel, value\n",
    "    * example: the values might be:\n",
    "        * 1 = water (colored blue)\n",
    "        * 2 = forest (dark green)\n",
    "        * 3 = desert (dark brown)\n",
    "        * etc…\n",
    "    <img src=\"./media/raster_data.png\" width=250>"
   ]
  },
  {
   "cell_type": "markdown",
   "id": "1411a48b",
   "metadata": {},
   "source": [
    "### GIS Terms\n",
    "\n",
    "* Geocoding\n",
    "  * Process of assigning alphanumeric locational identifiers (such as the municipal address or physical location) to spatially related information. For example, an address may be matched to an address range on a street segment, or a given spatial area\n",
    "* Euclidean Distance\n",
    "  * The shortest distance joining two points in the plane\n",
    "* Label\n",
    "  *A vector element that contains text used to identify a node, line, or polygon element\n",
    "* Layer \n",
    "  * Refers to the various overlays of data, each of which normally deals with one thematic topic. These overlays are registered to each other by the common coordinate system of the database.\n",
    "* Legends\n",
    "  * The part of the drawn map explaining the meaning of the symbols used to code the depicted geographical elements\n",
    "* Map scale \n",
    "  * The relationship that exists between a distance on a map and the corresponding distance on the Earth. It may be expressed as an equivalence, one inch equals 16 statute miles; as a fraction or ratio, 1:1,000,000; or as a bar graph subdivided to show the distance that each of its parts represents on the Earth.\n",
    "* Network analysis\n",
    "  * Analytical techniques concerned with the relationships between locations on a network, such as the calculation of optimal routes through road networks, capacities of network systems, best location for facilities along networks, etc.\n",
    "* Coordinate Systems \n",
    "  * A particular kind of reference frame or system, such as plane rectangular coordinates or spherical coordinates, which use linear or angular quantities to designate the position of points within that particular reference frame or system.\n",
    "\n",
    "**Types of Coordinate Systems**\n",
    "* Polar / Geographic coordinate System: Degrees, Minutes, Seconds\n",
    "* Rectangular / Planar coordinate System: longitude, latitude, altitude"
   ]
  },
  {
   "cell_type": "markdown",
   "id": "bed778fe",
   "metadata": {},
   "source": [
    "### Project Coordinate System\n",
    "\n",
    "<img src=\"http://i.stack.imgur.com/7zI6N.jpg\" width=500>"
   ]
  },
  {
   "cell_type": "markdown",
   "id": "a69958fa",
   "metadata": {},
   "source": [
    "### Common File Types\n",
    "\n",
    "* .kml - keyhole markup language (google maps / earth)\n",
    "* .shp - shapefile\n",
    "* .geojson\n",
    "* .bmp - for raster files"
   ]
  },
  {
   "cell_type": "markdown",
   "id": "2d846e8b",
   "metadata": {},
   "source": [
    "### Common Spatial Visualizations\n",
    "\n",
    "* Scatter Plot -> Point Data and Line Data\n",
    "    * A scatter plot (aka scatter chart, scatter graph) uses dots to represent values based on coordinates\n",
    "    * based on basic scatter plot\n",
    "* Choropleth Map -> Polygon Data\n",
    "    * Choropleth maps are thematic maps that use different shading patterns and sequential color schemes for geographical areas, based on the statistical data within them. \n",
    "    * Derived from basic heatmap"
   ]
  },
  {
   "cell_type": "markdown",
   "id": "fc54a404",
   "metadata": {},
   "source": [
    "## Obj: Learn and apply Python Libraries for Geospatial Analysis"
   ]
  },
  {
   "cell_type": "code",
   "execution_count": 8,
   "id": "a9a5190f",
   "metadata": {},
   "outputs": [
    {
     "data": {
      "text/html": [
       "<div>\n",
       "<style scoped>\n",
       "    .dataframe tbody tr th:only-of-type {\n",
       "        vertical-align: middle;\n",
       "    }\n",
       "\n",
       "    .dataframe tbody tr th {\n",
       "        vertical-align: top;\n",
       "    }\n",
       "\n",
       "    .dataframe thead th {\n",
       "        text-align: right;\n",
       "    }\n",
       "</style>\n",
       "<table border=\"1\" class=\"dataframe\">\n",
       "  <thead>\n",
       "    <tr style=\"text-align: right;\">\n",
       "      <th></th>\n",
       "      <th>Shape_Leng</th>\n",
       "      <th>Shape_Area</th>\n",
       "      <th>ADM3_EN</th>\n",
       "      <th>ADM3_PCODE</th>\n",
       "      <th>ADM3_REF</th>\n",
       "      <th>ADM3ALT1EN</th>\n",
       "      <th>ADM3ALT2EN</th>\n",
       "      <th>ADM2_EN</th>\n",
       "      <th>ADM2_PCODE</th>\n",
       "      <th>ADM1_EN</th>\n",
       "      <th>ADM1_PCODE</th>\n",
       "      <th>ADM0_EN</th>\n",
       "      <th>ADM0_PCODE</th>\n",
       "      <th>date</th>\n",
       "      <th>validOn</th>\n",
       "      <th>geometry</th>\n",
       "    </tr>\n",
       "  </thead>\n",
       "  <tbody>\n",
       "    <tr>\n",
       "      <th>0</th>\n",
       "      <td>0.337859</td>\n",
       "      <td>0.002899</td>\n",
       "      <td>Basco</td>\n",
       "      <td>PH020901000</td>\n",
       "      <td>None</td>\n",
       "      <td>Capital</td>\n",
       "      <td>None</td>\n",
       "      <td>Batanes</td>\n",
       "      <td>PH020900000</td>\n",
       "      <td>Region II</td>\n",
       "      <td>PH020000000</td>\n",
       "      <td>Philippines (the)</td>\n",
       "      <td>PH</td>\n",
       "      <td>2016-06-15</td>\n",
       "      <td>2018-01-30</td>\n",
       "      <td>MULTIPOLYGON (((121.98390 20.42140, 121.98351 ...</td>\n",
       "    </tr>\n",
       "    <tr>\n",
       "      <th>1</th>\n",
       "      <td>0.982948</td>\n",
       "      <td>0.007748</td>\n",
       "      <td>Itbayat</td>\n",
       "      <td>PH020902000</td>\n",
       "      <td>None</td>\n",
       "      <td>None</td>\n",
       "      <td>None</td>\n",
       "      <td>Batanes</td>\n",
       "      <td>PH020900000</td>\n",
       "      <td>Region II</td>\n",
       "      <td>PH020000000</td>\n",
       "      <td>Philippines (the)</td>\n",
       "      <td>PH</td>\n",
       "      <td>2016-06-15</td>\n",
       "      <td>2018-01-30</td>\n",
       "      <td>MULTIPOLYGON (((121.93822 20.69659, 121.93820 ...</td>\n",
       "    </tr>\n",
       "    <tr>\n",
       "      <th>2</th>\n",
       "      <td>0.192480</td>\n",
       "      <td>0.001272</td>\n",
       "      <td>Ivana</td>\n",
       "      <td>PH020903000</td>\n",
       "      <td>None</td>\n",
       "      <td>None</td>\n",
       "      <td>None</td>\n",
       "      <td>Batanes</td>\n",
       "      <td>PH020900000</td>\n",
       "      <td>Region II</td>\n",
       "      <td>PH020000000</td>\n",
       "      <td>Philippines (the)</td>\n",
       "      <td>PH</td>\n",
       "      <td>2016-06-15</td>\n",
       "      <td>2018-01-30</td>\n",
       "      <td>MULTIPOLYGON (((121.93755 20.41184, 121.94070 ...</td>\n",
       "    </tr>\n",
       "    <tr>\n",
       "      <th>3</th>\n",
       "      <td>0.218340</td>\n",
       "      <td>0.001000</td>\n",
       "      <td>Mahatao</td>\n",
       "      <td>PH020904000</td>\n",
       "      <td>None</td>\n",
       "      <td>None</td>\n",
       "      <td>None</td>\n",
       "      <td>Batanes</td>\n",
       "      <td>PH020900000</td>\n",
       "      <td>Region II</td>\n",
       "      <td>PH020000000</td>\n",
       "      <td>Philippines (the)</td>\n",
       "      <td>PH</td>\n",
       "      <td>2016-06-15</td>\n",
       "      <td>2018-01-30</td>\n",
       "      <td>MULTIPOLYGON (((121.97060 20.41905, 121.97027 ...</td>\n",
       "    </tr>\n",
       "    <tr>\n",
       "      <th>4</th>\n",
       "      <td>0.498514</td>\n",
       "      <td>0.003545</td>\n",
       "      <td>Sabtang</td>\n",
       "      <td>PH020905000</td>\n",
       "      <td>None</td>\n",
       "      <td>None</td>\n",
       "      <td>None</td>\n",
       "      <td>Batanes</td>\n",
       "      <td>PH020900000</td>\n",
       "      <td>Region II</td>\n",
       "      <td>PH020000000</td>\n",
       "      <td>Philippines (the)</td>\n",
       "      <td>PH</td>\n",
       "      <td>2016-06-15</td>\n",
       "      <td>2018-01-30</td>\n",
       "      <td>MULTIPOLYGON (((121.80941 20.33665, 121.80995 ...</td>\n",
       "    </tr>\n",
       "    <tr>\n",
       "      <th>...</th>\n",
       "      <td>...</td>\n",
       "      <td>...</td>\n",
       "      <td>...</td>\n",
       "      <td>...</td>\n",
       "      <td>...</td>\n",
       "      <td>...</td>\n",
       "      <td>...</td>\n",
       "      <td>...</td>\n",
       "      <td>...</td>\n",
       "      <td>...</td>\n",
       "      <td>...</td>\n",
       "      <td>...</td>\n",
       "      <td>...</td>\n",
       "      <td>...</td>\n",
       "      <td>...</td>\n",
       "      <td>...</td>\n",
       "    </tr>\n",
       "    <tr>\n",
       "      <th>88</th>\n",
       "      <td>0.722393</td>\n",
       "      <td>0.015999</td>\n",
       "      <td>Cabarroguis</td>\n",
       "      <td>PH025702000</td>\n",
       "      <td>None</td>\n",
       "      <td>Capital</td>\n",
       "      <td>None</td>\n",
       "      <td>Quirino</td>\n",
       "      <td>PH025700000</td>\n",
       "      <td>Region II</td>\n",
       "      <td>PH020000000</td>\n",
       "      <td>Philippines (the)</td>\n",
       "      <td>PH</td>\n",
       "      <td>2016-06-15</td>\n",
       "      <td>2018-01-30</td>\n",
       "      <td>MULTIPOLYGON (((121.55018 16.53115, 121.55010 ...</td>\n",
       "    </tr>\n",
       "    <tr>\n",
       "      <th>89</th>\n",
       "      <td>0.805359</td>\n",
       "      <td>0.024370</td>\n",
       "      <td>Diffun</td>\n",
       "      <td>PH025703000</td>\n",
       "      <td>None</td>\n",
       "      <td>None</td>\n",
       "      <td>None</td>\n",
       "      <td>Quirino</td>\n",
       "      <td>PH025700000</td>\n",
       "      <td>Region II</td>\n",
       "      <td>PH020000000</td>\n",
       "      <td>Philippines (the)</td>\n",
       "      <td>PH</td>\n",
       "      <td>2016-06-15</td>\n",
       "      <td>2018-01-30</td>\n",
       "      <td>MULTIPOLYGON (((121.57589 16.59786, 121.56753 ...</td>\n",
       "    </tr>\n",
       "    <tr>\n",
       "      <th>90</th>\n",
       "      <td>1.452322</td>\n",
       "      <td>0.065177</td>\n",
       "      <td>Maddela</td>\n",
       "      <td>PH025704000</td>\n",
       "      <td>None</td>\n",
       "      <td>None</td>\n",
       "      <td>None</td>\n",
       "      <td>Quirino</td>\n",
       "      <td>PH025700000</td>\n",
       "      <td>Region II</td>\n",
       "      <td>PH020000000</td>\n",
       "      <td>Philippines (the)</td>\n",
       "      <td>PH</td>\n",
       "      <td>2016-06-15</td>\n",
       "      <td>2018-01-30</td>\n",
       "      <td>MULTIPOLYGON (((121.81960 16.22623, 121.78944 ...</td>\n",
       "    </tr>\n",
       "    <tr>\n",
       "      <th>91</th>\n",
       "      <td>0.323976</td>\n",
       "      <td>0.004247</td>\n",
       "      <td>Saguday</td>\n",
       "      <td>PH025705000</td>\n",
       "      <td>None</td>\n",
       "      <td>None</td>\n",
       "      <td>None</td>\n",
       "      <td>Quirino</td>\n",
       "      <td>PH025700000</td>\n",
       "      <td>Region II</td>\n",
       "      <td>PH020000000</td>\n",
       "      <td>Philippines (the)</td>\n",
       "      <td>PH</td>\n",
       "      <td>2016-06-15</td>\n",
       "      <td>2018-01-30</td>\n",
       "      <td>MULTIPOLYGON (((121.57589 16.59786, 121.57604 ...</td>\n",
       "    </tr>\n",
       "    <tr>\n",
       "      <th>92</th>\n",
       "      <td>1.647299</td>\n",
       "      <td>0.100533</td>\n",
       "      <td>Nagtipunan</td>\n",
       "      <td>PH025706000</td>\n",
       "      <td>None</td>\n",
       "      <td>None</td>\n",
       "      <td>None</td>\n",
       "      <td>Quirino</td>\n",
       "      <td>PH025700000</td>\n",
       "      <td>Region II</td>\n",
       "      <td>PH020000000</td>\n",
       "      <td>Philippines (the)</td>\n",
       "      <td>PH</td>\n",
       "      <td>2016-06-15</td>\n",
       "      <td>2018-01-30</td>\n",
       "      <td>MULTIPOLYGON (((121.81960 16.22623, 121.78125 ...</td>\n",
       "    </tr>\n",
       "  </tbody>\n",
       "</table>\n",
       "<p>93 rows × 16 columns</p>\n",
       "</div>"
      ],
      "text/plain": [
       "    Shape_Leng  Shape_Area      ADM3_EN   ADM3_PCODE ADM3_REF ADM3ALT1EN  \\\n",
       "0     0.337859    0.002899        Basco  PH020901000     None    Capital   \n",
       "1     0.982948    0.007748      Itbayat  PH020902000     None       None   \n",
       "2     0.192480    0.001272        Ivana  PH020903000     None       None   \n",
       "3     0.218340    0.001000      Mahatao  PH020904000     None       None   \n",
       "4     0.498514    0.003545      Sabtang  PH020905000     None       None   \n",
       "..         ...         ...          ...          ...      ...        ...   \n",
       "88    0.722393    0.015999  Cabarroguis  PH025702000     None    Capital   \n",
       "89    0.805359    0.024370       Diffun  PH025703000     None       None   \n",
       "90    1.452322    0.065177      Maddela  PH025704000     None       None   \n",
       "91    0.323976    0.004247      Saguday  PH025705000     None       None   \n",
       "92    1.647299    0.100533   Nagtipunan  PH025706000     None       None   \n",
       "\n",
       "   ADM3ALT2EN  ADM2_EN   ADM2_PCODE    ADM1_EN   ADM1_PCODE  \\\n",
       "0        None  Batanes  PH020900000  Region II  PH020000000   \n",
       "1        None  Batanes  PH020900000  Region II  PH020000000   \n",
       "2        None  Batanes  PH020900000  Region II  PH020000000   \n",
       "3        None  Batanes  PH020900000  Region II  PH020000000   \n",
       "4        None  Batanes  PH020900000  Region II  PH020000000   \n",
       "..        ...      ...          ...        ...          ...   \n",
       "88       None  Quirino  PH025700000  Region II  PH020000000   \n",
       "89       None  Quirino  PH025700000  Region II  PH020000000   \n",
       "90       None  Quirino  PH025700000  Region II  PH020000000   \n",
       "91       None  Quirino  PH025700000  Region II  PH020000000   \n",
       "92       None  Quirino  PH025700000  Region II  PH020000000   \n",
       "\n",
       "              ADM0_EN ADM0_PCODE        date     validOn  \\\n",
       "0   Philippines (the)         PH  2016-06-15  2018-01-30   \n",
       "1   Philippines (the)         PH  2016-06-15  2018-01-30   \n",
       "2   Philippines (the)         PH  2016-06-15  2018-01-30   \n",
       "3   Philippines (the)         PH  2016-06-15  2018-01-30   \n",
       "4   Philippines (the)         PH  2016-06-15  2018-01-30   \n",
       "..                ...        ...         ...         ...   \n",
       "88  Philippines (the)         PH  2016-06-15  2018-01-30   \n",
       "89  Philippines (the)         PH  2016-06-15  2018-01-30   \n",
       "90  Philippines (the)         PH  2016-06-15  2018-01-30   \n",
       "91  Philippines (the)         PH  2016-06-15  2018-01-30   \n",
       "92  Philippines (the)         PH  2016-06-15  2018-01-30   \n",
       "\n",
       "                                             geometry  \n",
       "0   MULTIPOLYGON (((121.98390 20.42140, 121.98351 ...  \n",
       "1   MULTIPOLYGON (((121.93822 20.69659, 121.93820 ...  \n",
       "2   MULTIPOLYGON (((121.93755 20.41184, 121.94070 ...  \n",
       "3   MULTIPOLYGON (((121.97060 20.41905, 121.97027 ...  \n",
       "4   MULTIPOLYGON (((121.80941 20.33665, 121.80995 ...  \n",
       "..                                                ...  \n",
       "88  MULTIPOLYGON (((121.55018 16.53115, 121.55010 ...  \n",
       "89  MULTIPOLYGON (((121.57589 16.59786, 121.56753 ...  \n",
       "90  MULTIPOLYGON (((121.81960 16.22623, 121.78944 ...  \n",
       "91  MULTIPOLYGON (((121.57589 16.59786, 121.57604 ...  \n",
       "92  MULTIPOLYGON (((121.81960 16.22623, 121.78125 ...  \n",
       "\n",
       "[93 rows x 16 columns]"
      ]
     },
     "execution_count": 8,
     "metadata": {},
     "output_type": "execute_result"
    }
   ],
   "source": [
    "import geopandas as gpd\n",
    "# Importing File\n",
    "bdy_gdf = gpd.read_file('municity_boundaries.geojson')\n",
    "bdy_gdf"
   ]
  },
  {
   "cell_type": "code",
   "execution_count": 9,
   "id": "b216df24",
   "metadata": {},
   "outputs": [
    {
     "data": {
      "text/plain": [
       "<AxesSubplot:>"
      ]
     },
     "execution_count": 9,
     "metadata": {},
     "output_type": "execute_result"
    },
    {
     "data": {
      "image/png": "[encoded data removed]",
      "text/plain": [
       "<Figure size 432x288 with 1 Axes>"
      ]
     },
     "metadata": {
      "needs_background": "light"
     },
     "output_type": "display_data"
    }
   ],
   "source": [
    "# visualizing map\n",
    "bdy_gdf.plot()"
   ]
  },
  {
   "cell_type": "code",
   "execution_count": 10,
   "id": "758c426e",
   "metadata": {},
   "outputs": [
    {
     "data": {
      "text/plain": [
       "<AxesSubplot:>"
      ]
     },
     "execution_count": 10,
     "metadata": {},
     "output_type": "execute_result"
    },
    {
     "data": {
      "image/png": "[encoded data removed]",
      "text/plain": [
       "<Figure size 432x288 with 1 Axes>"
      ]
     },
     "metadata": {
      "needs_background": "light"
     },
     "output_type": "display_data"
    },
    {
     "data": {
      "image/png": "[encoded data removed]",
      "text/plain": [
       "<Figure size 432x288 with 1 Axes>"
      ]
     },
     "metadata": {
      "needs_background": "light"
     },
     "output_type": "display_data"
    }
   ],
   "source": [
    "# creating choropleth map / heatmap\n",
    "import numpy as np\n",
    "\n",
    "# Setting our plot\n",
    "\n",
    "# Setting a seed allows you to get the same \"random\" numbers that we do\n",
    "# This is really nice for testing, so you can compare results\n",
    "np.random.seed(101)\n",
    "\n",
    "# randint(LB, UB, num_elements)\n",
    "series = np.random.randint(0,100,len(bdy_gdf))\n",
    "bdy_gdf['random_count'] = series\n",
    "\n",
    "# plot\n",
    "bdy_gdf.plot('random_count')\n",
    "\n",
    "# changing color scale. reference: https://matplotlib.org/stable/tutorials/colors/colormaps.html\n",
    "bdy_gdf.plot('random_count', cmap='Blues') #colormap"
   ]
  },
  {
   "cell_type": "code",
   "execution_count": 11,
   "id": "b5f929fd",
   "metadata": {},
   "outputs": [
    {
     "data": {
      "text/plain": [
       "<AxesSubplot:>"
      ]
     },
     "execution_count": 11,
     "metadata": {},
     "output_type": "execute_result"
    },
    {
     "data": {
      "image/png": "[encoded data removed]",
      "text/plain": [
       "<Figure size 432x288 with 1 Axes>"
      ]
     },
     "metadata": {
      "needs_background": "light"
     },
     "output_type": "display_data"
    }
   ],
   "source": [
    "# converting dataframes with coordinates to geodataframes\n",
    "evac_df = pd.read_csv('./evacuation_sites.csv')\n",
    "\n",
    "evac_df = evac_df.loc[evac_df['latitude']>0] #trimming latitude out of bound / dataset error\n",
    "\n",
    "## Note, we need to specify the crs = Coordinate Reference System -> dictates projection type. Normally used: epsg:4326\n",
    "evac_gdf = gpd.GeoDataFrame(evac_df, geometry=gpd.points_from_xy(evac_df.longitude, evac_df.latitude), crs='epsg:4326')\n",
    "evac_gdf.plot()"
   ]
  },
  {
   "cell_type": "code",
   "execution_count": 12,
   "id": "103aed4b",
   "metadata": {},
   "outputs": [
    {
     "data": {
      "text/plain": [
       "<AxesSubplot:>"
      ]
     },
     "execution_count": 12,
     "metadata": {},
     "output_type": "execute_result"
    },
    {
     "data": {
      "image/png": "[encoded data removed]",
      "text/plain": [
       "<Figure size 432x288 with 1 Axes>"
      ]
     },
     "metadata": {
      "needs_background": "light"
     },
     "output_type": "display_data"
    }
   ],
   "source": [
    "# overlaying geodataframe layers\n",
    "import matplotlib.pyplot as plt\n",
    "\n",
    "fig, ax = plt.subplots()\n",
    "#bdy_gdf.boundary.plot(ax=ax)\n",
    "\n",
    "# since evacuation site dataset is only available for ilagan\n",
    "# we try to trim the geodataframe to scope only ilagan\n",
    "ilagan_gdf = bdy_gdf[bdy_gdf['ADM3_EN'].str.contains('Ilagan')]\n",
    "\n",
    "# 1st plot\n",
    "ilagan_gdf.plot(ax=ax)\n",
    "\n",
    "# 2nd plot\n",
    "evac_gdf.plot(ax=ax, color='black', markersize=5)"
   ]
  },
  {
   "cell_type": "code",
   "execution_count": 13,
   "id": "0bf0a65c",
   "metadata": {},
   "outputs": [
    {
     "data": {
      "text/plain": [
       "<AxesSubplot:>"
      ]
     },
     "execution_count": 13,
     "metadata": {},
     "output_type": "execute_result"
    },
    {
     "data": {
      "image/png": "[encoded data removed]",
      "text/plain": [
       "<Figure size 432x288 with 1 Axes>"
      ]
     },
     "metadata": {
      "needs_background": "light"
     },
     "output_type": "display_data"
    }
   ],
   "source": [
    "bdy_gdf[(bdy_gdf['ADM3_EN'].str.contains('Cauayan')) | (bdy_gdf['ADM3_EN'].str.contains('Ilagan'))].plot()"
   ]
  },
  {
   "cell_type": "markdown",
   "id": "127ceb9e",
   "metadata": {},
   "source": [
    "### Basic Spatial Operations\n",
    "\n",
    "<img src=\"https://geopandas.org/_images/overlay_operations.png\">"
   ]
  },
  {
   "cell_type": "code",
   "execution_count": 14,
   "id": "aab0f611",
   "metadata": {},
   "outputs": [
    {
     "data": {
      "text/html": [
       "<div>\n",
       "<style scoped>\n",
       "    .dataframe tbody tr th:only-of-type {\n",
       "        vertical-align: middle;\n",
       "    }\n",
       "\n",
       "    .dataframe tbody tr th {\n",
       "        vertical-align: top;\n",
       "    }\n",
       "\n",
       "    .dataframe thead th {\n",
       "        text-align: right;\n",
       "    }\n",
       "</style>\n",
       "<table border=\"1\" class=\"dataframe\">\n",
       "  <thead>\n",
       "    <tr style=\"text-align: right;\">\n",
       "      <th></th>\n",
       "      <th>a</th>\n",
       "      <th>b</th>\n",
       "    </tr>\n",
       "  </thead>\n",
       "  <tbody>\n",
       "    <tr>\n",
       "      <th>0</th>\n",
       "      <td>1</td>\n",
       "      <td>3</td>\n",
       "    </tr>\n",
       "    <tr>\n",
       "      <th>1</th>\n",
       "      <td>2</td>\n",
       "      <td>4</td>\n",
       "    </tr>\n",
       "  </tbody>\n",
       "</table>\n",
       "</div>"
      ],
      "text/plain": [
       "   a  b\n",
       "0  1  3\n",
       "1  2  4"
      ]
     },
     "execution_count": 14,
     "metadata": {},
     "output_type": "execute_result"
    }
   ],
   "source": [
    "df = pd.DataFrame({'a' : [1,2], 'b': [3,4]}) \n",
    "df\n",
    "# a | b\n",
    "# 1 | 3\n",
    "# 2 | 4\n"
   ]
  },
  {
   "cell_type": "code",
   "execution_count": 15,
   "id": "8b7e0bdb",
   "metadata": {},
   "outputs": [
    {
     "data": {
      "image/png": "[encoded data removed]",
      "text/plain": [
       "<Figure size 432x288 with 1 Axes>"
      ]
     },
     "metadata": {
      "needs_background": "light"
     },
     "output_type": "display_data"
    },
    {
     "data": {
      "image/png": "[encoded data removed]",
      "text/plain": [
       "<Figure size 432x288 with 1 Axes>"
      ]
     },
     "metadata": {
      "needs_background": "light"
     },
     "output_type": "display_data"
    }
   ],
   "source": [
    "from shapely.geometry import Polygon\n",
    "# preparing shapes\n",
    "\n",
    "polys1 = gpd.GeoSeries([Polygon([(0,0), (2,0), (2,2), (0,2)]), \n",
    "                        Polygon([(2,2), (4,2), (4,4), (2,4)])])\n",
    "\n",
    "\n",
    "polys2 = gpd.GeoSeries([Polygon([(1,1), (3,1), (3,3), (1,3)]), \n",
    "                        Polygon([(3,3), (5,3), (5,5), (3,5)])])\n",
    "\n",
    "\n",
    "gdf1 = gpd.GeoDataFrame({'geometry': polys1})\n",
    "gdf2 = gpd.GeoDataFrame({'geometry': polys2})\n",
    "\n",
    "gdf1.plot()\n",
    "\n",
    "ax = gdf1.plot(color='red');\n",
    "gdf2.plot(ax=ax, color='green', alpha=0.5);"
   ]
  },
  {
   "cell_type": "code",
   "execution_count": 16,
   "id": "cdc066e8",
   "metadata": {},
   "outputs": [
    {
     "data": {
      "text/plain": [
       "<AxesSubplot:>"
      ]
     },
     "execution_count": 16,
     "metadata": {},
     "output_type": "execute_result"
    },
    {
     "data": {
      "image/png": "[encoded data removed]",
      "text/plain": [
       "<Figure size 432x288 with 1 Axes>"
      ]
     },
     "metadata": {
      "needs_background": "light"
     },
     "output_type": "display_data"
    }
   ],
   "source": [
    "# spatial operations\n",
    "res_union = gpd.overlay(gdf1, gdf2, how='union')\n",
    "res_union.plot()"
   ]
  },
  {
   "cell_type": "code",
   "execution_count": 17,
   "id": "66676bca",
   "metadata": {},
   "outputs": [
    {
     "data": {
      "text/plain": [
       "<AxesSubplot:>"
      ]
     },
     "execution_count": 17,
     "metadata": {},
     "output_type": "execute_result"
    },
    {
     "data": {
      "image/png": "[encoded data removed]",
      "text/plain": [
       "<Figure size 432x288 with 1 Axes>"
      ]
     },
     "metadata": {
      "needs_background": "light"
     },
     "output_type": "display_data"
    }
   ],
   "source": [
    "res_intersection = gpd.overlay(gdf1, gdf2, how='intersection')\n",
    "res_intersection.plot()"
   ]
  },
  {
   "cell_type": "code",
   "execution_count": 18,
   "id": "bd491613",
   "metadata": {},
   "outputs": [
    {
     "data": {
      "text/plain": [
       "<AxesSubplot:>"
      ]
     },
     "execution_count": 18,
     "metadata": {},
     "output_type": "execute_result"
    },
    {
     "data": {
      "image/png": "[encoded data removed]",
      "text/plain": [
       "<Figure size 432x288 with 1 Axes>"
      ]
     },
     "metadata": {
      "needs_background": "light"
     },
     "output_type": "display_data"
    }
   ],
   "source": [
    "res_symdiff = gpd.overlay(gdf1, gdf2, how='symmetric_difference')\n",
    "res_symdiff.plot()"
   ]
  },
  {
   "cell_type": "code",
   "execution_count": 19,
   "id": "2585762f",
   "metadata": {},
   "outputs": [
    {
     "data": {
      "text/plain": [
       "<AxesSubplot:>"
      ]
     },
     "execution_count": 19,
     "metadata": {},
     "output_type": "execute_result"
    },
    {
     "data": {
      "image/png": "[encoded data removed]",
      "text/plain": [
       "<Figure size 432x288 with 1 Axes>"
      ]
     },
     "metadata": {
      "needs_background": "light"
     },
     "output_type": "display_data"
    }
   ],
   "source": [
    "res_identity = gpd.overlay(gdf1, gdf2, how='identity')\n",
    "res_identity.plot()"
   ]
  },
  {
   "cell_type": "markdown",
   "id": "4a581476",
   "metadata": {},
   "source": [
    "### Joins\n",
    "\n",
    "**Attribute Join**\n",
    "\n",
    "Attribute joins are accomplished using the merge method. In general, it is recommended to use the merge method called from the spatial dataset. With that said, the stand-alone merge function will work if the GeoDataFrame is in the left argument; if a DataFrame is in the left argument and a GeoDataFrame is in the right position, the result will no longer be a GeoDataFrame.\n",
    "\n",
    "**Spatial Join**\n",
    "Two geometry objects are merged based on their spatial relationship to one another.\n",
    "\n",
    "(Useful for non-type data types like polygon and point, polygon and line, etc)\n",
    "\n",
    "*In geopandas*\n",
    "sjoin() has two core arguments: how and op.\n",
    "\n",
    "op\n",
    "\n",
    "    * intersects\n",
    "    * contains\n",
    "    * within\n",
    "    * touches\n",
    "    * crosses\n",
    "    * overlaps\n",
    "\n",
    "how\n",
    "\n",
    "    * left: retain only the left_df geometry column\n",
    "    * right: retain only the right_df geometry column\n",
    "    * inner: use intersection of index values from both geodataframes; retain only the left_df geometry column"
   ]
  },
  {
   "cell_type": "code",
   "execution_count": 20,
   "id": "4446663f",
   "metadata": {},
   "outputs": [
    {
     "name": "stdout",
     "output_type": "stream",
     "text": [
      "type of gdf variable\n",
      "<class 'geopandas.geodataframe.GeoDataFrame'>\n",
      "columns of gdf\n",
      "Index(['name', 'pop_est', 'geometry'], dtype='object')\n",
      "type of df variable\n",
      "<class 'pandas.core.frame.DataFrame'>\n",
      "columns of df\n",
      "Index(['name', 'continent'], dtype='object')\n",
      "        name      continent\n",
      "0       Fiji        Oceania\n",
      "1   Tanzania         Africa\n",
      "2  W. Sahara         Africa\n",
      "3     Canada  North America\n",
      "Index(['name', 'pop_est', 'geometry', 'continent'], dtype='object')\n",
      "Index(['name', 'continent', 'pop_est', 'geometry'], dtype='object')\n"
     ]
    },
    {
     "data": {
      "image/png": "[encoded data removed]",
      "text/plain": [
       "<Figure size 432x288 with 1 Axes>"
      ]
     },
     "metadata": {
      "needs_background": "light"
     },
     "output_type": "display_data"
    }
   ],
   "source": [
    "# Attribute join\n",
    "import geopandas as gpd\n",
    "import pandas as pd\n",
    "# setup\n",
    "world = gpd.read_file(gpd.datasets.get_path('naturalearth_lowres')) #gdf\n",
    "\n",
    "gdf = world[['name', 'pop_est', 'geometry']]\n",
    "df = pd.DataFrame(world[['name', 'continent']])\n",
    "\n",
    "print(\"type of gdf variable\")\n",
    "print(type(gdf))\n",
    "\n",
    "print(\"columns of gdf\")\n",
    "print(gdf.columns)\n",
    "\n",
    "print(\"type of df variable\")\n",
    "print(type(df))\n",
    "\n",
    "print(\"columns of df\")\n",
    "print(df.columns)\n",
    "print(df.head(4))\n",
    "\n",
    "# actual analysis / application\n",
    "# left = geodataframe, right=dataframe\n",
    "merged_gdf = gdf.merge(df, on='name')\n",
    "\n",
    "# merged_gdf is still plottable\n",
    "merged_gdf.plot()\n",
    "\n",
    "type(merged_gdf)\n",
    "\n",
    "###\n",
    "gdf_over_df = gdf.merge(df, on='name')\n",
    "df_over_gdf = df.merge(gdf, on='name')\n",
    "\n",
    "print(gdf_over_df.columns)\n",
    "print(df_over_gdf.columns)"
   ]
  },
  {
   "cell_type": "code",
   "execution_count": 36,
   "id": "d2ba7737",
   "metadata": {},
   "outputs": [
    {
     "name": "stdout",
     "output_type": "stream",
     "text": [
      "Index(['id', 'name', 'latitude', 'longitude', 'no_of_family',\n",
      "       'no_of_individuals', 'no_storey_floors', 'no_of_rooms',\n",
      "       'no_of_toilet_for_women', 'no_of_toilet_for_men', 'common_cr',\n",
      "       'no_of_bath_shower_area_for_women', 'no_of_bath_shower_area_for_men',\n",
      "       'water_sources', 'breastfeeding_area', 'with_storage', 'floor_area',\n",
      "       'used_as_covid19_ttmf', 'inspected_safe', 'geometry'],\n",
      "      dtype='object')\n",
      "Index(['Shape_Leng', 'Shape_Area', 'ADM3_EN', 'ADM3_PCODE', 'ADM3_REF',\n",
      "       'ADM3ALT1EN', 'ADM3ALT2EN', 'ADM2_EN', 'ADM2_PCODE', 'ADM1_EN',\n",
      "       'ADM1_PCODE', 'ADM0_EN', 'ADM0_PCODE', 'date', 'validOn', 'geometry',\n",
      "       'random_count'],\n",
      "      dtype='object')\n",
      "Index(['id', 'name', 'latitude', 'longitude', 'no_of_family',\n",
      "       'no_of_individuals', 'no_storey_floors', 'no_of_rooms',\n",
      "       'no_of_toilet_for_women', 'no_of_toilet_for_men', 'common_cr',\n",
      "       'no_of_bath_shower_area_for_women', 'no_of_bath_shower_area_for_men',\n",
      "       'water_sources', 'breastfeeding_area', 'with_storage', 'floor_area',\n",
      "       'used_as_covid19_ttmf', 'inspected_safe', 'geometry', 'index_right',\n",
      "       'Shape_Leng', 'Shape_Area', 'ADM3_EN', 'ADM3_PCODE', 'ADM3_REF',\n",
      "       'ADM3ALT1EN', 'ADM3ALT2EN', 'ADM2_EN', 'ADM2_PCODE', 'ADM1_EN',\n",
      "       'ADM1_PCODE', 'ADM0_EN', 'ADM0_PCODE', 'date', 'validOn',\n",
      "       'random_count'],\n",
      "      dtype='object')\n"
     ]
    }
   ],
   "source": [
    "# Spatial Join\n",
    "\n",
    "# evac_gdf does not have information regarding which what city are these building located\n",
    "print(evac_gdf.columns)\n",
    "print(bdy_gdf.columns)\n",
    "\n",
    "# how can we see in which cities they fall under like how they are bounded in flat maps?\n",
    "sjoin_gdf = gpd.sjoin(evac_gdf, bdy_gdf, op='intersects', how='left')\n",
    "print(sjoin_gdf.columns)"
   ]
  },
  {
   "cell_type": "code",
   "execution_count": 38,
   "id": "6ad6fc48",
   "metadata": {},
   "outputs": [
    {
     "data": {
      "text/plain": [
       "ADM3_EN\n",
       "Gamu            1\n",
       "Ilagan City    67\n",
       "dtype: int64"
      ]
     },
     "execution_count": 38,
     "metadata": {},
     "output_type": "execute_result"
    }
   ],
   "source": [
    "sjoin_gdf.groupby('ADM3_EN').size()"
   ]
  },
  {
   "cell_type": "code",
   "execution_count": 32,
   "id": "486d9357",
   "metadata": {},
   "outputs": [
    {
     "data": {
      "text/plain": [
       "<AxesSubplot:>"
      ]
     },
     "execution_count": 32,
     "metadata": {},
     "output_type": "execute_result"
    },
    {
     "data": {
      "image/png": "[encoded data removed]",
      "text/plain": [
       "<Figure size 432x288 with 1 Axes>"
      ]
     },
     "metadata": {
      "needs_background": "light"
     },
     "output_type": "display_data"
    }
   ],
   "source": [
    "bdy_gdf.head(5)\n",
    "bdy_gdf.plot()"
   ]
  },
  {
   "cell_type": "code",
   "execution_count": 42,
   "id": "65685459",
   "metadata": {},
   "outputs": [
    {
     "data": {
      "text/plain": [
       "<AxesSubplot:>"
      ]
     },
     "execution_count": 42,
     "metadata": {},
     "output_type": "execute_result"
    },
    {
     "data": {
      "image/png": "[encoded data removed]",
      "text/plain": [
       "<Figure size 432x288 with 1 Axes>"
      ]
     },
     "metadata": {
      "needs_background": "light"
     },
     "output_type": "display_data"
    },
    {
     "data": {
      "image/png": "[encoded data removed]",
      "text/plain": [
       "<Figure size 432x288 with 1 Axes>"
      ]
     },
     "metadata": {
      "needs_background": "light"
     },
     "output_type": "display_data"
    },
    {
     "data": {
      "image/png": "[encoded data removed]",
      "text/plain": [
       "<Figure size 432x288 with 1 Axes>"
      ]
     },
     "metadata": {
      "needs_background": "light"
     },
     "output_type": "display_data"
    },
    {
     "data": {
      "image/png": "[encoded data removed]",
      "text/plain": [
       "<Figure size 432x288 with 1 Axes>"
      ]
     },
     "metadata": {
      "needs_background": "light"
     },
     "output_type": "display_data"
    }
   ],
   "source": [
    "import geopandas as gpd\n",
    "from shapely.geometry import Polygon\n",
    "\n",
    "square = [(1,0), (4, 0), (4, 3), (1,3), (1,0)]\n",
    "triangle_low = [(0,0), (5, 0), (5/2, 3.5), (0,0)]\n",
    "triangle_up = [(0, 2), (5, 2), (2.5, 4.5), (0, 2)]\n",
    "\n",
    "# initialized geodataframe\n",
    "sq_gdf = gpd.GeoDataFrame({'a':[0], 'geometry':Polygon(square)})\n",
    "low_gdf = gpd.GeoDataFrame({'a':[0], 'geometry':Polygon(triangle_low)})\n",
    "up_gdf = gpd.GeoDataFrame({'a':[0], 'geometry':Polygon(triangle_up)})\n",
    "\n",
    "sq_gdf.plot()\n",
    "low_gdf.plot()\n",
    "up_gdf.plot()\n",
    "\n",
    "res_union1 = gpd.overlay(sq_gdf, low_gdf, how='union')\n",
    "res_union2 = gpd.overlay(res_union1, up_gdf, how='union')"
   ]
  },
  {
   "cell_type": "code",
   "execution_count": 45,
   "id": "c8f264b3",
   "metadata": {},
   "outputs": [
    {
     "data": {
      "text/plain": [
       "<AxesSubplot:>"
      ]
     },
     "execution_count": 45,
     "metadata": {},
     "output_type": "execute_result"
    },
    {
     "data": {
      "image/png": "[encoded data removed]",
      "text/plain": [
       "<Figure size 432x288 with 1 Axes>"
      ]
     },
     "metadata": {
      "needs_background": "light"
     },
     "output_type": "display_data"
    }
   ],
   "source": [
    "# another view of the hint\n",
    "\n",
    "res_union2.boundary.plot() #boundary.plot will force to only show boundary and remove shape fills"
   ]
  },
  {
   "cell_type": "markdown",
   "id": "57ec78f1",
   "metadata": {},
   "source": [
    "# Exercises\n",
    "\n",
    "\n",
    "**Spatial Operations**\n",
    "\n",
    "Copy the code block below and run it:\n",
    "\n",
    "```python\n",
    "import geopandas as gpd\n",
    "from shapely.geometry import Polygon\n",
    "\n",
    "square = [(1,0), (4, 0), (4, 3), (1,3), (1,0)]\n",
    "triangle_low = [(0,0), (5, 0), (5/2, 3.5), (0,0)]\n",
    "triangle_up = [(0, 2), (5, 2), (2.5, 4.5), (0, 2)]\n",
    "\n",
    "# initialized geodataframe\n",
    "sq_gdf = gpd.GeoDataFrame({'a':[0], 'geometry':Polygon(square)})\n",
    "low_gdf = gpd.GeoDataFrame({'a':[0], 'geometry':Polygon(triangle_low)})\n",
    "up_gdf = gpd.GeoDataFrame({'a':[0], 'geometry':Polygon(tria_up)})\n",
    "```\n",
    "\n",
    "Using the geodataframes initialized in the code block, use the basic spatial operations to create the following shapes:\n",
    "\n",
    "* House\n",
    "    \n",
    "![](./media/house.png)\n",
    "\n",
    "* Hexagon\n",
    "\n",
    "![](./media/trapezoid.png)\n",
    "\n",
    "* Hut\n",
    "![](./media/hut.png)\n",
    "\n",
    "**Choropleth**\n",
    "\n",
    "* Given `province_boundaries.geojson` and `cv_cases.csv`)\n",
    "* Display the choropleth map for the accumulated cases per province\n",
    "\n",
    "![](./media/choropleth.png)\n",
    "\n"
   ]
  },
  {
   "cell_type": "code",
   "execution_count": 46,
   "id": "8ac61086",
   "metadata": {},
   "outputs": [],
   "source": [
    "# import the dataset\n",
    "# geojson -> geodataframe\n",
    "gdf = gpd.read_file('province_boundaries.geojson')\n",
    "\n",
    "# csv -> dataframe\n",
    "df = pd.read_csv('cv_cases.csv')"
   ]
  },
  {
   "cell_type": "code",
   "execution_count": 66,
   "id": "3a77f5da",
   "metadata": {
    "scrolled": true
   },
   "outputs": [
    {
     "name": "stdout",
     "output_type": "stream",
     "text": [
      "['Batanes' 'Cagayan' 'Isabela' 'Nueva Vizcaya' 'Quirino']\n"
     ]
    },
    {
     "data": {
      "text/html": [
       "<div>\n",
       "<style scoped>\n",
       "    .dataframe tbody tr th:only-of-type {\n",
       "        vertical-align: middle;\n",
       "    }\n",
       "\n",
       "    .dataframe tbody tr th {\n",
       "        vertical-align: top;\n",
       "    }\n",
       "\n",
       "    .dataframe thead th {\n",
       "        text-align: right;\n",
       "    }\n",
       "</style>\n",
       "<table border=\"1\" class=\"dataframe\">\n",
       "  <thead>\n",
       "    <tr style=\"text-align: right;\">\n",
       "      <th></th>\n",
       "      <th>Shape_Leng</th>\n",
       "      <th>Shape_Area</th>\n",
       "      <th>ADM2_EN</th>\n",
       "      <th>ADM2_PCODE</th>\n",
       "      <th>ADM2_REF</th>\n",
       "      <th>ADM2ALT1EN</th>\n",
       "      <th>ADM2ALT2EN</th>\n",
       "      <th>ADM1_EN</th>\n",
       "      <th>ADM1_PCODE</th>\n",
       "      <th>ADM0_EN</th>\n",
       "      <th>ADM0_PCODE</th>\n",
       "      <th>date</th>\n",
       "      <th>validOn</th>\n",
       "      <th>geometry</th>\n",
       "    </tr>\n",
       "  </thead>\n",
       "  <tbody>\n",
       "    <tr>\n",
       "      <th>0</th>\n",
       "      <td>2.140564</td>\n",
       "      <td>0.017443</td>\n",
       "      <td>Batanes</td>\n",
       "      <td>PH020900000</td>\n",
       "      <td>None</td>\n",
       "      <td>None</td>\n",
       "      <td>None</td>\n",
       "      <td>Region II</td>\n",
       "      <td>PH020000000</td>\n",
       "      <td>Philippines (the)</td>\n",
       "      <td>PH</td>\n",
       "      <td>2016-06-15</td>\n",
       "      <td>2018-01-30</td>\n",
       "      <td>MULTIPOLYGON (((121.80941 20.33665, 121.80995 ...</td>\n",
       "    </tr>\n",
       "    <tr>\n",
       "      <th>1</th>\n",
       "      <td>10.518335</td>\n",
       "      <td>0.750946</td>\n",
       "      <td>Cagayan</td>\n",
       "      <td>PH021500000</td>\n",
       "      <td>None</td>\n",
       "      <td>None</td>\n",
       "      <td>None</td>\n",
       "      <td>Region II</td>\n",
       "      <td>PH020000000</td>\n",
       "      <td>Philippines (the)</td>\n",
       "      <td>PH</td>\n",
       "      <td>2016-06-15</td>\n",
       "      <td>2018-01-30</td>\n",
       "      <td>MULTIPOLYGON (((122.32754 18.24594, 122.32689 ...</td>\n",
       "    </tr>\n",
       "    <tr>\n",
       "      <th>2</th>\n",
       "      <td>5.588934</td>\n",
       "      <td>0.890507</td>\n",
       "      <td>Isabela</td>\n",
       "      <td>PH023100000</td>\n",
       "      <td>None</td>\n",
       "      <td>None</td>\n",
       "      <td>None</td>\n",
       "      <td>Region II</td>\n",
       "      <td>PH020000000</td>\n",
       "      <td>Philippines (the)</td>\n",
       "      <td>PH</td>\n",
       "      <td>2016-06-15</td>\n",
       "      <td>2018-01-30</td>\n",
       "      <td>MULTIPOLYGON (((122.46667 16.92135, 122.46735 ...</td>\n",
       "    </tr>\n",
       "    <tr>\n",
       "      <th>3</th>\n",
       "      <td>3.712481</td>\n",
       "      <td>0.348874</td>\n",
       "      <td>Nueva Vizcaya</td>\n",
       "      <td>PH025000000</td>\n",
       "      <td>None</td>\n",
       "      <td>None</td>\n",
       "      <td>None</td>\n",
       "      <td>Region II</td>\n",
       "      <td>PH020000000</td>\n",
       "      <td>Philippines (the)</td>\n",
       "      <td>PH</td>\n",
       "      <td>2016-06-15</td>\n",
       "      <td>2018-01-30</td>\n",
       "      <td>MULTIPOLYGON (((121.44575 16.63430, 121.43647 ...</td>\n",
       "    </tr>\n",
       "    <tr>\n",
       "      <th>4</th>\n",
       "      <td>2.976781</td>\n",
       "      <td>0.234041</td>\n",
       "      <td>Quirino</td>\n",
       "      <td>PH025700000</td>\n",
       "      <td>None</td>\n",
       "      <td>None</td>\n",
       "      <td>None</td>\n",
       "      <td>Region II</td>\n",
       "      <td>PH020000000</td>\n",
       "      <td>Philippines (the)</td>\n",
       "      <td>PH</td>\n",
       "      <td>2016-06-15</td>\n",
       "      <td>2018-01-30</td>\n",
       "      <td>MULTIPOLYGON (((122.05881 16.50925, 122.05222 ...</td>\n",
       "    </tr>\n",
       "  </tbody>\n",
       "</table>\n",
       "</div>"
      ],
      "text/plain": [
       "   Shape_Leng  Shape_Area        ADM2_EN   ADM2_PCODE ADM2_REF ADM2ALT1EN  \\\n",
       "0    2.140564    0.017443        Batanes  PH020900000     None       None   \n",
       "1   10.518335    0.750946        Cagayan  PH021500000     None       None   \n",
       "2    5.588934    0.890507        Isabela  PH023100000     None       None   \n",
       "3    3.712481    0.348874  Nueva Vizcaya  PH025000000     None       None   \n",
       "4    2.976781    0.234041        Quirino  PH025700000     None       None   \n",
       "\n",
       "  ADM2ALT2EN    ADM1_EN   ADM1_PCODE            ADM0_EN ADM0_PCODE  \\\n",
       "0       None  Region II  PH020000000  Philippines (the)         PH   \n",
       "1       None  Region II  PH020000000  Philippines (the)         PH   \n",
       "2       None  Region II  PH020000000  Philippines (the)         PH   \n",
       "3       None  Region II  PH020000000  Philippines (the)         PH   \n",
       "4       None  Region II  PH020000000  Philippines (the)         PH   \n",
       "\n",
       "         date     validOn                                           geometry  \n",
       "0  2016-06-15  2018-01-30  MULTIPOLYGON (((121.80941 20.33665, 121.80995 ...  \n",
       "1  2016-06-15  2018-01-30  MULTIPOLYGON (((122.32754 18.24594, 122.32689 ...  \n",
       "2  2016-06-15  2018-01-30  MULTIPOLYGON (((122.46667 16.92135, 122.46735 ...  \n",
       "3  2016-06-15  2018-01-30  MULTIPOLYGON (((121.44575 16.63430, 121.43647 ...  \n",
       "4  2016-06-15  2018-01-30  MULTIPOLYGON (((122.05881 16.50925, 122.05222 ...  "
      ]
     },
     "execution_count": 66,
     "metadata": {},
     "output_type": "execute_result"
    }
   ],
   "source": [
    "gdf.head(5) # ADM2_EN\n",
    "print(gdf['ADM2_EN'].unique())\n",
    "gdf.head(5)"
   ]
  },
  {
   "cell_type": "code",
   "execution_count": 54,
   "id": "a43fb27c",
   "metadata": {},
   "outputs": [
    {
     "name": "stdout",
     "output_type": "stream",
     "text": [
      "['Nueva Vizcaya' 'Isabela' 'Cagayan' 'Batanes' 'Quirino']\n"
     ]
    }
   ],
   "source": [
    "df.head(5) #PROVINCE\n",
    "print(df['PROVINCE'].unique())"
   ]
  },
  {
   "cell_type": "code",
   "execution_count": 79,
   "id": "b7e46cd3",
   "metadata": {},
   "outputs": [],
   "source": [
    "accumulated_cases_df = df.groupby(['PROVINCE']).size().reset_index()\n",
    "accumulated_cases_df.rename(columns={0:'cases_count'}, inplace=True)"
   ]
  },
  {
   "cell_type": "code",
   "execution_count": 80,
   "id": "5d6a3775",
   "metadata": {},
   "outputs": [],
   "source": [
    "merged_gdf = gdf.merge(accumulated_cases_df, left_on='ADM2_EN', right_on='PROVINCE')"
   ]
  },
  {
   "cell_type": "code",
   "execution_count": 81,
   "id": "b4447deb",
   "metadata": {},
   "outputs": [
    {
     "data": {
      "text/html": [
       "<div>\n",
       "<style scoped>\n",
       "    .dataframe tbody tr th:only-of-type {\n",
       "        vertical-align: middle;\n",
       "    }\n",
       "\n",
       "    .dataframe tbody tr th {\n",
       "        vertical-align: top;\n",
       "    }\n",
       "\n",
       "    .dataframe thead th {\n",
       "        text-align: right;\n",
       "    }\n",
       "</style>\n",
       "<table border=\"1\" class=\"dataframe\">\n",
       "  <thead>\n",
       "    <tr style=\"text-align: right;\">\n",
       "      <th></th>\n",
       "      <th>geometry</th>\n",
       "      <th>cases_count</th>\n",
       "      <th>PROVINCE</th>\n",
       "    </tr>\n",
       "  </thead>\n",
       "  <tbody>\n",
       "    <tr>\n",
       "      <th>0</th>\n",
       "      <td>MULTIPOLYGON (((121.80941 20.33665, 121.80995 ...</td>\n",
       "      <td>15</td>\n",
       "      <td>Batanes</td>\n",
       "    </tr>\n",
       "    <tr>\n",
       "      <th>1</th>\n",
       "      <td>MULTIPOLYGON (((122.32754 18.24594, 122.32689 ...</td>\n",
       "      <td>10361</td>\n",
       "      <td>Cagayan</td>\n",
       "    </tr>\n",
       "    <tr>\n",
       "      <th>2</th>\n",
       "      <td>MULTIPOLYGON (((122.46667 16.92135, 122.46735 ...</td>\n",
       "      <td>20750</td>\n",
       "      <td>Isabela</td>\n",
       "    </tr>\n",
       "    <tr>\n",
       "      <th>3</th>\n",
       "      <td>MULTIPOLYGON (((121.44575 16.63430, 121.43647 ...</td>\n",
       "      <td>3819</td>\n",
       "      <td>Nueva Vizcaya</td>\n",
       "    </tr>\n",
       "    <tr>\n",
       "      <th>4</th>\n",
       "      <td>MULTIPOLYGON (((122.05881 16.50925, 122.05222 ...</td>\n",
       "      <td>2131</td>\n",
       "      <td>Quirino</td>\n",
       "    </tr>\n",
       "  </tbody>\n",
       "</table>\n",
       "</div>"
      ],
      "text/plain": [
       "                                            geometry  cases_count  \\\n",
       "0  MULTIPOLYGON (((121.80941 20.33665, 121.80995 ...           15   \n",
       "1  MULTIPOLYGON (((122.32754 18.24594, 122.32689 ...        10361   \n",
       "2  MULTIPOLYGON (((122.46667 16.92135, 122.46735 ...        20750   \n",
       "3  MULTIPOLYGON (((121.44575 16.63430, 121.43647 ...         3819   \n",
       "4  MULTIPOLYGON (((122.05881 16.50925, 122.05222 ...         2131   \n",
       "\n",
       "        PROVINCE  \n",
       "0        Batanes  \n",
       "1        Cagayan  \n",
       "2        Isabela  \n",
       "3  Nueva Vizcaya  \n",
       "4        Quirino  "
      ]
     },
     "execution_count": 81,
     "metadata": {},
     "output_type": "execute_result"
    },
    {
     "data": {
      "image/png": "[encoded data removed]",
      "text/plain": [
       "<Figure size 432x288 with 1 Axes>"
      ]
     },
     "metadata": {
      "needs_background": "light"
     },
     "output_type": "display_data"
    }
   ],
   "source": [
    "map_gdf = merged_gdf[['geometry', 'cases_count', 'PROVINCE']]\n",
    "map_gdf.plot('cases_count', cmap='Reds')\n",
    "map_gdf\n",
    "\n",
    "# evaluating the dataframes\n",
    "# finding common values / identifying \"pk\", \"fk\"\n",
    "# aggregating dataframe by province and counting the number of cases per province\n",
    "# merged the geodataframe and dataframe\n",
    "# visualization # geodataframe -> map presentation; dataframe -> value for the choropleth map"
   ]
  },
  {
   "cell_type": "markdown",
   "id": "71d37b91",
   "metadata": {},
   "source": [
    "# Recap\n",
    "\n",
    "## Objectives\n",
    "\n",
    "* Install, setup, and run python applications\n",
    "* Learn and apply basic and advanced programming skills in core python\n",
    "* Learn and apply essential Data Science libraries used for data exploration, processing and transformation for further analysis\n",
    "* Acquire fundamental knowledge and common operations for Geospatial Analysis\n",
    "* Learn and apply Python Libraries for Geospatial Analysis"
   ]
  },
  {
   "cell_type": "markdown",
   "id": "c197f156",
   "metadata": {},
   "source": []
  }
 ],
 "metadata": {
  "kernelspec": {
   "display_name": "Python 3 (ipykernel)",
   "language": "python",
   "name": "python3"
  },
  "language_info": {
   "codemirror_mode": {
    "name": "ipython",
    "version": 3
   },
   "file_extension": ".py",
   "mimetype": "text/x-python",
   "name": "python",
   "nbconvert_exporter": "python",
   "pygments_lexer": "ipython3",
   "version": "3.8.11"
  }
 },
 "nbformat": 4,
 "nbformat_minor": 5
}
